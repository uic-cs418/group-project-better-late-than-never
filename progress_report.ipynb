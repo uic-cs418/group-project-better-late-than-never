{
 "cells": [
  {
   "cell_type": "code",
   "execution_count": 1,
   "id": "33c5cc2b-52d6-40f1-9700-12b322e38c33",
   "metadata": {},
   "outputs": [],
   "source": [
    "import pandas as pd\n",
    "import numpy as np\n",
    "import matplotlib.pyplot as plt\n",
    "import seaborn as sns\n",
    "import data_cleaning\n",
    "import review_score_analysis\n",
    "%matplotlib inline"
   ]
  },
  {
   "cell_type": "code",
   "execution_count": null,
   "id": "200a727f-0f12-4c5a-b7ec-605d3a8e3134",
   "metadata": {},
   "outputs": [],
   "source": [
    "# Progress Report: \n",
    "\n",
    "# Our project investigates Yelp restaurant data to find out what factors impact peoples review scores. We are mostly curious about how location, price range and reviews relate to user ratings. Our dataset comes from a Yelp Open Dataset. We have filtered it to mainly focus on restaurant businesses and their reviews. We are trying to uncover trends and test hypotheses such as: \"Do expensive places get better reviews\""
   ]
  },
  {
   "cell_type": "code",
   "execution_count": null,
   "id": "7cd6bb1f-675a-4266-865f-61cbf224acd1",
   "metadata": {},
   "outputs": [],
   "source": [
    "# Changes:\n",
    "\n",
    "# Almost everything has mostly gone according to plan. This is except for in regards to clustering. At first we had planned to group restaurants based on quality. Ultimately we decided clustering wasn't the right approach due to insufficient variables within the dataset. During our EDA we discovered a strong bias in the Yelp review data. The bias was that most reviews are either 1-star or 5-star, with not much in between. This interesting pattern affects how we analyze and model the data going forward. "
   ]
  },
  {
   "cell_type": "code",
   "execution_count": 3,
   "id": "6e49e789-d3a5-44ca-8666-293dd5c50960",
   "metadata": {},
   "outputs": [],
   "source": [
    "# Data Cleaning:\n",
    "\n",
    "# Adjust as needed, these dataframes are big. No, really\n",
    "chunk_size = 20_000\n",
    "\n",
    "restaurants_df = data_cleaning.filter_business_data(\"data/yelp_academic_dataset_business.json\", chunk_size)\n",
    "reviews_df = data_cleaning.filter_review_data(\"data/yelp_academic_dataset_review.json\", restaurants_df, chunk_size)\n"
   ]
  },
  {
   "cell_type": "code",
   "execution_count": 5,
   "id": "c9e8217a-b342-49f2-a0c6-5250d22d73f3",
   "metadata": {},
   "outputs": [
    {
     "name": "stdout",
     "output_type": "stream",
     "text": [
      "Total businesses: 27894\n",
      "Total reviews for these restaurants: 4371282\n"
     ]
    },
    {
     "data": {
      "text/html": [
       "<div>\n",
       "<style scoped>\n",
       "    .dataframe tbody tr th:only-of-type {\n",
       "        vertical-align: middle;\n",
       "    }\n",
       "\n",
       "    .dataframe tbody tr th {\n",
       "        vertical-align: top;\n",
       "    }\n",
       "\n",
       "    .dataframe thead th {\n",
       "        text-align: right;\n",
       "    }\n",
       "</style>\n",
       "<table border=\"1\" class=\"dataframe\">\n",
       "  <thead>\n",
       "    <tr style=\"text-align: right;\">\n",
       "      <th></th>\n",
       "      <th>review_id</th>\n",
       "      <th>user_id</th>\n",
       "      <th>business_id</th>\n",
       "      <th>stars</th>\n",
       "      <th>useful</th>\n",
       "      <th>funny</th>\n",
       "      <th>cool</th>\n",
       "      <th>text</th>\n",
       "      <th>date</th>\n",
       "      <th>avg_review_score</th>\n",
       "    </tr>\n",
       "  </thead>\n",
       "  <tbody>\n",
       "    <tr>\n",
       "      <th>0</th>\n",
       "      <td>KU_O5udG6zpxOg-VcAEodg</td>\n",
       "      <td>mh_-eMZ6K5RLWhZyISBhwA</td>\n",
       "      <td>XQfwVwDr-v0ZS3_CbbE5Xw</td>\n",
       "      <td>3</td>\n",
       "      <td>0</td>\n",
       "      <td>0</td>\n",
       "      <td>0</td>\n",
       "      <td>If you decide to eat here, just be aware it is...</td>\n",
       "      <td>2018-07-07 22:09:11</td>\n",
       "      <td>3.068571</td>\n",
       "    </tr>\n",
       "    <tr>\n",
       "      <th>1</th>\n",
       "      <td>saUsX_uimxRlCVr67Z4Jig</td>\n",
       "      <td>8g_iMtfSiwikVnbP2etR0A</td>\n",
       "      <td>YjUWPpI6HXG530lwP-fb2A</td>\n",
       "      <td>3</td>\n",
       "      <td>0</td>\n",
       "      <td>0</td>\n",
       "      <td>0</td>\n",
       "      <td>Family diner. Had the buffet. Eclectic assortm...</td>\n",
       "      <td>2014-02-05 20:30:30</td>\n",
       "      <td>3.458333</td>\n",
       "    </tr>\n",
       "    <tr>\n",
       "      <th>2</th>\n",
       "      <td>AqPFMleE6RsU23_auESxiA</td>\n",
       "      <td>_7bHUi9Uuf5__HHc_Q8guQ</td>\n",
       "      <td>kxX2SOes4o-D3ZQBkiMRfA</td>\n",
       "      <td>5</td>\n",
       "      <td>1</td>\n",
       "      <td>0</td>\n",
       "      <td>1</td>\n",
       "      <td>Wow!  Yummy, different,  delicious.   Our favo...</td>\n",
       "      <td>2015-01-04 00:01:03</td>\n",
       "      <td>4.184211</td>\n",
       "    </tr>\n",
       "    <tr>\n",
       "      <th>3</th>\n",
       "      <td>Sx8TMOWLNuJBWer-0pcmoA</td>\n",
       "      <td>bcjbaE6dDog4jkNY91ncLQ</td>\n",
       "      <td>e4Vwtrqf-wpJfwesgvdgxQ</td>\n",
       "      <td>4</td>\n",
       "      <td>1</td>\n",
       "      <td>0</td>\n",
       "      <td>1</td>\n",
       "      <td>Cute interior and owner (?) gave us tour of up...</td>\n",
       "      <td>2017-01-14 20:54:15</td>\n",
       "      <td>4.114286</td>\n",
       "    </tr>\n",
       "    <tr>\n",
       "      <th>4</th>\n",
       "      <td>JrIxlS1TzJ-iCu79ul40cQ</td>\n",
       "      <td>eUta8W_HdHMXPzLBBZhL1A</td>\n",
       "      <td>04UD14gamNjLY0IDYVhHJg</td>\n",
       "      <td>1</td>\n",
       "      <td>1</td>\n",
       "      <td>2</td>\n",
       "      <td>1</td>\n",
       "      <td>I am a long term frequent customer of this est...</td>\n",
       "      <td>2015-09-23 23:10:31</td>\n",
       "      <td>3.954225</td>\n",
       "    </tr>\n",
       "  </tbody>\n",
       "</table>\n",
       "</div>"
      ],
      "text/plain": [
       "                review_id                 user_id             business_id  \\\n",
       "0  KU_O5udG6zpxOg-VcAEodg  mh_-eMZ6K5RLWhZyISBhwA  XQfwVwDr-v0ZS3_CbbE5Xw   \n",
       "1  saUsX_uimxRlCVr67Z4Jig  8g_iMtfSiwikVnbP2etR0A  YjUWPpI6HXG530lwP-fb2A   \n",
       "2  AqPFMleE6RsU23_auESxiA  _7bHUi9Uuf5__HHc_Q8guQ  kxX2SOes4o-D3ZQBkiMRfA   \n",
       "3  Sx8TMOWLNuJBWer-0pcmoA  bcjbaE6dDog4jkNY91ncLQ  e4Vwtrqf-wpJfwesgvdgxQ   \n",
       "4  JrIxlS1TzJ-iCu79ul40cQ  eUta8W_HdHMXPzLBBZhL1A  04UD14gamNjLY0IDYVhHJg   \n",
       "\n",
       "   stars  useful  funny  cool  \\\n",
       "0      3       0      0     0   \n",
       "1      3       0      0     0   \n",
       "2      5       1      0     1   \n",
       "3      4       1      0     1   \n",
       "4      1       1      2     1   \n",
       "\n",
       "                                                text                date  \\\n",
       "0  If you decide to eat here, just be aware it is... 2018-07-07 22:09:11   \n",
       "1  Family diner. Had the buffet. Eclectic assortm... 2014-02-05 20:30:30   \n",
       "2  Wow!  Yummy, different,  delicious.   Our favo... 2015-01-04 00:01:03   \n",
       "3  Cute interior and owner (?) gave us tour of up... 2017-01-14 20:54:15   \n",
       "4  I am a long term frequent customer of this est... 2015-09-23 23:10:31   \n",
       "\n",
       "   avg_review_score  \n",
       "0          3.068571  \n",
       "1          3.458333  \n",
       "2          4.184211  \n",
       "3          4.114286  \n",
       "4          3.954225  "
      ]
     },
     "execution_count": 5,
     "metadata": {},
     "output_type": "execute_result"
    }
   ],
   "source": [
    "# EDA\n",
    "print(f\"Total businesses: {len(restaurants_df)}\")\n",
    "print(f\"Total reviews for these restaurants: {len(reviews_df)}\")\n",
    "\n",
    "\n",
    "\n",
    "\n",
    "# calculate average review scores\n",
    "avg_score_df = review_score_analysis.calculate_average_review_score(reviews_df)\n",
    "\n",
    "avg_score_df.head()\n",
    "# restaurants_df.head()\n",
    "# TODO: Plot distribution of avg and average score - Harket"
   ]
  },
  {
   "cell_type": "code",
   "execution_count": null,
   "id": "17f525cd-2c6a-420e-98ca-17c96cc43383",
   "metadata": {},
   "outputs": [],
   "source": [
    "# Visualization\n",
    "\n",
    "# TODO: Count of individual review scores - Harket\n",
    "\n",
    "# TODO: Does Price Range impact average review score? - Sonya"
   ]
  },
  {
   "cell_type": "code",
   "execution_count": null,
   "id": "625c2fea-cb3b-4bbb-b725-682f7ae6ebf9",
   "metadata": {},
   "outputs": [],
   "source": [
    "# ML Task\n",
    "\n",
    "# TODO: SVM of text from reviews - Cody"
   ]
  }
 ],
 "metadata": {
  "kernelspec": {
   "display_name": "cs418env",
   "language": "python",
   "name": "python3"
  },
  "language_info": {
   "codemirror_mode": {
    "name": "ipython",
    "version": 3
   },
   "file_extension": ".py",
   "mimetype": "text/x-python",
   "name": "python",
   "nbconvert_exporter": "python",
   "pygments_lexer": "ipython3",
   "version": "3.12.8"
  }
 },
 "nbformat": 4,
 "nbformat_minor": 5
}
