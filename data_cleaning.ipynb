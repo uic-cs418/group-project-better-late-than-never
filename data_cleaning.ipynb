{
 "cells": [
  {
   "cell_type": "code",
   "execution_count": 1,
   "id": "f4057268-1e59-4e41-9170-edf9b601a05c",
   "metadata": {},
   "outputs": [],
   "source": [
    "import pandas as pd\n",
    "import numpy as np\n",
    "import data_cleaning\n",
    "import chicago_api as chi"
   ]
  },
  {
   "cell_type": "code",
   "execution_count": 3,
   "id": "20e1a4ab-4c6a-4c2c-9676-1cd9af5e88bd",
   "metadata": {},
   "outputs": [
    {
     "name": "stdout",
     "output_type": "stream",
     "text": [
      "<class 'pandas.core.frame.DataFrame'>\n",
      "RangeIndex: 27894 entries, 0 to 27893\n",
      "Data columns (total 14 columns):\n",
      " #   Column        Non-Null Count  Dtype  \n",
      "---  ------        --------------  -----  \n",
      " 0   business_id   27894 non-null  object \n",
      " 1   name          27894 non-null  object \n",
      " 2   address       27894 non-null  object \n",
      " 3   city          27894 non-null  object \n",
      " 4   state         27894 non-null  object \n",
      " 5   postal_code   27894 non-null  object \n",
      " 6   latitude      27894 non-null  float64\n",
      " 7   longitude     27894 non-null  float64\n",
      " 8   stars         27894 non-null  float64\n",
      " 9   review_count  27894 non-null  int64  \n",
      " 10  is_open       27894 non-null  int64  \n",
      " 11  attributes    27888 non-null  object \n",
      " 12  categories    27894 non-null  object \n",
      " 13  hours         26538 non-null  object \n",
      "dtypes: float64(3), int64(2), object(9)\n",
      "memory usage: 3.0+ MB\n"
     ]
    }
   ],
   "source": [
    "## Testing restaurant df filtering\n",
    "chunk_size = 100000\n",
    "restaurants_df = data_cleaning.filter_business_data(\"data/yelp_academic_dataset_business.json\", chunk_size)\n",
    "\n",
    "## Testing save and load\n",
    "data_cleaning.save(restaurants_df, \"data/filtered_restaurants.json\")\n",
    "reloaded_restaurants_df = data_cleaning.load(\"data/filtered_restaurants.json\", chunk_size)\n",
    "reloaded_restaurants_df.info()"
   ]
  },
  {
   "cell_type": "code",
   "execution_count": 4,
   "id": "0bf7a1ca-2899-4876-ad35-3d72fe4d5499",
   "metadata": {},
   "outputs": [
    {
     "name": "stdout",
     "output_type": "stream",
     "text": [
      "<class 'pandas.core.frame.DataFrame'>\n",
      "Index: 4371248 entries, 0 to 6990279\n",
      "Data columns (total 9 columns):\n",
      " #   Column       Dtype         \n",
      "---  ------       -----         \n",
      " 0   review_id    object        \n",
      " 1   user_id      object        \n",
      " 2   business_id  object        \n",
      " 3   stars        int64         \n",
      " 4   useful       int64         \n",
      " 5   funny        int64         \n",
      " 6   cool         int64         \n",
      " 7   text         object        \n",
      " 8   date         datetime64[ns]\n",
      "dtypes: datetime64[ns](1), int64(4), object(4)\n",
      "memory usage: 333.5+ MB\n",
      "<class 'pandas.core.frame.DataFrame'>\n",
      "RangeIndex: 4371248 entries, 0 to 4371247\n",
      "Data columns (total 9 columns):\n",
      " #   Column       Dtype         \n",
      "---  ------       -----         \n",
      " 0   review_id    object        \n",
      " 1   user_id      object        \n",
      " 2   business_id  object        \n",
      " 3   stars        int64         \n",
      " 4   useful       int64         \n",
      " 5   funny        int64         \n",
      " 6   cool         int64         \n",
      " 7   text         object        \n",
      " 8   date         datetime64[ns]\n",
      "dtypes: datetime64[ns](1), int64(4), object(4)\n",
      "memory usage: 300.1+ MB\n"
     ]
    }
   ],
   "source": [
    "## Testing review df filtering\n",
    "chunk_size = 100000\n",
    "reviews_df = data_cleaning.filter_review_data(\"data/yelp_academic_dataset_review.json\", restaurants_df, chunk_size)\n",
    "reviews_df.info()\n",
    "\n",
    "## Testing save and load\n",
    "data_cleaning.save(reviews_df, \"data/filtered_reviews.json\")\n",
    "reloaded_reviews_df = data_cleaning.load(\"data/filtered_reviews.json\", chunk_size)\n",
    "reloaded_reviews_df.info()"
   ]
  },
  {
   "cell_type": "code",
   "execution_count": 18,
   "id": "34199a2a-55d7-4d76-ad3d-1afc9c5d184c",
   "metadata": {},
   "outputs": [
    {
     "name": "stdout",
     "output_type": "stream",
     "text": [
      "<class 'pandas.core.frame.DataFrame'>\n",
      "Index: 1379968 entries, 0 to 1987896\n",
      "Data columns (total 22 columns):\n",
      " #   Column              Non-Null Count    Dtype  \n",
      "---  ------              --------------    -----  \n",
      " 0   user_id             1379968 non-null  object \n",
      " 1   name                1379968 non-null  object \n",
      " 2   review_count        1379968 non-null  int64  \n",
      " 3   yelping_since       1379968 non-null  object \n",
      " 4   useful              1379968 non-null  int64  \n",
      " 5   funny               1379968 non-null  int64  \n",
      " 6   cool                1379968 non-null  int64  \n",
      " 7   elite               1379968 non-null  object \n",
      " 8   friends             1379968 non-null  object \n",
      " 9   fans                1379968 non-null  int64  \n",
      " 10  average_stars       1379968 non-null  float64\n",
      " 11  compliment_hot      1379968 non-null  int64  \n",
      " 12  compliment_more     1379968 non-null  int64  \n",
      " 13  compliment_profile  1379968 non-null  int64  \n",
      " 14  compliment_cute     1379968 non-null  int64  \n",
      " 15  compliment_list     1379968 non-null  int64  \n",
      " 16  compliment_note     1379968 non-null  int64  \n",
      " 17  compliment_plain    1379968 non-null  int64  \n",
      " 18  compliment_cool     1379968 non-null  int64  \n",
      " 19  compliment_funny    1379968 non-null  int64  \n",
      " 20  compliment_writer   1379968 non-null  int64  \n",
      " 21  compliment_photos   1379968 non-null  int64  \n",
      "dtypes: float64(1), int64(16), object(5)\n",
      "memory usage: 242.2+ MB\n",
      "<class 'pandas.core.frame.DataFrame'>\n",
      "RangeIndex: 1379968 entries, 0 to 1379967\n",
      "Data columns (total 22 columns):\n",
      " #   Column              Non-Null Count    Dtype  \n",
      "---  ------              --------------    -----  \n",
      " 0   user_id             1379968 non-null  object \n",
      " 1   name                1379968 non-null  object \n",
      " 2   review_count        1379968 non-null  int64  \n",
      " 3   yelping_since       1379968 non-null  object \n",
      " 4   useful              1379968 non-null  int64  \n",
      " 5   funny               1379968 non-null  int64  \n",
      " 6   cool                1379968 non-null  int64  \n",
      " 7   elite               1379968 non-null  object \n",
      " 8   friends             1379968 non-null  object \n",
      " 9   fans                1379968 non-null  int64  \n",
      " 10  average_stars       1379968 non-null  float64\n",
      " 11  compliment_hot      1379968 non-null  int64  \n",
      " 12  compliment_more     1379968 non-null  int64  \n",
      " 13  compliment_profile  1379968 non-null  int64  \n",
      " 14  compliment_cute     1379968 non-null  int64  \n",
      " 15  compliment_list     1379968 non-null  int64  \n",
      " 16  compliment_note     1379968 non-null  int64  \n",
      " 17  compliment_plain    1379968 non-null  int64  \n",
      " 18  compliment_cool     1379968 non-null  int64  \n",
      " 19  compliment_funny    1379968 non-null  int64  \n",
      " 20  compliment_writer   1379968 non-null  int64  \n",
      " 21  compliment_photos   1379968 non-null  int64  \n",
      "dtypes: float64(1), int64(16), object(5)\n",
      "memory usage: 231.6+ MB\n"
     ]
    }
   ],
   "source": [
    "## Testing users df filtering\n",
    "chunk_size = 100000\n",
    "users_df = filter_user_data(\"data/yelp_academic_dataset_user.json\", reviews_df, chunk_size)\n",
    "users_df.info()\n",
    "\n",
    "## Testing save and load\n",
    "save(users_df, \"data/filtered_users.json\")\n",
    "reloaded_users_df = load(\"data/filtered_users.json\", chunk_size)\n",
    "reloaded_users_df.info()"
   ]
  },
  {
   "cell_type": "code",
   "execution_count": 9,
   "id": "d392cbbc",
   "metadata": {},
   "outputs": [
    {
     "name": "stdout",
     "output_type": "stream",
     "text": [
      "South Lawndale has 5300 hits\n"
     ]
    },
    {
     "name": "stderr",
     "output_type": "stream",
     "text": [
      "/home/chasty2/Documents/group-project-better-late-than-never/chicago_api.py:80: FutureWarning: The behavior of DataFrame concatenation with empty or all-NA entries is deprecated. In a future version, this will no longer exclude empty or all-NA columns when determining the result dtypes. To retain the old behavior, exclude the relevant entries before the concat operation.\n",
      "  all_restaurants = pd.concat([all_restaurants, restaurants_df], ignore_index=True)\n"
     ]
    },
    {
     "name": "stdout",
     "output_type": "stream",
     "text": [
      "The Loop has 2800 hits\n",
      "South Shore has 1200 hits\n",
      "Douglas has 929 hits\n",
      "Avalon Park has 445 hits\n",
      "Near North Side has 5500 hits\n",
      "Mount Greenwood has 364 hits\n",
      "Near West Side has 5800 hits\n",
      "West Town has 6300 hits\n",
      "Norwood Park has 2500 hits\n",
      "Near West Side has 5800 hits\n",
      "Uptown has 1400 hits\n",
      "Irving Park has 6200 hits\n",
      "Garfield Ridge has 2000 hits\n",
      "Avondale has 6500 hits\n",
      "Washington Heights has 441 hits\n",
      "Washington Park has 548 hits\n",
      "Armour Square has 1300 hits\n",
      "Beverly has 443 hits\n",
      "Chatham has 484 hits\n",
      "Chatham has 484 hits\n",
      "Roseland has 1300 hits\n",
      "Lincoln Park has 6000 hits\n",
      "West Elsdon has 261 hits\n",
      "West Englewood has 561 hits\n",
      "West Garfield Park has 893 hits\n",
      "Austin has 3800 hits\n",
      "Humboldt Park has 6800 hits\n",
      "Lake View has 1800 hits\n",
      "West Lawn has 578 hits\n",
      "Near West Side has 5800 hits\n",
      "Morgan Park has 339 hits\n",
      "West Pullman has 238 hits\n",
      "West Ridge has 1100 hits\n",
      "West Ridge has 1100 hits\n",
      "West Town has 6300 hits\n",
      "Woodlawn has 513 hits\n",
      "West Town has 6300 hits\n",
      "Forest Glen has 523 hits\n",
      "Woodlawn has 513 hits\n",
      "Ashburn has 1900 hits\n",
      "Lincoln Park has 6000 hits\n",
      "Lake View has 1800 hits\n"
     ]
    }
   ],
   "source": [
    "## Pull Chicago API data\n",
    "#chi_restaurants_df = chi.get_chicago_restaurants_df(0, 10)\n",
    "#chi_restaurants_df = chi.get_chicago_restaurants_df(10, 60)\n",
    "#chi_restaurants_df = chi.get_chicago_restaurants_df(60, 110)\n",
    "#chi_restaurants_df = chi.get_chicago_restaurants_df(110, 160)\n",
    "#chi_restaurants_df = chi.get_chicago_restaurants_df(160, 210)\n",
    "chi_restaurants_df = chi.get_chicago_restaurants_df(210, 260)"
   ]
  },
  {
   "cell_type": "code",
   "execution_count": 2,
   "id": "c9ab367f",
   "metadata": {},
   "outputs": [],
   "source": [
    "all_chi_restaurants = data_cleaning.load(\"data/chicago_restaurants_incomplete\", 100_000)"
   ]
  },
  {
   "cell_type": "code",
   "execution_count": 3,
   "id": "249b639f",
   "metadata": {},
   "outputs": [
    {
     "name": "stdout",
     "output_type": "stream",
     "text": [
      "<class 'pandas.core.frame.DataFrame'>\n",
      "RangeIndex: 60466 entries, 0 to 60465\n",
      "Data columns (total 19 columns):\n",
      " #   Column          Non-Null Count  Dtype  \n",
      "---  ------          --------------  -----  \n",
      " 0   id              60466 non-null  object \n",
      " 1   alias           60466 non-null  object \n",
      " 2   name            60466 non-null  object \n",
      " 3   image_url       60466 non-null  object \n",
      " 4   is_closed       60466 non-null  bool   \n",
      " 5   url             60466 non-null  object \n",
      " 6   review_count    60466 non-null  int64  \n",
      " 7   categories      60466 non-null  object \n",
      " 8   rating          60466 non-null  float64\n",
      " 9   coordinates     60466 non-null  object \n",
      " 10  transactions    60466 non-null  object \n",
      " 11  price           26125 non-null  object \n",
      " 12  location        60466 non-null  object \n",
      " 13  phone           60466 non-null  object \n",
      " 14  display_phone   60466 non-null  object \n",
      " 15  distance        60466 non-null  float64\n",
      " 16  business_hours  60466 non-null  object \n",
      " 17  attributes      60466 non-null  object \n",
      " 18  neighborhood    60466 non-null  object \n",
      "dtypes: bool(1), float64(2), int64(1), object(15)\n",
      "memory usage: 8.4+ MB\n"
     ]
    }
   ],
   "source": [
    "all_chi_restaurants.info()"
   ]
  },
  {
   "cell_type": "code",
   "execution_count": 12,
   "id": "e654dc72",
   "metadata": {},
   "outputs": [],
   "source": [
    "all_chi_restaurants = pd.concat([all_chi_restaurants, chi_restaurants_df], ignore_index=True)\n",
    "data_cleaning.save(all_chi_restaurants, \"data/chicago_restaurants_incomplete\")"
   ]
  },
  {
   "cell_type": "code",
   "execution_count": 4,
   "id": "cbf1f2be",
   "metadata": {},
   "outputs": [
    {
     "name": "stdout",
     "output_type": "stream",
     "text": [
      "<class 'pandas.core.frame.DataFrame'>\n",
      "RangeIndex: 60466 entries, 0 to 60465\n",
      "Data columns (total 19 columns):\n",
      " #   Column          Non-Null Count  Dtype  \n",
      "---  ------          --------------  -----  \n",
      " 0   id              60466 non-null  object \n",
      " 1   alias           60466 non-null  object \n",
      " 2   name            60466 non-null  object \n",
      " 3   image_url       60466 non-null  object \n",
      " 4   is_closed       60466 non-null  bool   \n",
      " 5   url             60466 non-null  object \n",
      " 6   review_count    60466 non-null  int64  \n",
      " 7   categories      60466 non-null  object \n",
      " 8   rating          60466 non-null  float64\n",
      " 9   coordinates     60466 non-null  object \n",
      " 10  transactions    60466 non-null  object \n",
      " 11  price           26125 non-null  object \n",
      " 12  location        60466 non-null  object \n",
      " 13  phone           60466 non-null  object \n",
      " 14  display_phone   60466 non-null  object \n",
      " 15  distance        60466 non-null  float64\n",
      " 16  business_hours  60466 non-null  object \n",
      " 17  attributes      60466 non-null  object \n",
      " 18  neighborhood    60466 non-null  object \n",
      "dtypes: bool(1), float64(2), int64(1), object(15)\n",
      "memory usage: 8.4+ MB\n"
     ]
    }
   ],
   "source": [
    "all_chi_restaurants.info()"
   ]
  },
  {
   "cell_type": "code",
   "execution_count": 3,
   "id": "44b66cfb",
   "metadata": {},
   "outputs": [
    {
     "name": "stdout",
     "output_type": "stream",
     "text": [
      "<class 'pandas.core.frame.DataFrame'>\n",
      "Index: 8712 entries, 5 to 59985\n",
      "Data columns (total 19 columns):\n",
      " #   Column          Non-Null Count  Dtype  \n",
      "---  ------          --------------  -----  \n",
      " 0   id              8712 non-null   object \n",
      " 1   alias           8712 non-null   object \n",
      " 2   name            8712 non-null   object \n",
      " 3   image_url       8712 non-null   object \n",
      " 4   is_closed       8712 non-null   bool   \n",
      " 5   url             8712 non-null   object \n",
      " 6   review_count    8712 non-null   int64  \n",
      " 7   categories      8712 non-null   object \n",
      " 8   rating          8712 non-null   float64\n",
      " 9   coordinates     8712 non-null   object \n",
      " 10  transactions    8712 non-null   object \n",
      " 11  price           8712 non-null   object \n",
      " 12  location        8712 non-null   object \n",
      " 13  phone           8712 non-null   object \n",
      " 14  display_phone   8712 non-null   object \n",
      " 15  distance        8712 non-null   float64\n",
      " 16  business_hours  8712 non-null   object \n",
      " 17  attributes      8712 non-null   object \n",
      " 18  neighborhood    8712 non-null   object \n",
      "dtypes: bool(1), float64(2), int64(1), object(15)\n",
      "memory usage: 1.3+ MB\n"
     ]
    }
   ],
   "source": [
    "# Clean Chicago data\n",
    "cleaned_chi = all_chi_restaurants.dropna()\n",
    "cleaned_chi = cleaned_chi.drop_duplicates(subset=['id','neighborhood'])\n",
    "cleaned_chi.info()"
   ]
  },
  {
   "cell_type": "code",
   "execution_count": 4,
   "id": "e0b44fef",
   "metadata": {},
   "outputs": [],
   "source": [
    "# Use Harket's cuisine mapping to convert 'categories' list of dicts to a single string\n",
    "CUISINE_MAP = {\n",
    "    'American':             ['American (Traditional)', 'American (New)',\n",
    "                                'Burgers', 'Fast Food', 'Diners', 'Sandwiches'],\n",
    "    'Mexican':              ['Mexican', 'Tacos', 'Tex-Mex'],\n",
    "    'Italian':              ['Italian', 'Pizza', 'Pasta Shops'],\n",
    "    'Chinese':              ['Chinese', 'Dim Sum'],\n",
    "    'Japanese':             ['Japanese', 'Sushi Bars'],\n",
    "    'Thai':                 ['Thai'],\n",
    "    'Indian':               ['Indian'],\n",
    "    'Mediterranean':        ['Mediterranean', 'Greek', 'Turkish'],\n",
    "    'Vietnamese':           ['Vietnamese'],\n",
    "    'Seafood':              ['Seafood'],\n",
    "    'Barbecue':             ['Barbeque'],\n",
    "    'Breakfast & Brunch':   ['Breakfast & Brunch', 'Coffee & Tea']\n",
    "}\n",
    "\n",
    "def map_cuisine(categories):\n",
    "    for category in categories:\n",
    "        for cuisine, keywords in CUISINE_MAP.items():\n",
    "            for kw in keywords:\n",
    "                if kw.lower() in category['title'].lower():\n",
    "                    return cuisine\n",
    "    return 'Other'\n",
    "\n"
   ]
  },
  {
   "cell_type": "code",
   "execution_count": 5,
   "id": "48892f1b",
   "metadata": {},
   "outputs": [
    {
     "name": "stdout",
     "output_type": "stream",
     "text": [
      "food_category\n",
      "Other                 2149\n",
      "Mexican               1530\n",
      "American              1452\n",
      "Breakfast & Brunch     907\n",
      "Italian                836\n",
      "Seafood                459\n",
      "Chinese                358\n",
      "Japanese               289\n",
      "Mediterranean          214\n",
      "Barbecue               191\n",
      "Thai                   129\n",
      "Vietnamese             123\n",
      "Indian                  75\n",
      "Name: count, dtype: int64\n"
     ]
    }
   ],
   "source": [
    "cleaned_chi['food_category'] = cleaned_chi['categories'].apply(map_cuisine)\n",
    "\n",
    "print(cleaned_chi['food_category'].value_counts())"
   ]
  },
  {
   "cell_type": "code",
   "execution_count": 6,
   "id": "1a0b542e",
   "metadata": {},
   "outputs": [],
   "source": [
    "# Use Sonya's code to map 'price' string to an integer\n",
    "PRICE_MAP = {\n",
    "    '$':    1,\n",
    "    '$$':   2,\n",
    "    '$$$':  3,\n",
    "    '$$$$': 4\n",
    "}\n",
    "\n",
    "def map_price(price_string):\n",
    "    return PRICE_MAP[price_string]"
   ]
  },
  {
   "cell_type": "code",
   "execution_count": 7,
   "id": "6f9797bc",
   "metadata": {},
   "outputs": [
    {
     "name": "stdout",
     "output_type": "stream",
     "text": [
      "price_range\n",
      "2    4372\n",
      "1    3970\n",
      "3     285\n",
      "4      85\n",
      "Name: count, dtype: int64\n"
     ]
    }
   ],
   "source": [
    "cleaned_chi['price_range'] = cleaned_chi['price'].apply(map_price)\n",
    "\n",
    "print(cleaned_chi['price_range'].value_counts())"
   ]
  },
  {
   "cell_type": "code",
   "execution_count": 11,
   "id": "95af97aa",
   "metadata": {},
   "outputs": [],
   "source": [
    "data_cleaning.save(cleaned_chi, \"flask/static/chicago_restaurants.json\")"
   ]
  },
  {
   "cell_type": "code",
   "execution_count": 1,
   "id": "ccce5e9e",
   "metadata": {},
   "outputs": [],
   "source": [
    "# Test recommendation function used in flask app\n",
    "import flask.recommend as rec\n",
    "import data_cleaning as dc\n",
    "chi_df = dc.load(\"flask/static/chicago_restaurants.json\", 100_000)"
   ]
  },
  {
   "cell_type": "code",
   "execution_count": 4,
   "id": "e0741ccc",
   "metadata": {},
   "outputs": [
    {
     "data": {
      "text/plain": [
       "['Penumbra', 'Wellfleet Occasional Restaurant']"
      ]
     },
     "execution_count": 4,
     "metadata": {},
     "output_type": "execute_result"
    }
   ],
   "source": [
    "yelp_rec = rec.get_best_restaurants(chi_df, \"Seafood\", \"Albany Park\", 3)\n",
    "yelp_rec"
   ]
  },
  {
   "cell_type": "code",
   "execution_count": 11,
   "id": "66d030cc",
   "metadata": {},
   "outputs": [
    {
     "data": {
      "text/html": [
       "<div>\n",
       "<style scoped>\n",
       "    .dataframe tbody tr th:only-of-type {\n",
       "        vertical-align: middle;\n",
       "    }\n",
       "\n",
       "    .dataframe tbody tr th {\n",
       "        vertical-align: top;\n",
       "    }\n",
       "\n",
       "    .dataframe thead th {\n",
       "        text-align: right;\n",
       "    }\n",
       "</style>\n",
       "<table border=\"1\" class=\"dataframe\">\n",
       "  <thead>\n",
       "    <tr style=\"text-align: right;\">\n",
       "      <th></th>\n",
       "      <th>id</th>\n",
       "      <th>alias</th>\n",
       "      <th>name</th>\n",
       "      <th>image_url</th>\n",
       "      <th>is_closed</th>\n",
       "      <th>url</th>\n",
       "      <th>review_count</th>\n",
       "      <th>categories</th>\n",
       "      <th>rating</th>\n",
       "      <th>coordinates</th>\n",
       "      <th>...</th>\n",
       "      <th>price</th>\n",
       "      <th>location</th>\n",
       "      <th>phone</th>\n",
       "      <th>display_phone</th>\n",
       "      <th>distance</th>\n",
       "      <th>business_hours</th>\n",
       "      <th>attributes</th>\n",
       "      <th>neighborhood</th>\n",
       "      <th>food_category</th>\n",
       "      <th>price_range</th>\n",
       "    </tr>\n",
       "  </thead>\n",
       "  <tbody>\n",
       "    <tr>\n",
       "      <th>25</th>\n",
       "      <td>L7OoIKseZ8_zE8yMAewdEQ</td>\n",
       "      <td>mammoth-poke-chicago</td>\n",
       "      <td>Mammoth Poke</td>\n",
       "      <td>https://s3-media1.fl.yelpcdn.com/bphoto/owW3o2...</td>\n",
       "      <td>False</td>\n",
       "      <td>https://www.yelp.com/biz/mammoth-poke-chicago?...</td>\n",
       "      <td>111</td>\n",
       "      <td>[{'alias': 'poke', 'title': 'Poke'}, {'alias':...</td>\n",
       "      <td>4.8</td>\n",
       "      <td>{'latitude': 41.9186713981, 'longitude': -87.6...</td>\n",
       "      <td>...</td>\n",
       "      <td>$$</td>\n",
       "      <td>{'address1': '2035 N Western Ave', 'address2':...</td>\n",
       "      <td>+13125162456</td>\n",
       "      <td>(312) 516-2456</td>\n",
       "      <td>6210.746869</td>\n",
       "      <td>[{'open': [{'is_overnight': False, 'start': '1...</td>\n",
       "      <td>{'business_temp_closed': None, 'menu_url': 'ht...</td>\n",
       "      <td>Albany Park</td>\n",
       "      <td>Japanese</td>\n",
       "      <td>2</td>\n",
       "    </tr>\n",
       "  </tbody>\n",
       "</table>\n",
       "<p>1 rows × 21 columns</p>\n",
       "</div>"
      ],
      "text/plain": [
       "                        id                 alias          name  \\\n",
       "25  L7OoIKseZ8_zE8yMAewdEQ  mammoth-poke-chicago  Mammoth Poke   \n",
       "\n",
       "                                            image_url  is_closed  \\\n",
       "25  https://s3-media1.fl.yelpcdn.com/bphoto/owW3o2...      False   \n",
       "\n",
       "                                                  url  review_count  \\\n",
       "25  https://www.yelp.com/biz/mammoth-poke-chicago?...           111   \n",
       "\n",
       "                                           categories  rating  \\\n",
       "25  [{'alias': 'poke', 'title': 'Poke'}, {'alias':...     4.8   \n",
       "\n",
       "                                          coordinates  ... price  \\\n",
       "25  {'latitude': 41.9186713981, 'longitude': -87.6...  ...    $$   \n",
       "\n",
       "                                             location         phone  \\\n",
       "25  {'address1': '2035 N Western Ave', 'address2':...  +13125162456   \n",
       "\n",
       "     display_phone     distance  \\\n",
       "25  (312) 516-2456  6210.746869   \n",
       "\n",
       "                                       business_hours  \\\n",
       "25  [{'open': [{'is_overnight': False, 'start': '1...   \n",
       "\n",
       "                                           attributes neighborhood  \\\n",
       "25  {'business_temp_closed': None, 'menu_url': 'ht...  Albany Park   \n",
       "\n",
       "   food_category price_range  \n",
       "25      Japanese           2  \n",
       "\n",
       "[1 rows x 21 columns]"
      ]
     },
     "execution_count": 11,
     "metadata": {},
     "output_type": "execute_result"
    }
   ],
   "source": [
    "chi_df[chi_df['name'] == \"Mammoth Poke\"].head(1)"
   ]
  }
 ],
 "metadata": {
  "kernelspec": {
   "display_name": "Python 3 (ipykernel)",
   "language": "python",
   "name": "python3"
  },
  "language_info": {
   "codemirror_mode": {
    "name": "ipython",
    "version": 3
   },
   "file_extension": ".py",
   "mimetype": "text/x-python",
   "name": "python",
   "nbconvert_exporter": "python",
   "pygments_lexer": "ipython3",
   "version": "3.12.10"
  }
 },
 "nbformat": 4,
 "nbformat_minor": 5
}
