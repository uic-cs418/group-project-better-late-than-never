{
 "cells": [
  {
   "cell_type": "code",
   "execution_count": 6,
   "id": "f4057268-1e59-4e41-9170-edf9b601a05c",
   "metadata": {},
   "outputs": [],
   "source": [
    "import pandas as pd\n",
    "import numpy as np\n",
    "import data_cleaning\n",
    "import chicago_api as chi"
   ]
  },
  {
   "cell_type": "code",
   "execution_count": 3,
   "id": "20e1a4ab-4c6a-4c2c-9676-1cd9af5e88bd",
   "metadata": {},
   "outputs": [
    {
     "name": "stdout",
     "output_type": "stream",
     "text": [
      "<class 'pandas.core.frame.DataFrame'>\n",
      "RangeIndex: 27894 entries, 0 to 27893\n",
      "Data columns (total 14 columns):\n",
      " #   Column        Non-Null Count  Dtype  \n",
      "---  ------        --------------  -----  \n",
      " 0   business_id   27894 non-null  object \n",
      " 1   name          27894 non-null  object \n",
      " 2   address       27894 non-null  object \n",
      " 3   city          27894 non-null  object \n",
      " 4   state         27894 non-null  object \n",
      " 5   postal_code   27894 non-null  object \n",
      " 6   latitude      27894 non-null  float64\n",
      " 7   longitude     27894 non-null  float64\n",
      " 8   stars         27894 non-null  float64\n",
      " 9   review_count  27894 non-null  int64  \n",
      " 10  is_open       27894 non-null  int64  \n",
      " 11  attributes    27888 non-null  object \n",
      " 12  categories    27894 non-null  object \n",
      " 13  hours         26538 non-null  object \n",
      "dtypes: float64(3), int64(2), object(9)\n",
      "memory usage: 3.0+ MB\n"
     ]
    }
   ],
   "source": [
    "## Testing restaurant df filtering\n",
    "chunk_size = 100000\n",
    "restaurants_df = data_cleaning.filter_business_data(\"data/yelp_academic_dataset_business.json\", chunk_size)\n",
    "\n",
    "## Testing save and load\n",
    "data_cleaning.save(restaurants_df, \"data/filtered_restaurants.json\")\n",
    "reloaded_restaurants_df = data_cleaning.load(\"data/filtered_restaurants.json\", chunk_size)\n",
    "reloaded_restaurants_df.info()"
   ]
  },
  {
   "cell_type": "code",
   "execution_count": 4,
   "id": "0bf7a1ca-2899-4876-ad35-3d72fe4d5499",
   "metadata": {},
   "outputs": [
    {
     "name": "stdout",
     "output_type": "stream",
     "text": [
      "<class 'pandas.core.frame.DataFrame'>\n",
      "Index: 4371248 entries, 0 to 6990279\n",
      "Data columns (total 9 columns):\n",
      " #   Column       Dtype         \n",
      "---  ------       -----         \n",
      " 0   review_id    object        \n",
      " 1   user_id      object        \n",
      " 2   business_id  object        \n",
      " 3   stars        int64         \n",
      " 4   useful       int64         \n",
      " 5   funny        int64         \n",
      " 6   cool         int64         \n",
      " 7   text         object        \n",
      " 8   date         datetime64[ns]\n",
      "dtypes: datetime64[ns](1), int64(4), object(4)\n",
      "memory usage: 333.5+ MB\n",
      "<class 'pandas.core.frame.DataFrame'>\n",
      "RangeIndex: 4371248 entries, 0 to 4371247\n",
      "Data columns (total 9 columns):\n",
      " #   Column       Dtype         \n",
      "---  ------       -----         \n",
      " 0   review_id    object        \n",
      " 1   user_id      object        \n",
      " 2   business_id  object        \n",
      " 3   stars        int64         \n",
      " 4   useful       int64         \n",
      " 5   funny        int64         \n",
      " 6   cool         int64         \n",
      " 7   text         object        \n",
      " 8   date         datetime64[ns]\n",
      "dtypes: datetime64[ns](1), int64(4), object(4)\n",
      "memory usage: 300.1+ MB\n"
     ]
    }
   ],
   "source": [
    "## Testing review df filtering\n",
    "chunk_size = 100000\n",
    "reviews_df = data_cleaning.filter_review_data(\"data/yelp_academic_dataset_review.json\", restaurants_df, chunk_size)\n",
    "reviews_df.info()\n",
    "\n",
    "## Testing save and load\n",
    "data_cleaning.save(reviews_df, \"data/filtered_reviews.json\")\n",
    "reloaded_reviews_df = data_cleaning.load(\"data/filtered_reviews.json\", chunk_size)\n",
    "reloaded_reviews_df.info()"
   ]
  },
  {
   "cell_type": "code",
   "execution_count": 18,
   "id": "34199a2a-55d7-4d76-ad3d-1afc9c5d184c",
   "metadata": {},
   "outputs": [
    {
     "name": "stdout",
     "output_type": "stream",
     "text": [
      "<class 'pandas.core.frame.DataFrame'>\n",
      "Index: 1379968 entries, 0 to 1987896\n",
      "Data columns (total 22 columns):\n",
      " #   Column              Non-Null Count    Dtype  \n",
      "---  ------              --------------    -----  \n",
      " 0   user_id             1379968 non-null  object \n",
      " 1   name                1379968 non-null  object \n",
      " 2   review_count        1379968 non-null  int64  \n",
      " 3   yelping_since       1379968 non-null  object \n",
      " 4   useful              1379968 non-null  int64  \n",
      " 5   funny               1379968 non-null  int64  \n",
      " 6   cool                1379968 non-null  int64  \n",
      " 7   elite               1379968 non-null  object \n",
      " 8   friends             1379968 non-null  object \n",
      " 9   fans                1379968 non-null  int64  \n",
      " 10  average_stars       1379968 non-null  float64\n",
      " 11  compliment_hot      1379968 non-null  int64  \n",
      " 12  compliment_more     1379968 non-null  int64  \n",
      " 13  compliment_profile  1379968 non-null  int64  \n",
      " 14  compliment_cute     1379968 non-null  int64  \n",
      " 15  compliment_list     1379968 non-null  int64  \n",
      " 16  compliment_note     1379968 non-null  int64  \n",
      " 17  compliment_plain    1379968 non-null  int64  \n",
      " 18  compliment_cool     1379968 non-null  int64  \n",
      " 19  compliment_funny    1379968 non-null  int64  \n",
      " 20  compliment_writer   1379968 non-null  int64  \n",
      " 21  compliment_photos   1379968 non-null  int64  \n",
      "dtypes: float64(1), int64(16), object(5)\n",
      "memory usage: 242.2+ MB\n",
      "<class 'pandas.core.frame.DataFrame'>\n",
      "RangeIndex: 1379968 entries, 0 to 1379967\n",
      "Data columns (total 22 columns):\n",
      " #   Column              Non-Null Count    Dtype  \n",
      "---  ------              --------------    -----  \n",
      " 0   user_id             1379968 non-null  object \n",
      " 1   name                1379968 non-null  object \n",
      " 2   review_count        1379968 non-null  int64  \n",
      " 3   yelping_since       1379968 non-null  object \n",
      " 4   useful              1379968 non-null  int64  \n",
      " 5   funny               1379968 non-null  int64  \n",
      " 6   cool                1379968 non-null  int64  \n",
      " 7   elite               1379968 non-null  object \n",
      " 8   friends             1379968 non-null  object \n",
      " 9   fans                1379968 non-null  int64  \n",
      " 10  average_stars       1379968 non-null  float64\n",
      " 11  compliment_hot      1379968 non-null  int64  \n",
      " 12  compliment_more     1379968 non-null  int64  \n",
      " 13  compliment_profile  1379968 non-null  int64  \n",
      " 14  compliment_cute     1379968 non-null  int64  \n",
      " 15  compliment_list     1379968 non-null  int64  \n",
      " 16  compliment_note     1379968 non-null  int64  \n",
      " 17  compliment_plain    1379968 non-null  int64  \n",
      " 18  compliment_cool     1379968 non-null  int64  \n",
      " 19  compliment_funny    1379968 non-null  int64  \n",
      " 20  compliment_writer   1379968 non-null  int64  \n",
      " 21  compliment_photos   1379968 non-null  int64  \n",
      "dtypes: float64(1), int64(16), object(5)\n",
      "memory usage: 231.6+ MB\n"
     ]
    }
   ],
   "source": [
    "## Testing users df filtering\n",
    "chunk_size = 100000\n",
    "users_df = filter_user_data(\"data/yelp_academic_dataset_user.json\", reviews_df, chunk_size)\n",
    "users_df.info()\n",
    "\n",
    "## Testing save and load\n",
    "save(users_df, \"data/filtered_users.json\")\n",
    "reloaded_users_df = load(\"data/filtered_users.json\", chunk_size)\n",
    "reloaded_users_df.info()"
   ]
  },
  {
   "cell_type": "code",
   "execution_count": 9,
   "id": "d392cbbc",
   "metadata": {},
   "outputs": [
    {
     "name": "stdout",
     "output_type": "stream",
     "text": [
      "Riverdale has 972 hits\n"
     ]
    },
    {
     "name": "stderr",
     "output_type": "stream",
     "text": [
      "/home/chasty2/miniconda3/envs/rapids-25.04/lib/python3.12/site-packages/cudf/pandas/fast_slow_proxy.py:28: FutureWarning: The behavior of DataFrame concatenation with empty or all-NA entries is deprecated. In a future version, this will no longer exclude empty or all-NA columns when determining the result dtypes. To retain the old behavior, exclude the relevant entries before the concat operation.\n",
      "  return fn(*args, **kwargs)\n"
     ]
    },
    {
     "name": "stdout",
     "output_type": "stream",
     "text": [
      "Forest Glen has 523 hits\n",
      "Edgewater has 1100 hits\n",
      "Edgewater has 1100 hits\n",
      "Edgewater has 1100 hits\n",
      "Edison Park has 475 hits\n",
      "Englewood has 613 hits\n",
      "Roseland has 1300 hits\n",
      "East Garfield Park has 1300 hits\n",
      "West Lawn has 577 hits\n",
      "Forest Glen has 523 hits\n",
      "Fuller Park has 898 hits\n",
      "Near West Side has 5800 hits\n",
      "Gage Park has 657 hits\n",
      "Austin has 3800 hits\n",
      "Douglas has 929 hits\n",
      "Garfield Ridge has 2000 hits\n",
      "Jefferson Park has 631 hits\n",
      "Near North Side has 5500 hits\n",
      "Riverdale has 972 hits\n",
      "Near North Side has 5500 hits\n",
      "Lake View has 1800 hits\n",
      "Grand Boulevard has 632 hits\n",
      "Greater Grand Crossing has 633 hits\n",
      "Greater Grand Crossing has 633 hits\n",
      "Near West Side has 5800 hits\n",
      "Auburn Gresham has 582 hits\n",
      "Douglas has 929 hits\n",
      "Englewood has 613 hits\n",
      "Belmont Cragin has 945 hits\n",
      "Lower West Side has 5000 hits\n",
      "Hegewisch has 803 hits\n",
      "Hermosa has 1400 hits\n",
      "North Park has 1100 hits\n",
      "North Lawndale has 924 hits\n",
      "Humboldt Park has 6800 hits\n",
      "Hyde Park has 448 hits\n",
      "Near West Side has 5800 hits\n",
      "Irving Park has 6200 hits\n",
      "Dunning has 2700 hits\n",
      "Austin has 3800 hits\n",
      "Avondale has 6500 hits\n",
      "South Shore has 1200 hits\n",
      "Jefferson Park has 631 hits\n",
      "North Lawndale has 924 hits\n",
      "Hermosa has 1400 hits\n",
      "Morgan Park has 340 hits\n",
      "Roseland has 1300 hits\n",
      "Kenwood has 433 hits\n",
      "Irving Park has 6200 hits\n"
     ]
    }
   ],
   "source": [
    "## Pull Chicago API data\n",
    "#chi_restaurants_df = chi.get_chicago_restaurants_df(0, 10)\n",
    "#chi_restaurants_df = chi.get_chicago_restaurants_df(10, 60)\n",
    "chi_restaurants_df = chi.get_chicago_restaurants_df(60, 110)"
   ]
  },
  {
   "cell_type": "code",
   "execution_count": 10,
   "id": "c9ab367f",
   "metadata": {},
   "outputs": [],
   "source": [
    "all_chi_restaurants = data_cleaning.load(\"data/chicago_restaurants_incomplete\", 100_000)"
   ]
  },
  {
   "cell_type": "code",
   "execution_count": 11,
   "id": "249b639f",
   "metadata": {},
   "outputs": [
    {
     "name": "stdout",
     "output_type": "stream",
     "text": [
      "<class 'pandas.core.frame.DataFrame'>\n",
      "RangeIndex: 14274 entries, 0 to 14273\n",
      "Data columns (total 19 columns):\n",
      " #   Column          Non-Null Count  Dtype  \n",
      "---  ------          --------------  -----  \n",
      " 0   id              14274 non-null  object \n",
      " 1   alias           14274 non-null  object \n",
      " 2   name            14274 non-null  object \n",
      " 3   image_url       14274 non-null  object \n",
      " 4   is_closed       14274 non-null  bool   \n",
      " 5   url             14274 non-null  object \n",
      " 6   review_count    14274 non-null  int64  \n",
      " 7   categories      14274 non-null  object \n",
      " 8   rating          14274 non-null  float64\n",
      " 9   coordinates     14274 non-null  object \n",
      " 10  transactions    14274 non-null  object \n",
      " 11  price           6414 non-null   object \n",
      " 12  location        14274 non-null  object \n",
      " 13  phone           14274 non-null  object \n",
      " 14  display_phone   14274 non-null  object \n",
      " 15  distance        14274 non-null  float64\n",
      " 16  business_hours  14274 non-null  object \n",
      " 17  attributes      14274 non-null  object \n",
      " 18  neighborhood    14274 non-null  object \n",
      "dtypes: bool(1), float64(2), int64(1), object(15)\n",
      "memory usage: 2.0+ MB\n"
     ]
    }
   ],
   "source": [
    "all_chi_restaurants.info()"
   ]
  },
  {
   "cell_type": "code",
   "execution_count": 12,
   "id": "e654dc72",
   "metadata": {},
   "outputs": [],
   "source": [
    "all_chi_restaurants = pd.concat([all_chi_restaurants, chi_restaurants_df], ignore_index=True)\n",
    "data_cleaning.save(all_chi_restaurants, \"data/chicago_restaurants_incomplete\")"
   ]
  },
  {
   "cell_type": "code",
   "execution_count": 13,
   "id": "cbf1f2be",
   "metadata": {},
   "outputs": [
    {
     "name": "stdout",
     "output_type": "stream",
     "text": [
      "<class 'pandas.core.frame.DataFrame'>\n",
      "RangeIndex: 26274 entries, 0 to 26273\n",
      "Data columns (total 19 columns):\n",
      " #   Column          Non-Null Count  Dtype  \n",
      "---  ------          --------------  -----  \n",
      " 0   id              26274 non-null  object \n",
      " 1   alias           26274 non-null  object \n",
      " 2   name            26274 non-null  object \n",
      " 3   image_url       26274 non-null  object \n",
      " 4   is_closed       26274 non-null  object \n",
      " 5   url             26274 non-null  object \n",
      " 6   review_count    26274 non-null  object \n",
      " 7   categories      26274 non-null  object \n",
      " 8   rating          26274 non-null  float64\n",
      " 9   coordinates     26274 non-null  object \n",
      " 10  transactions    26274 non-null  object \n",
      " 11  price           11871 non-null  object \n",
      " 12  location        26274 non-null  object \n",
      " 13  phone           26274 non-null  object \n",
      " 14  display_phone   26274 non-null  object \n",
      " 15  distance        26274 non-null  float64\n",
      " 16  business_hours  26274 non-null  object \n",
      " 17  attributes      26274 non-null  object \n",
      " 18  neighborhood    26274 non-null  object \n",
      "dtypes: float64(2), object(17)\n",
      "memory usage: 3.8+ MB\n"
     ]
    }
   ],
   "source": [
    "all_chi_restaurants.info()"
   ]
  }
 ],
 "metadata": {
  "kernelspec": {
   "display_name": "Python 3 (ipykernel)",
   "language": "python",
   "name": "python3"
  },
  "language_info": {
   "codemirror_mode": {
    "name": "ipython",
    "version": 3
   },
   "file_extension": ".py",
   "mimetype": "text/x-python",
   "name": "python",
   "nbconvert_exporter": "python",
   "pygments_lexer": "ipython3",
   "version": "3.12.10"
  }
 },
 "nbformat": 4,
 "nbformat_minor": 5
}
