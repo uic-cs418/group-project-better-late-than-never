{
 "cells": [
  {
   "cell_type": "code",
   "execution_count": 8,
   "id": "f4057268-1e59-4e41-9170-edf9b601a05c",
   "metadata": {},
   "outputs": [],
   "source": [
    "import pandas as pd\n",
    "import numpy as np\n",
    "import data_cleaning\n",
    "import chicago_api as chi"
   ]
  },
  {
   "cell_type": "code",
   "execution_count": 3,
   "id": "20e1a4ab-4c6a-4c2c-9676-1cd9af5e88bd",
   "metadata": {},
   "outputs": [
    {
     "name": "stdout",
     "output_type": "stream",
     "text": [
      "<class 'pandas.core.frame.DataFrame'>\n",
      "RangeIndex: 27894 entries, 0 to 27893\n",
      "Data columns (total 14 columns):\n",
      " #   Column        Non-Null Count  Dtype  \n",
      "---  ------        --------------  -----  \n",
      " 0   business_id   27894 non-null  object \n",
      " 1   name          27894 non-null  object \n",
      " 2   address       27894 non-null  object \n",
      " 3   city          27894 non-null  object \n",
      " 4   state         27894 non-null  object \n",
      " 5   postal_code   27894 non-null  object \n",
      " 6   latitude      27894 non-null  float64\n",
      " 7   longitude     27894 non-null  float64\n",
      " 8   stars         27894 non-null  float64\n",
      " 9   review_count  27894 non-null  int64  \n",
      " 10  is_open       27894 non-null  int64  \n",
      " 11  attributes    27888 non-null  object \n",
      " 12  categories    27894 non-null  object \n",
      " 13  hours         26538 non-null  object \n",
      "dtypes: float64(3), int64(2), object(9)\n",
      "memory usage: 3.0+ MB\n"
     ]
    }
   ],
   "source": [
    "## Testing restaurant df filtering\n",
    "chunk_size = 100000\n",
    "restaurants_df = data_cleaning.filter_business_data(\"data/yelp_academic_dataset_business.json\", chunk_size)\n",
    "\n",
    "## Testing save and load\n",
    "data_cleaning.save(restaurants_df, \"data/filtered_restaurants.json\")\n",
    "reloaded_restaurants_df = data_cleaning.load(\"data/filtered_restaurants.json\", chunk_size)\n",
    "reloaded_restaurants_df.info()"
   ]
  },
  {
   "cell_type": "code",
   "execution_count": 4,
   "id": "0bf7a1ca-2899-4876-ad35-3d72fe4d5499",
   "metadata": {},
   "outputs": [
    {
     "name": "stdout",
     "output_type": "stream",
     "text": [
      "<class 'pandas.core.frame.DataFrame'>\n",
      "Index: 4371248 entries, 0 to 6990279\n",
      "Data columns (total 9 columns):\n",
      " #   Column       Dtype         \n",
      "---  ------       -----         \n",
      " 0   review_id    object        \n",
      " 1   user_id      object        \n",
      " 2   business_id  object        \n",
      " 3   stars        int64         \n",
      " 4   useful       int64         \n",
      " 5   funny        int64         \n",
      " 6   cool         int64         \n",
      " 7   text         object        \n",
      " 8   date         datetime64[ns]\n",
      "dtypes: datetime64[ns](1), int64(4), object(4)\n",
      "memory usage: 333.5+ MB\n",
      "<class 'pandas.core.frame.DataFrame'>\n",
      "RangeIndex: 4371248 entries, 0 to 4371247\n",
      "Data columns (total 9 columns):\n",
      " #   Column       Dtype         \n",
      "---  ------       -----         \n",
      " 0   review_id    object        \n",
      " 1   user_id      object        \n",
      " 2   business_id  object        \n",
      " 3   stars        int64         \n",
      " 4   useful       int64         \n",
      " 5   funny        int64         \n",
      " 6   cool         int64         \n",
      " 7   text         object        \n",
      " 8   date         datetime64[ns]\n",
      "dtypes: datetime64[ns](1), int64(4), object(4)\n",
      "memory usage: 300.1+ MB\n"
     ]
    }
   ],
   "source": [
    "## Testing review df filtering\n",
    "chunk_size = 100000\n",
    "reviews_df = data_cleaning.filter_review_data(\"data/yelp_academic_dataset_review.json\", restaurants_df, chunk_size)\n",
    "reviews_df.info()\n",
    "\n",
    "## Testing save and load\n",
    "data_cleaning.save(reviews_df, \"data/filtered_reviews.json\")\n",
    "reloaded_reviews_df = data_cleaning.load(\"data/filtered_reviews.json\", chunk_size)\n",
    "reloaded_reviews_df.info()"
   ]
  },
  {
   "cell_type": "code",
   "execution_count": 18,
   "id": "34199a2a-55d7-4d76-ad3d-1afc9c5d184c",
   "metadata": {},
   "outputs": [
    {
     "name": "stdout",
     "output_type": "stream",
     "text": [
      "<class 'pandas.core.frame.DataFrame'>\n",
      "Index: 1379968 entries, 0 to 1987896\n",
      "Data columns (total 22 columns):\n",
      " #   Column              Non-Null Count    Dtype  \n",
      "---  ------              --------------    -----  \n",
      " 0   user_id             1379968 non-null  object \n",
      " 1   name                1379968 non-null  object \n",
      " 2   review_count        1379968 non-null  int64  \n",
      " 3   yelping_since       1379968 non-null  object \n",
      " 4   useful              1379968 non-null  int64  \n",
      " 5   funny               1379968 non-null  int64  \n",
      " 6   cool                1379968 non-null  int64  \n",
      " 7   elite               1379968 non-null  object \n",
      " 8   friends             1379968 non-null  object \n",
      " 9   fans                1379968 non-null  int64  \n",
      " 10  average_stars       1379968 non-null  float64\n",
      " 11  compliment_hot      1379968 non-null  int64  \n",
      " 12  compliment_more     1379968 non-null  int64  \n",
      " 13  compliment_profile  1379968 non-null  int64  \n",
      " 14  compliment_cute     1379968 non-null  int64  \n",
      " 15  compliment_list     1379968 non-null  int64  \n",
      " 16  compliment_note     1379968 non-null  int64  \n",
      " 17  compliment_plain    1379968 non-null  int64  \n",
      " 18  compliment_cool     1379968 non-null  int64  \n",
      " 19  compliment_funny    1379968 non-null  int64  \n",
      " 20  compliment_writer   1379968 non-null  int64  \n",
      " 21  compliment_photos   1379968 non-null  int64  \n",
      "dtypes: float64(1), int64(16), object(5)\n",
      "memory usage: 242.2+ MB\n",
      "<class 'pandas.core.frame.DataFrame'>\n",
      "RangeIndex: 1379968 entries, 0 to 1379967\n",
      "Data columns (total 22 columns):\n",
      " #   Column              Non-Null Count    Dtype  \n",
      "---  ------              --------------    -----  \n",
      " 0   user_id             1379968 non-null  object \n",
      " 1   name                1379968 non-null  object \n",
      " 2   review_count        1379968 non-null  int64  \n",
      " 3   yelping_since       1379968 non-null  object \n",
      " 4   useful              1379968 non-null  int64  \n",
      " 5   funny               1379968 non-null  int64  \n",
      " 6   cool                1379968 non-null  int64  \n",
      " 7   elite               1379968 non-null  object \n",
      " 8   friends             1379968 non-null  object \n",
      " 9   fans                1379968 non-null  int64  \n",
      " 10  average_stars       1379968 non-null  float64\n",
      " 11  compliment_hot      1379968 non-null  int64  \n",
      " 12  compliment_more     1379968 non-null  int64  \n",
      " 13  compliment_profile  1379968 non-null  int64  \n",
      " 14  compliment_cute     1379968 non-null  int64  \n",
      " 15  compliment_list     1379968 non-null  int64  \n",
      " 16  compliment_note     1379968 non-null  int64  \n",
      " 17  compliment_plain    1379968 non-null  int64  \n",
      " 18  compliment_cool     1379968 non-null  int64  \n",
      " 19  compliment_funny    1379968 non-null  int64  \n",
      " 20  compliment_writer   1379968 non-null  int64  \n",
      " 21  compliment_photos   1379968 non-null  int64  \n",
      "dtypes: float64(1), int64(16), object(5)\n",
      "memory usage: 231.6+ MB\n"
     ]
    }
   ],
   "source": [
    "## Testing users df filtering\n",
    "chunk_size = 100000\n",
    "users_df = filter_user_data(\"data/yelp_academic_dataset_user.json\", reviews_df, chunk_size)\n",
    "users_df.info()\n",
    "\n",
    "## Testing save and load\n",
    "save(users_df, \"data/filtered_users.json\")\n",
    "reloaded_users_df = load(\"data/filtered_users.json\", chunk_size)\n",
    "reloaded_users_df.info()"
   ]
  },
  {
   "cell_type": "code",
   "execution_count": 9,
   "id": "d392cbbc",
   "metadata": {},
   "outputs": [
    {
     "name": "stdout",
     "output_type": "stream",
     "text": [
      "Near North Side has 5500 hits\n"
     ]
    },
    {
     "name": "stderr",
     "output_type": "stream",
     "text": [
      "/home/chasty2/Documents/group-project-better-late-than-never/chicago_api.py:80: FutureWarning: The behavior of DataFrame concatenation with empty or all-NA entries is deprecated. In a future version, this will no longer exclude empty or all-NA columns when determining the result dtypes. To retain the old behavior, exclude the relevant entries before the concat operation.\n",
      "  all_restaurants = pd.concat([all_restaurants, restaurants_df], ignore_index=True)\n"
     ]
    },
    {
     "name": "stdout",
     "output_type": "stream",
     "text": [
      "Lincoln Park has 6000 hits\n",
      "Norwood Park has 2500 hits\n",
      "Logan Square has 1700 hits\n",
      "Greater Grand Crossing has 634 hits\n",
      "Lincoln Park has 6000 hits\n",
      "Ashburn has 1900 hits\n",
      "West Ridge has 1100 hits\n",
      "Calumet Heights has 366 hits\n",
      "Lower West Side has 5000 hits\n",
      "Logan Square has 1700 hits\n",
      "West Town has 6300 hits\n",
      "Avondale has 6500 hits\n",
      "Irving Park has 6200 hits\n",
      "Portage Park has 891 hits\n",
      "Near South Side has 2300 hits\n",
      "Douglas has 929 hits\n",
      "Roseland has 1300 hits\n",
      "The Loop has 2800 hits\n",
      "West Town has 6300 hits\n",
      "Pullman has 260 hits\n",
      "Lincoln Park has 6000 hits\n",
      "Lincoln Square has 1800 hits\n",
      "Lincoln Square has 1800 hits\n",
      "Albany Park has 4900 hits\n",
      "Near North Side has 5500 hits\n",
      "West Town has 6300 hits\n",
      "North Park has 1100 hits\n",
      "Riverdale has 972 hits\n",
      "Rogers Park has 814 hits\n",
      "North Center has 631 hits\n",
      "West Ridge has 1100 hits\n",
      "Roseland has 1300 hits\n",
      "Roseland has 1300 hits\n",
      "North Center has 631 hits\n",
      "Forest Glen has 523 hits\n",
      "O'Hare has 1900 hits\n",
      "Dunning has 2700 hits\n",
      "Ashburn has 1900 hits\n",
      "Lincoln Park has 6000 hits\n",
      "Uptown has 1400 hits\n",
      "Lakeview has 1800 hits\n",
      "Garfield Ridge has 2000 hits\n",
      "West Town has 6300 hits\n",
      "Austin has 3800 hits\n",
      "South Chicago has 979 hits\n",
      "Douglas has 929 hits\n",
      "South Deering has 999 hits\n",
      "Lake View has 1800 hits\n",
      "Forest Glen has 523 hits\n"
     ]
    }
   ],
   "source": [
    "## Pull Chicago API data\n",
    "#chi_restaurants_df = chi.get_chicago_restaurants_df(0, 10)\n",
    "#chi_restaurants_df = chi.get_chicago_restaurants_df(10, 60)\n",
    "#chi_restaurants_df = chi.get_chicago_restaurants_df(60, 110)\n",
    "#chi_restaurants_df = chi.get_chicago_restaurants_df(110, 160)\n",
    "chi_restaurants_df = chi.get_chicago_restaurants_df(160, 210)"
   ]
  },
  {
   "cell_type": "code",
   "execution_count": 10,
   "id": "c9ab367f",
   "metadata": {},
   "outputs": [],
   "source": [
    "all_chi_restaurants = data_cleaning.load(\"data/chicago_restaurants_incomplete\", 100_000)"
   ]
  },
  {
   "cell_type": "code",
   "execution_count": 11,
   "id": "249b639f",
   "metadata": {},
   "outputs": [
    {
     "name": "stdout",
     "output_type": "stream",
     "text": [
      "<class 'pandas.core.frame.DataFrame'>\n",
      "RangeIndex: 38148 entries, 0 to 38147\n",
      "Data columns (total 19 columns):\n",
      " #   Column          Non-Null Count  Dtype  \n",
      "---  ------          --------------  -----  \n",
      " 0   id              38148 non-null  object \n",
      " 1   alias           38148 non-null  object \n",
      " 2   name            38148 non-null  object \n",
      " 3   image_url       38148 non-null  object \n",
      " 4   is_closed       38148 non-null  bool   \n",
      " 5   url             38148 non-null  object \n",
      " 6   review_count    38148 non-null  int64  \n",
      " 7   categories      38148 non-null  object \n",
      " 8   rating          38148 non-null  float64\n",
      " 9   coordinates     38148 non-null  object \n",
      " 10  transactions    38148 non-null  object \n",
      " 11  price           16873 non-null  object \n",
      " 12  location        38148 non-null  object \n",
      " 13  phone           38148 non-null  object \n",
      " 14  display_phone   38148 non-null  object \n",
      " 15  distance        38148 non-null  float64\n",
      " 16  business_hours  38148 non-null  object \n",
      " 17  attributes      38148 non-null  object \n",
      " 18  neighborhood    38148 non-null  object \n",
      "dtypes: bool(1), float64(2), int64(1), object(15)\n",
      "memory usage: 5.3+ MB\n"
     ]
    }
   ],
   "source": [
    "all_chi_restaurants.info()"
   ]
  },
  {
   "cell_type": "code",
   "execution_count": 12,
   "id": "e654dc72",
   "metadata": {},
   "outputs": [],
   "source": [
    "all_chi_restaurants = pd.concat([all_chi_restaurants, chi_restaurants_df], ignore_index=True)\n",
    "data_cleaning.save(all_chi_restaurants, \"data/chicago_restaurants_incomplete\")"
   ]
  },
  {
   "cell_type": "code",
   "execution_count": 13,
   "id": "cbf1f2be",
   "metadata": {},
   "outputs": [
    {
     "name": "stdout",
     "output_type": "stream",
     "text": [
      "<class 'pandas.core.frame.DataFrame'>\n",
      "RangeIndex: 50148 entries, 0 to 50147\n",
      "Data columns (total 19 columns):\n",
      " #   Column          Non-Null Count  Dtype  \n",
      "---  ------          --------------  -----  \n",
      " 0   id              50148 non-null  object \n",
      " 1   alias           50148 non-null  object \n",
      " 2   name            50148 non-null  object \n",
      " 3   image_url       50148 non-null  object \n",
      " 4   is_closed       50148 non-null  object \n",
      " 5   url             50148 non-null  object \n",
      " 6   review_count    50148 non-null  object \n",
      " 7   categories      50148 non-null  object \n",
      " 8   rating          50148 non-null  float64\n",
      " 9   coordinates     50148 non-null  object \n",
      " 10  transactions    50148 non-null  object \n",
      " 11  price           21745 non-null  object \n",
      " 12  location        50148 non-null  object \n",
      " 13  phone           50148 non-null  object \n",
      " 14  display_phone   50148 non-null  object \n",
      " 15  distance        50148 non-null  float64\n",
      " 16  business_hours  50148 non-null  object \n",
      " 17  attributes      50148 non-null  object \n",
      " 18  neighborhood    50148 non-null  object \n",
      "dtypes: float64(2), object(17)\n",
      "memory usage: 7.3+ MB\n"
     ]
    }
   ],
   "source": [
    "all_chi_restaurants.info()"
   ]
  }
 ],
 "metadata": {
  "kernelspec": {
   "display_name": "Python 3 (ipykernel)",
   "language": "python",
   "name": "python3"
  },
  "language_info": {
   "codemirror_mode": {
    "name": "ipython",
    "version": 3
   },
   "file_extension": ".py",
   "mimetype": "text/x-python",
   "name": "python",
   "nbconvert_exporter": "python",
   "pygments_lexer": "ipython3",
   "version": "3.12.10"
  }
 },
 "nbformat": 4,
 "nbformat_minor": 5
}
