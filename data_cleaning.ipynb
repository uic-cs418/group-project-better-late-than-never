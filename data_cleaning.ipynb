{
 "cells": [
  {
   "cell_type": "code",
   "execution_count": 1,
   "id": "f4057268-1e59-4e41-9170-edf9b601a05c",
   "metadata": {},
   "outputs": [],
   "source": [
    "import pandas as pd\n",
    "import numpy as np\n",
    "import data_cleaning"
   ]
  },
  {
   "cell_type": "code",
   "execution_count": 2,
   "id": "20e1a4ab-4c6a-4c2c-9676-1cd9af5e88bd",
   "metadata": {},
   "outputs": [
    {
     "name": "stdout",
     "output_type": "stream",
     "text": [
      "<class 'pandas.core.frame.DataFrame'>\n",
      "RangeIndex: 27893 entries, 0 to 27892\n",
      "Data columns (total 14 columns):\n",
      " #   Column        Non-Null Count  Dtype  \n",
      "---  ------        --------------  -----  \n",
      " 0   business_id   27893 non-null  object \n",
      " 1   name          27893 non-null  object \n",
      " 2   address       27893 non-null  object \n",
      " 3   city          27893 non-null  object \n",
      " 4   state         27893 non-null  object \n",
      " 5   postal_code   27893 non-null  object \n",
      " 6   latitude      27893 non-null  float64\n",
      " 7   longitude     27893 non-null  float64\n",
      " 8   stars         27893 non-null  float64\n",
      " 9   review_count  27893 non-null  int64  \n",
      " 10  is_open       27893 non-null  int64  \n",
      " 11  attributes    27887 non-null  object \n",
      " 12  categories    27893 non-null  object \n",
      " 13  hours         26537 non-null  object \n",
      "dtypes: float64(3), int64(2), object(9)\n",
      "memory usage: 3.0+ MB\n"
     ]
    }
   ],
   "source": [
    "## Testing restaurant df filtering\n",
    "chunk_size = 100000\n",
    "restaurants_df = data_cleaning.filter_business_data(\"data/yelp_academic_dataset_business.json\", chunk_size)\n",
    "\n",
    "## Testing save and load\n",
    "data_cleaning.save(restaurants_df, \"data/filtered_restaurants.json\")\n",
    "reloaded_restaurants_df = data_cleaning.load(\"data/filtered_restaurants.json\", chunk_size)\n",
    "reloaded_restaurants_df.info()"
   ]
  },
  {
   "cell_type": "code",
   "execution_count": 4,
   "id": "0bf7a1ca-2899-4876-ad35-3d72fe4d5499",
   "metadata": {},
   "outputs": [
    {
     "name": "stdout",
     "output_type": "stream",
     "text": [
      "<class 'pandas.core.frame.DataFrame'>\n",
      "Index: 4371248 entries, 0 to 6990279\n",
      "Data columns (total 9 columns):\n",
      " #   Column       Dtype         \n",
      "---  ------       -----         \n",
      " 0   review_id    object        \n",
      " 1   user_id      object        \n",
      " 2   business_id  object        \n",
      " 3   stars        int64         \n",
      " 4   useful       int64         \n",
      " 5   funny        int64         \n",
      " 6   cool         int64         \n",
      " 7   text         object        \n",
      " 8   date         datetime64[ns]\n",
      "dtypes: datetime64[ns](1), int64(4), object(4)\n",
      "memory usage: 333.5+ MB\n",
      "<class 'pandas.core.frame.DataFrame'>\n",
      "RangeIndex: 4371248 entries, 0 to 4371247\n",
      "Data columns (total 9 columns):\n",
      " #   Column       Dtype         \n",
      "---  ------       -----         \n",
      " 0   review_id    object        \n",
      " 1   user_id      object        \n",
      " 2   business_id  object        \n",
      " 3   stars        int64         \n",
      " 4   useful       int64         \n",
      " 5   funny        int64         \n",
      " 6   cool         int64         \n",
      " 7   text         object        \n",
      " 8   date         datetime64[ns]\n",
      "dtypes: datetime64[ns](1), int64(4), object(4)\n",
      "memory usage: 300.1+ MB\n"
     ]
    }
   ],
   "source": [
    "## Testing review df filtering\n",
    "chunk_size = 100000\n",
    "reviews_df = data_cleaning.filter_review_data(\"data/yelp_academic_dataset_review.json\", restaurants_df, chunk_size)\n",
    "reviews_df.info()\n",
    "\n",
    "## Testing save and load\n",
    "data_cleaning.save(reviews_df, \"data/filtered_reviews.json\")\n",
    "reloaded_reviews_df = data_cleaning.load(\"data/filtered_reviews.json\", chunk_size)\n",
    "reloaded_reviews_df.info()"
   ]
  },
  {
   "cell_type": "code",
   "execution_count": 18,
   "id": "34199a2a-55d7-4d76-ad3d-1afc9c5d184c",
   "metadata": {},
   "outputs": [
    {
     "name": "stdout",
     "output_type": "stream",
     "text": [
      "<class 'pandas.core.frame.DataFrame'>\n",
      "Index: 1379968 entries, 0 to 1987896\n",
      "Data columns (total 22 columns):\n",
      " #   Column              Non-Null Count    Dtype  \n",
      "---  ------              --------------    -----  \n",
      " 0   user_id             1379968 non-null  object \n",
      " 1   name                1379968 non-null  object \n",
      " 2   review_count        1379968 non-null  int64  \n",
      " 3   yelping_since       1379968 non-null  object \n",
      " 4   useful              1379968 non-null  int64  \n",
      " 5   funny               1379968 non-null  int64  \n",
      " 6   cool                1379968 non-null  int64  \n",
      " 7   elite               1379968 non-null  object \n",
      " 8   friends             1379968 non-null  object \n",
      " 9   fans                1379968 non-null  int64  \n",
      " 10  average_stars       1379968 non-null  float64\n",
      " 11  compliment_hot      1379968 non-null  int64  \n",
      " 12  compliment_more     1379968 non-null  int64  \n",
      " 13  compliment_profile  1379968 non-null  int64  \n",
      " 14  compliment_cute     1379968 non-null  int64  \n",
      " 15  compliment_list     1379968 non-null  int64  \n",
      " 16  compliment_note     1379968 non-null  int64  \n",
      " 17  compliment_plain    1379968 non-null  int64  \n",
      " 18  compliment_cool     1379968 non-null  int64  \n",
      " 19  compliment_funny    1379968 non-null  int64  \n",
      " 20  compliment_writer   1379968 non-null  int64  \n",
      " 21  compliment_photos   1379968 non-null  int64  \n",
      "dtypes: float64(1), int64(16), object(5)\n",
      "memory usage: 242.2+ MB\n",
      "<class 'pandas.core.frame.DataFrame'>\n",
      "RangeIndex: 1379968 entries, 0 to 1379967\n",
      "Data columns (total 22 columns):\n",
      " #   Column              Non-Null Count    Dtype  \n",
      "---  ------              --------------    -----  \n",
      " 0   user_id             1379968 non-null  object \n",
      " 1   name                1379968 non-null  object \n",
      " 2   review_count        1379968 non-null  int64  \n",
      " 3   yelping_since       1379968 non-null  object \n",
      " 4   useful              1379968 non-null  int64  \n",
      " 5   funny               1379968 non-null  int64  \n",
      " 6   cool                1379968 non-null  int64  \n",
      " 7   elite               1379968 non-null  object \n",
      " 8   friends             1379968 non-null  object \n",
      " 9   fans                1379968 non-null  int64  \n",
      " 10  average_stars       1379968 non-null  float64\n",
      " 11  compliment_hot      1379968 non-null  int64  \n",
      " 12  compliment_more     1379968 non-null  int64  \n",
      " 13  compliment_profile  1379968 non-null  int64  \n",
      " 14  compliment_cute     1379968 non-null  int64  \n",
      " 15  compliment_list     1379968 non-null  int64  \n",
      " 16  compliment_note     1379968 non-null  int64  \n",
      " 17  compliment_plain    1379968 non-null  int64  \n",
      " 18  compliment_cool     1379968 non-null  int64  \n",
      " 19  compliment_funny    1379968 non-null  int64  \n",
      " 20  compliment_writer   1379968 non-null  int64  \n",
      " 21  compliment_photos   1379968 non-null  int64  \n",
      "dtypes: float64(1), int64(16), object(5)\n",
      "memory usage: 231.6+ MB\n"
     ]
    }
   ],
   "source": [
    "## Testing users df filtering\n",
    "chunk_size = 100000\n",
    "users_df = filter_user_data(\"data/yelp_academic_dataset_user.json\", reviews_df, chunk_size)\n",
    "users_df.info()\n",
    "\n",
    "## Testing save and load\n",
    "save(users_df, \"data/filtered_users.json\")\n",
    "reloaded_users_df = load(\"data/filtered_users.json\", chunk_size)\n",
    "reloaded_users_df.info()"
   ]
  }
 ],
 "metadata": {
  "kernelspec": {
   "display_name": "Python 3 (ipykernel)",
   "language": "python",
   "name": "python3"
  },
  "language_info": {
   "codemirror_mode": {
    "name": "ipython",
    "version": 3
   },
   "file_extension": ".py",
   "mimetype": "text/x-python",
   "name": "python",
   "nbconvert_exporter": "python",
   "pygments_lexer": "ipython3",
   "version": "3.12.8"
  }
 },
 "nbformat": 4,
 "nbformat_minor": 5
}
