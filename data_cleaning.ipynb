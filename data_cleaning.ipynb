{
 "cells": [
  {
   "cell_type": "code",
   "execution_count": 1,
   "id": "f4057268-1e59-4e41-9170-edf9b601a05c",
   "metadata": {},
   "outputs": [],
   "source": [
    "import pandas as pd\n",
    "import numpy as np"
   ]
  },
  {
   "cell_type": "code",
   "execution_count": 9,
   "id": "74a6b2bc-86fa-47a0-b2fb-4f744b723736",
   "metadata": {},
   "outputs": [],
   "source": [
    "### Data Cleaning Methods\n",
    "\n",
    "def load(json, chunk_size):\n",
    "    \"\"\"\n",
    "    Load a large JSON into a dataframe, chunk_size rows at a time\n",
    "    \"\"\"\n",
    "    dataframe = pd.DataFrame()\n",
    "    for chunk in pd.read_json(json, lines=True, chunksize=chunk_size):\n",
    "        dataframe = pd.concat([dataframe, chunk])\n",
    "\n",
    "    return dataframe\n",
    "    \n",
    "\n",
    "def filter_business_data(business_dataset, chunk_size):\n",
    "    '''\n",
    "    Input Yelp business data and chunk_size, output all restaurants with >= 30 reviews\n",
    "    '''\n",
    "    # Read yelp business data into dataframe\n",
    "    unfiltered_business_df = load(business_dataset, chunk_size)\n",
    "    # Select all businesses with \"Restaurants\" category\n",
    "    restaurants_df = unfiltered_business_df[(unfiltered_business_df[\"categories\"].str.contains(\"restaurants\", case=False, na=False))]\n",
    "    # Select all restaurants with > 30 reviews\n",
    "    reviewed_restaurants = restaurants_df[(restaurants_df[\"review_count\"] >= 30)]\n",
    "\n",
    "    return reviewed_restaurants\n",
    "\n",
    "\n",
    "def filter_review_data(review_dataset, reviewed_restaurants, chunk_size):\n",
    "    \"\"\"\n",
    "    Input Yelp review data and chunk size (number of reviews to read into memory at one time).\n",
    "    Output all reviews about restaurants returned from filter_business_data\n",
    "    \"\"\"\n",
    "    # Read yelp review data into dataframe\n",
    "    unfiltered_reviews = load(review_dataset, chunk_size)\n",
    "    # Select only reviews of businesses in our filtered dataset\n",
    "    reviewed_restaurant_mask = unfiltered_reviews['business_id'].isin(reviewed_restaurants['business_id'])\n",
    "    filtered_reviews = unfiltered_reviews[reviewed_restaurant_mask]\n",
    "\n",
    "    return filtered_reviews\n",
    "\n",
    "\n",
    "def filter_user_data(users_dataset, filtered_reviews, chunk_size):\n",
    "    \"\"\"\n",
    "    Input Yelp user data, filtered review data, and chunk size (number of users to read into memory at a time).\n",
    "    Output all users who have written reviews about restaurants returned from filter_business_data\n",
    "    \"\"\"\n",
    "    # Read yelp user data into dataframe\n",
    "    unfiltered_users = load(users_dataset, chunk_size)\n",
    "    # Select only users who have written the reviews in our filtered dataset\n",
    "    filtered_users = unfiltered_users[unfiltered_users['user_id'].isin(filtered_reviews['user_id'])]\n",
    "\n",
    "    return filtered_users"
   ]
  },
  {
   "cell_type": "code",
   "execution_count": 5,
   "id": "20e1a4ab-4c6a-4c2c-9676-1cd9af5e88bd",
   "metadata": {},
   "outputs": [
    {
     "name": "stdout",
     "output_type": "stream",
     "text": [
      "<class 'pandas.core.frame.DataFrame'>\n",
      "Index: 27893 entries, 3 to 150336\n",
      "Data columns (total 14 columns):\n",
      " #   Column        Non-Null Count  Dtype  \n",
      "---  ------        --------------  -----  \n",
      " 0   business_id   27893 non-null  object \n",
      " 1   name          27893 non-null  object \n",
      " 2   address       27893 non-null  object \n",
      " 3   city          27893 non-null  object \n",
      " 4   state         27893 non-null  object \n",
      " 5   postal_code   27893 non-null  object \n",
      " 6   latitude      27893 non-null  float64\n",
      " 7   longitude     27893 non-null  float64\n",
      " 8   stars         27893 non-null  float64\n",
      " 9   review_count  27893 non-null  int64  \n",
      " 10  is_open       27893 non-null  int64  \n",
      " 11  attributes    27887 non-null  object \n",
      " 12  categories    27893 non-null  object \n",
      " 13  hours         26537 non-null  object \n",
      "dtypes: float64(3), int64(2), object(9)\n",
      "memory usage: 3.2+ MB\n"
     ]
    }
   ],
   "source": [
    "## Testing restaurant df\n",
    "chunk_size = 100000\n",
    "restaurants_df = filter_business_data(\"data/yelp_academic_dataset_business.json\", chunk_size)\n",
    "restaurants_df.info()"
   ]
  },
  {
   "cell_type": "code",
   "execution_count": 8,
   "id": "0bf7a1ca-2899-4876-ad35-3d72fe4d5499",
   "metadata": {},
   "outputs": [
    {
     "name": "stdout",
     "output_type": "stream",
     "text": [
      "<class 'pandas.core.frame.DataFrame'>\n",
      "Index: 4371248 entries, 0 to 6990279\n",
      "Data columns (total 9 columns):\n",
      " #   Column       Dtype         \n",
      "---  ------       -----         \n",
      " 0   review_id    object        \n",
      " 1   user_id      object        \n",
      " 2   business_id  object        \n",
      " 3   stars        int64         \n",
      " 4   useful       int64         \n",
      " 5   funny        int64         \n",
      " 6   cool         int64         \n",
      " 7   text         object        \n",
      " 8   date         datetime64[ns]\n",
      "dtypes: datetime64[ns](1), int64(4), object(4)\n",
      "memory usage: 333.5+ MB\n"
     ]
    }
   ],
   "source": [
    "## Testing review df\n",
    "chunk_size = 100000\n",
    "reviews_df = filter_review_data(\"data/yelp_academic_dataset_review.json\", restaurants_df, chunk_size)\n",
    "reviews_df.info()"
   ]
  },
  {
   "cell_type": "code",
   "execution_count": 10,
   "id": "34199a2a-55d7-4d76-ad3d-1afc9c5d184c",
   "metadata": {},
   "outputs": [
    {
     "name": "stdout",
     "output_type": "stream",
     "text": [
      "<class 'pandas.core.frame.DataFrame'>\n",
      "Index: 1379968 entries, 0 to 1987896\n",
      "Data columns (total 22 columns):\n",
      " #   Column              Non-Null Count    Dtype  \n",
      "---  ------              --------------    -----  \n",
      " 0   user_id             1379968 non-null  object \n",
      " 1   name                1379968 non-null  object \n",
      " 2   review_count        1379968 non-null  int64  \n",
      " 3   yelping_since       1379968 non-null  object \n",
      " 4   useful              1379968 non-null  int64  \n",
      " 5   funny               1379968 non-null  int64  \n",
      " 6   cool                1379968 non-null  int64  \n",
      " 7   elite               1379968 non-null  object \n",
      " 8   friends             1379968 non-null  object \n",
      " 9   fans                1379968 non-null  int64  \n",
      " 10  average_stars       1379968 non-null  float64\n",
      " 11  compliment_hot      1379968 non-null  int64  \n",
      " 12  compliment_more     1379968 non-null  int64  \n",
      " 13  compliment_profile  1379968 non-null  int64  \n",
      " 14  compliment_cute     1379968 non-null  int64  \n",
      " 15  compliment_list     1379968 non-null  int64  \n",
      " 16  compliment_note     1379968 non-null  int64  \n",
      " 17  compliment_plain    1379968 non-null  int64  \n",
      " 18  compliment_cool     1379968 non-null  int64  \n",
      " 19  compliment_funny    1379968 non-null  int64  \n",
      " 20  compliment_writer   1379968 non-null  int64  \n",
      " 21  compliment_photos   1379968 non-null  int64  \n",
      "dtypes: float64(1), int64(16), object(5)\n",
      "memory usage: 242.2+ MB\n"
     ]
    }
   ],
   "source": [
    "## Testing users df\n",
    "chunk_size = 100000\n",
    "reviews_df = filter_user_data(\"data/yelp_academic_dataset_user.json\", reviews_df, chunk_size)\n",
    "reviews_df.info()"
   ]
  }
 ],
 "metadata": {
  "kernelspec": {
   "display_name": "Python 3 (ipykernel)",
   "language": "python",
   "name": "python3"
  },
  "language_info": {
   "codemirror_mode": {
    "name": "ipython",
    "version": 3
   },
   "file_extension": ".py",
   "mimetype": "text/x-python",
   "name": "python",
   "nbconvert_exporter": "python",
   "pygments_lexer": "ipython3",
   "version": "3.12.8"
  }
 },
 "nbformat": 4,
 "nbformat_minor": 5
}
