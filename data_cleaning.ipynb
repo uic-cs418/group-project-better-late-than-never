{
 "cells": [
  {
   "cell_type": "code",
   "execution_count": 2,
   "id": "f4057268-1e59-4e41-9170-edf9b601a05c",
   "metadata": {},
   "outputs": [],
   "source": [
    "import pandas as pd\n",
    "import numpy as np\n",
    "import seaborn as sns\n",
    "%matplotlib inline\n",
    "import matplotlib.pyplot as plt\n",
    "import plotly.express as px"
   ]
  },
  {
   "cell_type": "code",
   "execution_count": 23,
   "id": "74a6b2bc-86fa-47a0-b2fb-4f744b723736",
   "metadata": {},
   "outputs": [],
   "source": [
    "### Data Cleaning Methods\n",
    "\n",
    "def filter_business_data(business_dataset):\n",
    "    '''\n",
    "    Input Yelp business data, output all restaurants with >= 30 reviews\n",
    "    '''\n",
    "    \n",
    "    # Read yelp business data into dataframe\n",
    "    unfiltered_business_df = pd.read_json(business_dataset, lines=True)\n",
    "    # Select all businesses with \"Restaurants\" category\n",
    "    restaurants_df = unfilteredBusinessData[(unfilteredBusinessData[\"categories\"].str.contains(\"restaurants\", case=False, na=False))]\n",
    "    # Select all restaurants with > 30 reviews\n",
    "    reviewed_restaurants = restaurants_df[(restaurants_df[\"review_count\"] >= 30)]\n",
    "\n",
    "    return reviewed_restaurants\n",
    "\n",
    "def filter_review_data(review_dataset, filtered_restaurants, chunk_size):\n",
    "    \"\"\"\n",
    "    Input Yelp review data and chunk size (number of reviews to read into memory at one time).\n",
    "    Output all reviews about restaurants returned from filter_business_data\n",
    "    \"\"\"\n",
    "    \n",
    "    # Read yelp review data info dataframe\n",
    "    unfilteredReviews = pd.DataFrame()\n",
    "    for chunk in pd.read_json(, lines=True, chunksize=100000):\n",
    "        unfilteredReviews = pd.concat([unfilteredReviews, chunk])\n",
    "    # Select only reviews of businesses in our filtered dataset\n",
    "    reviewed_restaurant_mask = unfilteredReviews['business_id'].isin(reviewed_restaurants['business_id'])\n",
    "    filtered_reviews = unfilteredReviews[reviewed_restaurant_mask]\n",
    "\n",
    "    return filtered_reviews\n",
    "\n"
   ]
  },
  {
   "cell_type": "code",
   "execution_count": 22,
   "id": "20e1a4ab-4c6a-4c2c-9676-1cd9af5e88bd",
   "metadata": {},
   "outputs": [
    {
     "name": "stdout",
     "output_type": "stream",
     "text": [
      "<class 'pandas.core.frame.DataFrame'>\n",
      "Index: 27893 entries, 3 to 150336\n",
      "Data columns (total 14 columns):\n",
      " #   Column        Non-Null Count  Dtype  \n",
      "---  ------        --------------  -----  \n",
      " 0   business_id   27893 non-null  object \n",
      " 1   name          27893 non-null  object \n",
      " 2   address       27893 non-null  object \n",
      " 3   city          27893 non-null  object \n",
      " 4   state         27893 non-null  object \n",
      " 5   postal_code   27893 non-null  object \n",
      " 6   latitude      27893 non-null  float64\n",
      " 7   longitude     27893 non-null  float64\n",
      " 8   stars         27893 non-null  float64\n",
      " 9   review_count  27893 non-null  int64  \n",
      " 10  is_open       27893 non-null  int64  \n",
      " 11  attributes    27887 non-null  object \n",
      " 12  categories    27893 non-null  object \n",
      " 13  hours         26537 non-null  object \n",
      "dtypes: float64(3), int64(2), object(9)\n",
      "memory usage: 3.2+ MB\n"
     ]
    }
   ],
   "source": [
    "## Testing restaurant df\n",
    "restaurants_df = filter_business_data(\"data/yelp_academic_dataset_business.json\")\n",
    "restaurants_df.info()"
   ]
  },
  {
   "cell_type": "code",
   "execution_count": 24,
   "id": "0bf7a1ca-2899-4876-ad35-3d72fe4d5499",
   "metadata": {},
   "outputs": [
    {
     "name": "stdout",
     "output_type": "stream",
     "text": [
      "<class 'pandas.core.frame.DataFrame'>\n",
      "Index: 4371248 entries, 0 to 6990279\n",
      "Data columns (total 9 columns):\n",
      " #   Column       Dtype         \n",
      "---  ------       -----         \n",
      " 0   review_id    object        \n",
      " 1   user_id      object        \n",
      " 2   business_id  object        \n",
      " 3   stars        int64         \n",
      " 4   useful       int64         \n",
      " 5   funny        int64         \n",
      " 6   cool         int64         \n",
      " 7   text         object        \n",
      " 8   date         datetime64[ns]\n",
      "dtypes: datetime64[ns](1), int64(4), object(4)\n",
      "memory usage: 333.5+ MB\n"
     ]
    }
   ],
   "source": [
    "## Testing review df\n",
    "chunk_size = 100000\n",
    "reviews_df = filter_review_data(\"data/yelp_academic_dataset_review.json\", restaurants_df, chunk_size)\n",
    "reviews_df.info()"
   ]
  },
  {
   "cell_type": "code",
   "execution_count": 4,
   "id": "34199a2a-55d7-4d76-ad3d-1afc9c5d184c",
   "metadata": {},
   "outputs": [],
   "source": [
    "# Read yelp user data into dataframe\n",
    "unfilteredUsers=pd.DataFrame()\n",
    "\n",
    "userReviewReader=pd.read_json(\"data/yelp_academic_dataset_user.json\", lines=True, chunksize=)\n",
    "for chunk in userReviewReader:\n",
    "    unfilteredUsers = pd.concat([unfilteredUsers, chunk])"
   ]
  },
  {
   "cell_type": "code",
   "execution_count": 5,
   "id": "55c51802-9c87-4f81-b354-346b8aed4f20",
   "metadata": {},
   "outputs": [
    {
     "name": "stdout",
     "output_type": "stream",
     "text": [
      "<class 'pandas.core.frame.DataFrame'>\n",
      "RangeIndex: 1987897 entries, 0 to 1987896\n",
      "Data columns (total 22 columns):\n",
      " #   Column              Dtype  \n",
      "---  ------              -----  \n",
      " 0   user_id             object \n",
      " 1   name                object \n",
      " 2   review_count        int64  \n",
      " 3   yelping_since       object \n",
      " 4   useful              int64  \n",
      " 5   funny               int64  \n",
      " 6   cool                int64  \n",
      " 7   elite               object \n",
      " 8   friends             object \n",
      " 9   fans                int64  \n",
      " 10  average_stars       float64\n",
      " 11  compliment_hot      int64  \n",
      " 12  compliment_more     int64  \n",
      " 13  compliment_profile  int64  \n",
      " 14  compliment_cute     int64  \n",
      " 15  compliment_list     int64  \n",
      " 16  compliment_note     int64  \n",
      " 17  compliment_plain    int64  \n",
      " 18  compliment_cool     int64  \n",
      " 19  compliment_funny    int64  \n",
      " 20  compliment_writer   int64  \n",
      " 21  compliment_photos   int64  \n",
      "dtypes: float64(1), int64(16), object(5)\n",
      "memory usage: 333.7+ MB\n"
     ]
    }
   ],
   "source": [
    "# Examine user data\n",
    "unfilteredUsers.info()"
   ]
  },
  {
   "cell_type": "code",
   "execution_count": 5,
   "id": "c7d781ea-5174-40de-8bfc-4695832a841b",
   "metadata": {},
   "outputs": [],
   "source": []
  },
  {
   "cell_type": "code",
   "execution_count": 18,
   "id": "70a767e7-ccd4-4fad-9f29-e0a260648db0",
   "metadata": {},
   "outputs": [
    {
     "name": "stdout",
     "output_type": "stream",
     "text": [
      "<class 'pandas.core.frame.DataFrame'>\n",
      "Index: 4371248 entries, 0 to 6990279\n",
      "Data columns (total 9 columns):\n",
      " #   Column       Dtype         \n",
      "---  ------       -----         \n",
      " 0   review_id    object        \n",
      " 1   user_id      object        \n",
      " 2   business_id  object        \n",
      " 3   stars        int64         \n",
      " 4   useful       int64         \n",
      " 5   funny        int64         \n",
      " 6   cool         int64         \n",
      " 7   text         object        \n",
      " 8   date         datetime64[ns]\n",
      "dtypes: datetime64[ns](1), int64(4), object(4)\n",
      "memory usage: 333.5+ MB\n"
     ]
    }
   ],
   "source": [
    "# Examine review data\n",
    "# unfilteredReviews.info()\n",
    "\n"
   ]
  }
 ],
 "metadata": {
  "kernelspec": {
   "display_name": "Python 3 (ipykernel)",
   "language": "python",
   "name": "python3"
  },
  "language_info": {
   "codemirror_mode": {
    "name": "ipython",
    "version": 3
   },
   "file_extension": ".py",
   "mimetype": "text/x-python",
   "name": "python",
   "nbconvert_exporter": "python",
   "pygments_lexer": "ipython3",
   "version": "3.12.8"
  }
 },
 "nbformat": 4,
 "nbformat_minor": 5
}
