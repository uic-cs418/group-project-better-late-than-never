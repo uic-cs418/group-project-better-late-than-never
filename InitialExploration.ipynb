{
 "cells": [
  {
   "cell_type": "code",
   "execution_count": 2,
   "id": "7810d74a-22e8-470a-8cd8-0aef0b4c7b0b",
   "metadata": {},
   "outputs": [],
   "source": [
    "import pandas as pd\n",
    "import numpy as np\n",
    "import seaborn as sns\n",
    "%matplotlib inline\n",
    "import matplotlib.pyplot as plt\n",
    "import plotly.express as px\n",
    "import data_cleaning\n",
    "import review_score_analysis\n",
    "import price_range_analysis"
   ]
  },
  {
   "cell_type": "code",
   "execution_count": 3,
   "id": "6106b04c-557a-476f-a43d-a9698cbbf149",
   "metadata": {},
   "outputs": [],
   "source": [
    "# Data Cleaning:\n",
    "\n",
    "# Adjust as needed, these dataframes are big. No, really\n",
    "chunk_size = 10_000\n",
    "\n",
    "\n",
    "# Using these functions, we select businesses marked with the category \"restaurant\" (case insensitive) and select\n",
    "# the restaurants with 30 or more reviews, leaving out any restaurants with fewer than that.\n",
    "restaurants_df = data_cleaning.filter_business_data(\"data/yelp_academic_dataset_business.json\", chunk_size)\n",
    "\n",
    "# From here, we clean the reviews data by removing any reviews of businesses that aren't in our restaurants_df Dataframe.\n",
    "reviews_df = data_cleaning.filter_review_data(\"data/yelp_academic_dataset_review.json\", restaurants_df, chunk_size)"
   ]
  },
  {
   "cell_type": "code",
   "execution_count": 4,
   "id": "a277c63a-0702-489e-8a2b-9419b5569174",
   "metadata": {},
   "outputs": [],
   "source": [
    "# unfilteredUsers=pd.DataFrame()\n",
    "\n",
    "# userReviewReader=pd.read_json(\"data/yelp_academic_dataset_user.json\", lines=True, chunksize=50000)\n",
    "# for chunk in userReviewReader:\n",
    "#     unfilteredUsers = pd.concat([unfilteredUsers, chunk])"
   ]
  },
  {
   "cell_type": "code",
   "execution_count": 5,
   "id": "2e5577d6-5fb1-4683-85e8-f471f0a18cff",
   "metadata": {},
   "outputs": [],
   "source": [
    "# unfilteredReviews.head()"
   ]
  },
  {
   "cell_type": "code",
   "execution_count": 6,
   "id": "104a1464-33f9-409b-b40c-8fb024fb47a0",
   "metadata": {},
   "outputs": [
    {
     "data": {
      "text/html": [
       "<div>\n",
       "<style scoped>\n",
       "    .dataframe tbody tr th:only-of-type {\n",
       "        vertical-align: middle;\n",
       "    }\n",
       "\n",
       "    .dataframe tbody tr th {\n",
       "        vertical-align: top;\n",
       "    }\n",
       "\n",
       "    .dataframe thead th {\n",
       "        text-align: right;\n",
       "    }\n",
       "</style>\n",
       "<table border=\"1\" class=\"dataframe\">\n",
       "  <thead>\n",
       "    <tr style=\"text-align: right;\">\n",
       "      <th></th>\n",
       "      <th>stars</th>\n",
       "    </tr>\n",
       "    <tr>\n",
       "      <th>business_id</th>\n",
       "      <th></th>\n",
       "    </tr>\n",
       "  </thead>\n",
       "  <tbody>\n",
       "    <tr>\n",
       "      <th>--ZVrH2X2QXBFdCilbirsw</th>\n",
       "      <td>4.722222</td>\n",
       "    </tr>\n",
       "    <tr>\n",
       "      <th>--epgcb7xHGuJ-4PUeSLAw</th>\n",
       "      <td>2.868421</td>\n",
       "    </tr>\n",
       "    <tr>\n",
       "      <th>-09Oc2D14vRnmirPh0vlXw</th>\n",
       "      <td>3.021898</td>\n",
       "    </tr>\n",
       "    <tr>\n",
       "      <th>-0EdehHjIQc0DtYU8QcAig</th>\n",
       "      <td>3.138889</td>\n",
       "    </tr>\n",
       "    <tr>\n",
       "      <th>-0FX23yAacC4bbLaGPvyxw</th>\n",
       "      <td>3.588571</td>\n",
       "    </tr>\n",
       "  </tbody>\n",
       "</table>\n",
       "</div>"
      ],
      "text/plain": [
       "                           stars\n",
       "business_id                     \n",
       "--ZVrH2X2QXBFdCilbirsw  4.722222\n",
       "--epgcb7xHGuJ-4PUeSLAw  2.868421\n",
       "-09Oc2D14vRnmirPh0vlXw  3.021898\n",
       "-0EdehHjIQc0DtYU8QcAig  3.138889\n",
       "-0FX23yAacC4bbLaGPvyxw  3.588571"
      ]
     },
     "execution_count": 6,
     "metadata": {},
     "output_type": "execute_result"
    }
   ],
   "source": [
    "# select the relevant columns for grouping\n",
    "businessStars=reviews_df[[\"business_id\", \"stars\"]]\n",
    "# businessStars.head()\n",
    "groupedReviews=businessStars.groupby(\"business_id\").mean()\n",
    "groupedReviews.head()"
   ]
  },
  {
   "cell_type": "code",
   "execution_count": 7,
   "id": "300432e7-8865-4e3d-8c6d-5bd3bd52230c",
   "metadata": {},
   "outputs": [
    {
     "data": {
      "text/html": [
       "<div>\n",
       "<style scoped>\n",
       "    .dataframe tbody tr th:only-of-type {\n",
       "        vertical-align: middle;\n",
       "    }\n",
       "\n",
       "    .dataframe tbody tr th {\n",
       "        vertical-align: top;\n",
       "    }\n",
       "\n",
       "    .dataframe thead th {\n",
       "        text-align: right;\n",
       "    }\n",
       "</style>\n",
       "<table border=\"1\" class=\"dataframe\">\n",
       "  <thead>\n",
       "    <tr style=\"text-align: right;\">\n",
       "      <th></th>\n",
       "      <th>business_id</th>\n",
       "      <th>name</th>\n",
       "      <th>address</th>\n",
       "      <th>city</th>\n",
       "      <th>state</th>\n",
       "      <th>postal_code</th>\n",
       "      <th>latitude</th>\n",
       "      <th>longitude</th>\n",
       "      <th>stars</th>\n",
       "      <th>review_count</th>\n",
       "      <th>is_open</th>\n",
       "      <th>attributes</th>\n",
       "      <th>categories</th>\n",
       "      <th>hours</th>\n",
       "      <th>average_stars</th>\n",
       "    </tr>\n",
       "  </thead>\n",
       "  <tbody>\n",
       "    <tr>\n",
       "      <th>0</th>\n",
       "      <td>MTSW4McQd7CbVtyjqoe9mw</td>\n",
       "      <td>St Honore Pastries</td>\n",
       "      <td>935 Race St</td>\n",
       "      <td>Philadelphia</td>\n",
       "      <td>PA</td>\n",
       "      <td>19107</td>\n",
       "      <td>39.955505</td>\n",
       "      <td>-75.155564</td>\n",
       "      <td>4.0</td>\n",
       "      <td>80</td>\n",
       "      <td>1</td>\n",
       "      <td>{'RestaurantsDelivery': 'False', 'OutdoorSeati...</td>\n",
       "      <td>Restaurants, Food, Bubble Tea, Coffee &amp; Tea, B...</td>\n",
       "      <td>{'Monday': '7:0-20:0', 'Tuesday': '7:0-20:0', ...</td>\n",
       "      <td>4.057471</td>\n",
       "    </tr>\n",
       "    <tr>\n",
       "      <th>1</th>\n",
       "      <td>0bPLkL0QhhPO5kt1_EXmNQ</td>\n",
       "      <td>Zio's Italian Market</td>\n",
       "      <td>2575 E Bay Dr</td>\n",
       "      <td>Largo</td>\n",
       "      <td>FL</td>\n",
       "      <td>33771</td>\n",
       "      <td>27.916116</td>\n",
       "      <td>-82.760461</td>\n",
       "      <td>4.5</td>\n",
       "      <td>100</td>\n",
       "      <td>0</td>\n",
       "      <td>{'OutdoorSeating': 'False', 'RestaurantsGoodFo...</td>\n",
       "      <td>Food, Delis, Italian, Bakeries, Restaurants</td>\n",
       "      <td>{'Monday': '10:0-18:0', 'Tuesday': '10:0-20:0'...</td>\n",
       "      <td>4.386792</td>\n",
       "    </tr>\n",
       "    <tr>\n",
       "      <th>2</th>\n",
       "      <td>MUTTqe8uqyMdBl186RmNeA</td>\n",
       "      <td>Tuna Bar</td>\n",
       "      <td>205 Race St</td>\n",
       "      <td>Philadelphia</td>\n",
       "      <td>PA</td>\n",
       "      <td>19106</td>\n",
       "      <td>39.953949</td>\n",
       "      <td>-75.143226</td>\n",
       "      <td>4.0</td>\n",
       "      <td>245</td>\n",
       "      <td>1</td>\n",
       "      <td>{'RestaurantsReservations': 'True', 'Restauran...</td>\n",
       "      <td>Sushi Bars, Restaurants, Japanese</td>\n",
       "      <td>{'Tuesday': '13:30-22:0', 'Wednesday': '13:30-...</td>\n",
       "      <td>4.200000</td>\n",
       "    </tr>\n",
       "    <tr>\n",
       "      <th>3</th>\n",
       "      <td>ROeacJQwBeh05Rqg7F6TCg</td>\n",
       "      <td>BAP</td>\n",
       "      <td>1224 South St</td>\n",
       "      <td>Philadelphia</td>\n",
       "      <td>PA</td>\n",
       "      <td>19147</td>\n",
       "      <td>39.943223</td>\n",
       "      <td>-75.162568</td>\n",
       "      <td>4.5</td>\n",
       "      <td>205</td>\n",
       "      <td>1</td>\n",
       "      <td>{'NoiseLevel': 'u'quiet'', 'GoodForMeal': '{'d...</td>\n",
       "      <td>Korean, Restaurants</td>\n",
       "      <td>{'Monday': '11:30-20:30', 'Tuesday': '11:30-20...</td>\n",
       "      <td>4.317308</td>\n",
       "    </tr>\n",
       "    <tr>\n",
       "      <th>4</th>\n",
       "      <td>WKMJwqnfZKsAae75RMP6jA</td>\n",
       "      <td>Roast Coffeehouse and Wine Bar</td>\n",
       "      <td>10359 104 Street NW</td>\n",
       "      <td>Edmonton</td>\n",
       "      <td>AB</td>\n",
       "      <td>T5J 1B9</td>\n",
       "      <td>53.546045</td>\n",
       "      <td>-113.499169</td>\n",
       "      <td>4.0</td>\n",
       "      <td>40</td>\n",
       "      <td>0</td>\n",
       "      <td>{'OutdoorSeating': 'False', 'Caters': 'True', ...</td>\n",
       "      <td>Coffee &amp; Tea, Food, Cafes, Bars, Wine Bars, Re...</td>\n",
       "      <td>{'Monday': '8:0-18:0', 'Tuesday': '8:0-18:0', ...</td>\n",
       "      <td>3.825000</td>\n",
       "    </tr>\n",
       "  </tbody>\n",
       "</table>\n",
       "</div>"
      ],
      "text/plain": [
       "              business_id                            name  \\\n",
       "0  MTSW4McQd7CbVtyjqoe9mw              St Honore Pastries   \n",
       "1  0bPLkL0QhhPO5kt1_EXmNQ            Zio's Italian Market   \n",
       "2  MUTTqe8uqyMdBl186RmNeA                        Tuna Bar   \n",
       "3  ROeacJQwBeh05Rqg7F6TCg                             BAP   \n",
       "4  WKMJwqnfZKsAae75RMP6jA  Roast Coffeehouse and Wine Bar   \n",
       "\n",
       "               address          city state postal_code   latitude   longitude  \\\n",
       "0          935 Race St  Philadelphia    PA       19107  39.955505  -75.155564   \n",
       "1        2575 E Bay Dr         Largo    FL       33771  27.916116  -82.760461   \n",
       "2          205 Race St  Philadelphia    PA       19106  39.953949  -75.143226   \n",
       "3        1224 South St  Philadelphia    PA       19147  39.943223  -75.162568   \n",
       "4  10359 104 Street NW      Edmonton    AB     T5J 1B9  53.546045 -113.499169   \n",
       "\n",
       "   stars  review_count  is_open  \\\n",
       "0    4.0            80        1   \n",
       "1    4.5           100        0   \n",
       "2    4.0           245        1   \n",
       "3    4.5           205        1   \n",
       "4    4.0            40        0   \n",
       "\n",
       "                                          attributes  \\\n",
       "0  {'RestaurantsDelivery': 'False', 'OutdoorSeati...   \n",
       "1  {'OutdoorSeating': 'False', 'RestaurantsGoodFo...   \n",
       "2  {'RestaurantsReservations': 'True', 'Restauran...   \n",
       "3  {'NoiseLevel': 'u'quiet'', 'GoodForMeal': '{'d...   \n",
       "4  {'OutdoorSeating': 'False', 'Caters': 'True', ...   \n",
       "\n",
       "                                          categories  \\\n",
       "0  Restaurants, Food, Bubble Tea, Coffee & Tea, B...   \n",
       "1        Food, Delis, Italian, Bakeries, Restaurants   \n",
       "2                  Sushi Bars, Restaurants, Japanese   \n",
       "3                                Korean, Restaurants   \n",
       "4  Coffee & Tea, Food, Cafes, Bars, Wine Bars, Re...   \n",
       "\n",
       "                                               hours  average_stars  \n",
       "0  {'Monday': '7:0-20:0', 'Tuesday': '7:0-20:0', ...       4.057471  \n",
       "1  {'Monday': '10:0-18:0', 'Tuesday': '10:0-20:0'...       4.386792  \n",
       "2  {'Tuesday': '13:30-22:0', 'Wednesday': '13:30-...       4.200000  \n",
       "3  {'Monday': '11:30-20:30', 'Tuesday': '11:30-20...       4.317308  \n",
       "4  {'Monday': '8:0-18:0', 'Tuesday': '8:0-18:0', ...       3.825000  "
      ]
     },
     "execution_count": 7,
     "metadata": {},
     "output_type": "execute_result"
    }
   ],
   "source": [
    "groupedReviewsDF=groupedReviews.reset_index()\n",
    "groupedReviewsDF=groupedReviewsDF.rename(columns={\"business_id\": \"business_id\", \"stars\" : \"average_stars\"})\n",
    "groupedReviewsDF.head()\n",
    "# join to add average stars to each business.\n",
    "restaurantsWithAverageStars=pd.merge(restaurants_df, groupedReviewsDF, how=\"inner\", on=\"business_id\")\n",
    "restaurantsWithAverageStars.head()"
   ]
  },
  {
   "cell_type": "code",
   "execution_count": 8,
   "id": "96519d76-cda8-47a0-b992-d2b5b28e0f0a",
   "metadata": {},
   "outputs": [],
   "source": [
    "droppedAttributes=restaurantsWithAverageStars.copy(deep=True)\n",
    "droppedAttributes=droppedAttributes.dropna(subset=\"attributes\")\n",
    "# droppedAttributes.head()\n",
    "\n",
    "\n",
    "# pricedRestaurants=droppedAttributes[(droppedAttributes[\"attributes\"].apply(lambda x: \"PriceRange2\" in x.keys()))]\n",
    "# pricedRestaurants.head()\n",
    "# droppedAttributes.info()"
   ]
  },
  {
   "cell_type": "code",
   "execution_count": 9,
   "id": "70f045ee-2b98-422f-b5cc-ae0347004184",
   "metadata": {},
   "outputs": [],
   "source": [
    "priceRangeList=[]\n",
    "\n",
    "for entry in droppedAttributes[\"attributes\"]:\n",
    "    priceRangeList.append(entry.get(\"RestaurantsPriceRange2\"))"
   ]
  },
  {
   "cell_type": "code",
   "execution_count": 10,
   "id": "89f50b39-4a61-4510-aa4f-1a40ed87de66",
   "metadata": {},
   "outputs": [],
   "source": [
    "droppedAttributes[\"PriceRange\"]=priceRangeList\n",
    "# droppedAttributes.info()"
   ]
  },
  {
   "cell_type": "code",
   "execution_count": 11,
   "id": "54122e69-03a8-4b5b-8d16-ab6bab2bf568",
   "metadata": {},
   "outputs": [],
   "source": [
    "restaurantsWithPriceRanges=droppedAttributes.dropna(subset=\"PriceRange\")\n",
    "restaurantsWithPriceRanges=restaurantsWithPriceRanges[restaurantsWithPriceRanges[\"PriceRange\"]!=\"None\"]\n",
    "# restaurantsWithPriceRanges.info()"
   ]
  },
  {
   "cell_type": "code",
   "execution_count": 12,
   "id": "8d532949-f426-4844-a9ad-0b722d8de98a",
   "metadata": {},
   "outputs": [
    {
     "name": "stderr",
     "output_type": "stream",
     "text": [
      "C:\\Users\\Alzier\\AppData\\Local\\Temp\\ipykernel_13764\\1947786549.py:1: FutureWarning: \n",
      "\n",
      "Passing `palette` without assigning `hue` is deprecated and will be removed in v0.14.0. Assign the `x` variable to `hue` and set `legend=False` for the same effect.\n",
      "\n",
      "  axes=sns.boxplot(data=restaurantsWithPriceRanges, x=\"PriceRange\", y=\"average_stars\", palette=\"mako\")\n"
     ]
    },
    {
     "data": {
      "image/png": "[encoded data removed]",
      "text/plain": [
       "<Figure size 640x480 with 1 Axes>"
      ]
     },
     "metadata": {},
     "output_type": "display_data"
    }
   ],
   "source": [
    "axes=sns.boxplot(data=restaurantsWithPriceRanges, x=\"PriceRange\", y=\"average_stars\", palette=\"mako\")\n",
    "axes.set_xlabel(\"Price Range (as told by Yelp)\")\n",
    "axes.set_ylabel(\"Average Review Score (1 to 5)\")\n",
    "plt.title(\"Higher Prices Correlated with Higher Reviews\")\n",
    "plt.show()"
   ]
  },
  {
   "cell_type": "code",
   "execution_count": 13,
   "id": "95c88507-ddbb-4875-9753-821ae32b3ca0",
   "metadata": {},
   "outputs": [
    {
     "data": {
      "image/png": "[encoded data removed]",
      "text/plain": [
       "<Figure size 640x480 with 1 Axes>"
      ]
     },
     "metadata": {},
     "output_type": "display_data"
    }
   ],
   "source": [
    "sns.histplot(data=restaurantsWithPriceRanges, x=\"PriceRange\", shrink=.8)\n",
    "plt.show()"
   ]
  },
  {
   "cell_type": "code",
   "execution_count": 25,
   "id": "a4df34cc-86fc-43ae-95a9-b65510870719",
   "metadata": {},
   "outputs": [
    {
     "data": {
      "text/html": [
       "<div>\n",
       "<style scoped>\n",
       "    .dataframe tbody tr th:only-of-type {\n",
       "        vertical-align: middle;\n",
       "    }\n",
       "\n",
       "    .dataframe tbody tr th {\n",
       "        vertical-align: top;\n",
       "    }\n",
       "\n",
       "    .dataframe thead th {\n",
       "        text-align: right;\n",
       "    }\n",
       "</style>\n",
       "<table border=\"1\" class=\"dataframe\">\n",
       "  <thead>\n",
       "    <tr style=\"text-align: right;\">\n",
       "      <th></th>\n",
       "      <th>average_stars</th>\n",
       "    </tr>\n",
       "    <tr>\n",
       "      <th>PriceRange</th>\n",
       "      <th></th>\n",
       "    </tr>\n",
       "  </thead>\n",
       "  <tbody>\n",
       "    <tr>\n",
       "      <th>1</th>\n",
       "      <td>3.558280</td>\n",
       "    </tr>\n",
       "    <tr>\n",
       "      <th>2</th>\n",
       "      <td>3.668735</td>\n",
       "    </tr>\n",
       "    <tr>\n",
       "      <th>3</th>\n",
       "      <td>3.819725</td>\n",
       "    </tr>\n",
       "    <tr>\n",
       "      <th>4</th>\n",
       "      <td>3.952671</td>\n",
       "    </tr>\n",
       "  </tbody>\n",
       "</table>\n",
       "</div>"
      ],
      "text/plain": [
       "            average_stars\n",
       "PriceRange               \n",
       "1                3.558280\n",
       "2                3.668735\n",
       "3                3.819725\n",
       "4                3.952671"
      ]
     },
     "execution_count": 25,
     "metadata": {},
     "output_type": "execute_result"
    }
   ],
   "source": [
    "groupedPriceRanges=restaurantsWithPriceRanges[[\"average_stars\", \"PriceRange\"]].groupby([\"PriceRange\"]).mean()\n",
    "groupedPriceRanges.head()"
   ]
  }
 ],
 "metadata": {
  "kernelspec": {
   "display_name": "Python 3 (ipykernel)",
   "language": "python",
   "name": "python3"
  },
  "language_info": {
   "codemirror_mode": {
    "name": "ipython",
    "version": 3
   },
   "file_extension": ".py",
   "mimetype": "text/x-python",
   "name": "python",
   "nbconvert_exporter": "python",
   "pygments_lexer": "ipython3",
   "version": "3.12.7"
  }
 },
 "nbformat": 4,
 "nbformat_minor": 5
}
