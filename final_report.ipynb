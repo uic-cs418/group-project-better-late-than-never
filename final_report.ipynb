{
 "cells": [
  {
   "cell_type": "markdown",
   "id": "b39bfd88",
   "metadata": {},
   "source": [
    "Text - Data\n",
    "\n",
    "TODO: (briefly) describe dataset and cleaning\n",
    "\n",
    "TODO: Please submit your cleaned data or, if it’s too large, a reference to the\n",
    "original data as well as the scripts you used to clean it"
   ]
  },
  {
   "cell_type": "code",
   "execution_count": null,
   "id": "1418639a",
   "metadata": {
    "vscode": {
     "languageId": "plaintext"
    }
   },
   "outputs": [],
   "source": [
    "## Run code to clean data"
   ]
  },
  {
   "cell_type": "markdown",
   "id": "58524099",
   "metadata": {},
   "source": [
    "Text - EDA #1 - Distribution of Reviews\n",
    "\n",
    "TODO: Describe viz and takeaways"
   ]
  },
  {
   "cell_type": "code",
   "execution_count": null,
   "id": "ff1876b7",
   "metadata": {
    "vscode": {
     "languageId": "plaintext"
    }
   },
   "outputs": [],
   "source": [
    "## Run code to output viz"
   ]
  },
  {
   "cell_type": "markdown",
   "id": "c3c451b3",
   "metadata": {},
   "source": [
    "Text - EDA #2 - Heatmap of average score prices\n",
    "\n",
    "TODO: Describe viz and takeaways"
   ]
  },
  {
   "cell_type": "code",
   "execution_count": null,
   "id": "302464ed",
   "metadata": {
    "vscode": {
     "languageId": "plaintext"
    }
   },
   "outputs": [],
   "source": [
    "## output viz #2\n",
    "\n",
    "# TODO: Harket - create .py file to output viz"
   ]
  },
  {
   "cell_type": "markdown",
   "id": "60ea3ff6",
   "metadata": {},
   "source": [
    "Text - EDA #3 - Average score vs price\n",
    "\n",
    "TODO: Describe viz and takeaways"
   ]
  },
  {
   "cell_type": "code",
   "execution_count": null,
   "id": "0a644314",
   "metadata": {
    "vscode": {
     "languageId": "plaintext"
    }
   },
   "outputs": [],
   "source": [
    "## Output viz 3\n",
    "\n",
    "## TODO: Sonya - Create .py file to output viz"
   ]
  },
  {
   "cell_type": "markdown",
   "id": "d6ef34f2",
   "metadata": {},
   "source": [
    "Text - ML #1 - Binary classification of reviews\n",
    "\n",
    "TODO: Describe study and takeaways"
   ]
  },
  {
   "cell_type": "code",
   "execution_count": null,
   "id": "5a757093",
   "metadata": {
    "vscode": {
     "languageId": "plaintext"
    }
   },
   "outputs": [],
   "source": [
    "## TODO: Load model, benchmark on test data, and evaluate on test data"
   ]
  },
  {
   "cell_type": "markdown",
   "id": "528c88d7",
   "metadata": {},
   "source": [
    "Text - ML #2 - Multi-classification of reviews\n",
    "\n",
    "TODO: Describe study and takeaways"
   ]
  },
  {
   "cell_type": "code",
   "execution_count": null,
   "id": "ebb80a73",
   "metadata": {
    "vscode": {
     "languageId": "plaintext"
    }
   },
   "outputs": [],
   "source": [
    "## TODO: Load model, benchmark on test data, and evaluate on test data"
   ]
  },
  {
   "cell_type": "markdown",
   "id": "a2e37b94",
   "metadata": {},
   "source": [
    "Text - App Demo\n",
    "\n",
    "https://yelp-recs.crowsnet.io\n",
    "\n",
    "TODO: Describe app and data pulling/cleaning process"
   ]
  },
  {
   "cell_type": "markdown",
   "id": "c57ebbac",
   "metadata": {},
   "source": [
    "Text - Results\n",
    "\n",
    "1. Yelp data is biased\n",
    "2. Yelp bias is user input, at least in part"
   ]
  }
 ],
 "metadata": {
  "language_info": {
   "name": "python"
  }
 },
 "nbformat": 4,
 "nbformat_minor": 5
}
