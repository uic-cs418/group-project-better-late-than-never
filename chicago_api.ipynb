{
 "cells": [
  {
   "cell_type": "markdown",
   "id": "febc8034-7f40-4067-9084-c6297d2fa938",
   "metadata": {},
   "source": [
    "# Chicago Yelp API"
   ]
  },
  {
   "cell_type": "markdown",
   "id": "6fa10f3f-a0a2-4b85-8a7c-4d8f25851acb",
   "metadata": {},
   "source": [
    "### imports\n"
   ]
  },
  {
   "cell_type": "code",
   "execution_count": 21,
   "id": "798bab6c-9a9a-480f-9415-ece1ca587945",
   "metadata": {},
   "outputs": [],
   "source": [
    "import requests\n",
    "import pandas as pd"
   ]
  },
  {
   "cell_type": "markdown",
   "id": "118ae7e4-47cd-4835-b4d3-e82bbbf21e82",
   "metadata": {},
   "source": [
    "### load api key"
   ]
  },
  {
   "cell_type": "code",
   "execution_count": 24,
   "id": "a258f277-0afb-4ffa-8981-920a7c427eb5",
   "metadata": {},
   "outputs": [],
   "source": [
    "with open(\"api_key_yelp.txt\", \"r\") as file:\n",
    "    api_key = file.read().strip()"
   ]
  },
  {
   "cell_type": "markdown",
   "id": "071cadb8-f8f3-4af5-b11f-2fd6cfc95e7b",
   "metadata": {},
   "source": [
    "### header and params"
   ]
  },
  {
   "cell_type": "code",
   "execution_count": 27,
   "id": "ec8c5b47-7867-49c1-9330-e37b0e16706e",
   "metadata": {},
   "outputs": [],
   "source": [
    "headers = {\"Authorization\": f\"Bearer {api_key}\"}\n",
    "url = \"https://api.yelp.com/v3/businesses/search\""
   ]
  },
  {
   "cell_type": "code",
   "execution_count": 29,
   "id": "ab6bb9ca-90a9-4270-940b-c3cffc618f72",
   "metadata": {},
   "outputs": [],
   "source": [
    "params = {\"location\": \"Chicago\", \"term\": \"restaurants\"}"
   ]
  },
  {
   "cell_type": "markdown",
   "id": "92bdc11d-1987-4ce7-bd22-7c5a0e43ffc4",
   "metadata": {},
   "source": [
    "### send req"
   ]
  },
  {
   "cell_type": "code",
   "execution_count": 32,
   "id": "702e26d7-a1b1-4e6d-b397-eb8a217a2766",
   "metadata": {},
   "outputs": [],
   "source": [
    "response = requests.get(url, headers=headers, params=params)\n",
    "data = response.json()"
   ]
  },
  {
   "cell_type": "markdown",
   "id": "2f01bf08-aea2-4f17-ad78-005945c2fb2b",
   "metadata": {},
   "source": [
    "### get df"
   ]
  },
  {
   "cell_type": "code",
   "execution_count": 35,
   "id": "40c6f895-87c7-46aa-be50-b2593c0b1ea3",
   "metadata": {},
   "outputs": [
    {
     "data": {
      "text/html": [
       "<div>\n",
       "<style scoped>\n",
       "    .dataframe tbody tr th:only-of-type {\n",
       "        vertical-align: middle;\n",
       "    }\n",
       "\n",
       "    .dataframe tbody tr th {\n",
       "        vertical-align: top;\n",
       "    }\n",
       "\n",
       "    .dataframe thead th {\n",
       "        text-align: right;\n",
       "    }\n",
       "</style>\n",
       "<table border=\"1\" class=\"dataframe\">\n",
       "  <thead>\n",
       "    <tr style=\"text-align: right;\">\n",
       "      <th></th>\n",
       "    </tr>\n",
       "  </thead>\n",
       "  <tbody>\n",
       "  </tbody>\n",
       "</table>\n",
       "</div>"
      ],
      "text/plain": [
       "Empty DataFrame\n",
       "Columns: []\n",
       "Index: []"
      ]
     },
     "execution_count": 35,
     "metadata": {},
     "output_type": "execute_result"
    }
   ],
   "source": [
    "businesses = data.get(\"businesses\", [])\n",
    "df = pd.json_normalize(businesses)\n",
    "df.head()"
   ]
  },
  {
   "cell_type": "code",
   "execution_count": 39,
   "id": "7fa9c228-ffa9-4c94-9cb9-cabefc87bd44",
   "metadata": {},
   "outputs": [
    {
     "name": "stdout",
     "output_type": "stream",
     "text": [
      "400\n",
      "{'error': {'code': 'TRIAL_EXPIRED', 'description': 'Your Trial has expired. Please upgrade to continue using the service. Visit https://www.yelp.com/developers/v3/manage_app or email at fusion@yelp.com to explore options.'}}\n"
     ]
    }
   ],
   "source": [
    "print(response.status_code)\n",
    "print(data)"
   ]
  },
  {
   "cell_type": "code",
   "execution_count": null,
   "id": "1b5a0249-af3c-49da-bb0c-ed68e9c443f8",
   "metadata": {},
   "outputs": [],
   "source": []
  }
 ],
 "metadata": {
  "kernelspec": {
   "display_name": "Python [conda env:base] *",
   "language": "python",
   "name": "conda-base-py"
  },
  "language_info": {
   "codemirror_mode": {
    "name": "ipython",
    "version": 3
   },
   "file_extension": ".py",
   "mimetype": "text/x-python",
   "name": "python",
   "nbconvert_exporter": "python",
   "pygments_lexer": "ipython3",
   "version": "3.12.7"
  }
 },
 "nbformat": 4,
 "nbformat_minor": 5
}
