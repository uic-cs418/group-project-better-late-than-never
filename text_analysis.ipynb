{
 "cells": [
  {
   "cell_type": "code",
   "execution_count": 5,
   "id": "7e1ee211-43e0-41f8-b20f-530bcf9089a5",
   "metadata": {},
   "outputs": [],
   "source": [
    "import numpy as np\n",
    "import pandas as pd\n",
    "%matplotlib inline\n",
    "import matplotlib.pyplot as plt\n",
    "import seaborn as sns\n",
    "import nltk\n",
    "import sklearn\n",
    "import string\n",
    "import warnings\n",
    "import re\n",
    "from scipy import sparse\n",
    "from IPython.display import display, Latex, Markdown\n",
    "warnings.filterwarnings('ignore')\n",
    "import data_cleaning as dc\n",
    "import review_score_analysis as rs\n",
    "import text_analysis as ml\n",
    "\n",
    "# nltk.download('stopwords')\n",
    "# nltk.download('wordnet')\n",
    "# nltk.download('averaged_perceptron_tagger')\n",
    "# nltk.download('omw-1.4')\n",
    "# nltk.download('punkt')\n",
    "# nltk.download('punkt_tab')\n",
    "# nltk.download('averaged_perceptron_tagger_eng')\n",
    "# nltk.download('tagsets_json')"
   ]
  },
  {
   "cell_type": "code",
   "execution_count": 2,
   "id": "759db37f-52ae-43a6-b78e-b2c7f321e230",
   "metadata": {},
   "outputs": [],
   "source": [
    "# Load dataframes\n",
    "chunk_size = 100_000\n",
    "restaurants_df = dc.load(\"data/filtered_restaurants.json\", chunk_size)\n",
    "reviews_df = dc.load(\"data/filtered_reviews.json\", chunk_size)\n",
    "avg_scores_df = rs.calculate_average_review_score(reviews_df)"
   ]
  },
  {
   "cell_type": "code",
   "execution_count": 3,
   "id": "5ee99de2-f185-48bb-8d38-d2bff4180f2e",
   "metadata": {},
   "outputs": [
    {
     "name": "stdout",
     "output_type": "stream",
     "text": [
      "<class 'pandas.core.frame.DataFrame'>\n",
      "RangeIndex: 4371248 entries, 0 to 4371247\n",
      "Data columns (total 10 columns):\n",
      " #   Column            Dtype         \n",
      "---  ------            -----         \n",
      " 0   review_id         object        \n",
      " 1   user_id           object        \n",
      " 2   business_id       object        \n",
      " 3   stars             int64         \n",
      " 4   useful            int64         \n",
      " 5   funny             int64         \n",
      " 6   cool              int64         \n",
      " 7   text              object        \n",
      " 8   date              datetime64[ns]\n",
      " 9   avg_review_score  float64       \n",
      "dtypes: datetime64[ns](1), float64(1), int64(4), object(4)\n",
      "memory usage: 333.5+ MB\n"
     ]
    }
   ],
   "source": [
    "avg_scores_df.info()\n"
   ]
  },
  {
   "cell_type": "code",
   "execution_count": 8,
   "id": "a21b1b2e",
   "metadata": {},
   "outputs": [
    {
     "name": "stdout",
     "output_type": "stream",
     "text": [
      "Benchmark accuracy for our model to beat: 0.94845\n",
      "Accuracy of our model: 0.9994\n"
     ]
    }
   ],
   "source": [
    "# Test functions\n",
    "ml.train_evaluate_model(avg_scores_df, 20000)"
   ]
  }
 ],
 "metadata": {
  "kernelspec": {
   "display_name": "Python 3 (ipykernel)",
   "language": "python",
   "name": "python3"
  },
  "language_info": {
   "codemirror_mode": {
    "name": "ipython",
    "version": 3
   },
   "file_extension": ".py",
   "mimetype": "text/x-python",
   "name": "python",
   "nbconvert_exporter": "python",
   "pygments_lexer": "ipython3",
   "version": "3.12.10"
  }
 },
 "nbformat": 4,
 "nbformat_minor": 5
}
