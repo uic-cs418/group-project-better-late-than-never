{
 "cells": [
  {
   "cell_type": "code",
   "execution_count": 1,
   "id": "7e1ee211-43e0-41f8-b20f-530bcf9089a5",
   "metadata": {},
   "outputs": [
    {
     "name": "stdout",
     "output_type": "stream",
     "text": [
      "cuML: Installed accelerator for sklearn.\n",
      "cuML: Successfully initialized accelerator.\n"
     ]
    }
   ],
   "source": [
    "import data_cleaning as dc\n",
    "import review_score_analysis as rs\n",
    "import text_analysis as ml"
   ]
  },
  {
   "cell_type": "code",
   "execution_count": 2,
   "id": "759db37f-52ae-43a6-b78e-b2c7f321e230",
   "metadata": {},
   "outputs": [],
   "source": [
    "# Load dataframes\n",
    "chunk_size = 100_000\n",
    "restaurants_df = dc.load(\"data/filtered_restaurants.json\", chunk_size)\n",
    "reviews_df = dc.load(\"data/filtered_reviews.json\", chunk_size)\n",
    "avg_scores_df = rs.calculate_average_review_score(reviews_df)"
   ]
  },
  {
   "cell_type": "code",
   "execution_count": null,
   "id": "5ee99de2-f185-48bb-8d38-d2bff4180f2e",
   "metadata": {},
   "outputs": [
    {
     "data": {
      "text/plain": [
       "stars\n",
       "5    1955603\n",
       "4    1058020\n",
       "3     503164\n",
       "1     484827\n",
       "2     369634\n",
       "Name: count, dtype: int64"
      ]
     },
     "execution_count": 7,
     "metadata": {},
     "output_type": "execute_result"
    }
   ],
   "source": [
    "# Sandbox code\n",
    "avg_scores_df['stars'].value_counts()\n"
   ]
  },
  {
   "cell_type": "code",
   "execution_count": null,
   "id": "a21b1b2e",
   "metadata": {},
   "outputs": [
    {
     "name": "stderr",
     "output_type": "stream",
     "text": [
      "/home/chasty2/Documents/group-project-better-late-than-never/text_analysis.py:86: SettingWithCopyWarning: \n",
      "A value is trying to be set on a copy of a slice from a DataFrame.\n",
      "Try using .loc[row_indexer,col_indexer] = value instead\n",
      "\n",
      "See the caveats in the documentation: https://pandas.pydata.org/pandas-docs/stable/user_guide/indexing.html#returning-a-view-versus-a-copy\n",
      "  df['text'] = df['text'].apply(process)\n"
     ]
    },
    {
     "name": "stdout",
     "output_type": "stream",
     "text": [
      "SVC with the linear kernel can be much faster using the specialized solver provided by LinearSVC. Consider switching to LinearSVC if tranining takes too long.\n"
     ]
    }
   ],
   "source": [
    "# Train and save large 2 label classifier\n",
    "train_X, train_y, binary_tfidf, binary_classifier = ml.train_binary_model(avg_scores_df, 50_000)\n",
    "ml.save_model(train_X, train_y, binary_tfidf, binary_classifier, \"binary\")"
   ]
  },
  {
   "cell_type": "code",
   "execution_count": null,
   "id": "875430a9",
   "metadata": {},
   "outputs": [
    {
     "ename": "NameError",
     "evalue": "name 'binary_tfidf' is not defined",
     "output_type": "error",
     "traceback": [
      "\u001b[31m---------------------------------------------------------------------------\u001b[39m",
      "\u001b[31mNameError\u001b[39m                                 Traceback (most recent call last)",
      "\u001b[36mCell\u001b[39m\u001b[36m \u001b[39m\u001b[32mIn[3]\u001b[39m\u001b[32m, line 5\u001b[39m\n\u001b[32m      2\u001b[39m train_X, train_, tfidf, binary_classifier = ml.load_model(\u001b[33m\"\u001b[39m\u001b[33mbinary\u001b[39m\u001b[33m\"\u001b[39m)\n\u001b[32m      4\u001b[39m \u001b[38;5;66;03m# Evaluate classifier with test data (using data points unused in training)\u001b[39;00m\n\u001b[32m----> \u001b[39m\u001b[32m5\u001b[39m test_X, test_y = ml.create_binary_test_data(reviews_df, \u001b[32m5_000\u001b[39m, binary_tfidf)\n\u001b[32m      6\u001b[39m ml.benchmark(test_X, test_y)\n\u001b[32m      7\u001b[39m results = ml.evaluate_classifier(binary_classifier, test_X, test_y)\n",
      "\u001b[31mNameError\u001b[39m: name 'binary_tfidf' is not defined"
     ]
    }
   ],
   "source": [
    "# Load trained model\n",
    "train_X, train_, binary_tfidf, binary_classifier = ml.load_model(\"binary\")\n",
    "\n",
    "# Evaluate classifier with test data (using data points unused in training)\n",
    "test_X, test_y = ml.create_binary_test_data(reviews_df, 5_000, binary_tfidf)\n",
    "ml.benchmark(test_X, test_y)\n",
    "results = ml.evaluate_classifier(binary_classifier, test_X, test_y)\n",
    "print(f'Model Accuracy: {results}')"
   ]
  },
  {
   "cell_type": "code",
   "execution_count": 5,
   "id": "9c68f531",
   "metadata": {},
   "outputs": [
    {
     "name": "stdout",
     "output_type": "stream",
     "text": [
      "Accuracy of linear kernel on split 0: 0.8976440942362306\n",
      "Accuracy of linear kernel on split 1: 0.89516\n",
      "Accuracy of linear kernel on split 2: 0.89684\n",
      "Accuracy of linear kernel on split 3: 0.89336\n",
      "Accuracy of rbf kernel on split 0: 0.8984840606375745\n",
      "Accuracy of rbf kernel on split 1: 0.89776\n",
      "Accuracy of rbf kernel on split 2: 0.90084\n",
      "Accuracy of rbf kernel on split 3: 0.8974\n",
      "Accuracy of poly kernel on split 0: 0.8250069997200112\n",
      "Accuracy of poly kernel on split 1: 0.81712\n",
      "Accuracy of poly kernel on split 2: 0.82616\n",
      "Accuracy of poly kernel on split 3: 0.82536\n",
      "Accuracy of sigmoid kernel on split 0: 0.8974441022359105\n",
      "Accuracy of sigmoid kernel on split 1: 0.89464\n",
      "Accuracy of sigmoid kernel on split 2: 0.89636\n",
      "Accuracy of sigmoid kernel on split 3: 0.89344\n",
      "the rbf kernel gives the highest accuracy\n"
     ]
    }
   ],
   "source": [
    "# Cross validate kernel for binary classification\n",
    "best_kernel = ml.binary_kernel_cross_validation(train_X, train_y)\n",
    "\n",
    "print(f'the {best_kernel} kernel gives the highest accuracy')"
   ]
  },
  {
   "cell_type": "code",
   "execution_count": null,
   "id": "b433a884",
   "metadata": {},
   "outputs": [],
   "source": [
    "# Save large 2-label classifier\n"
   ]
  },
  {
   "cell_type": "code",
   "execution_count": null,
   "id": "b2b14675",
   "metadata": {},
   "outputs": [
    {
     "name": "stderr",
     "output_type": "stream",
     "text": [
      "/home/chasty2/Documents/group-project-better-late-than-never/text_analysis.py:86: SettingWithCopyWarning: \n",
      "A value is trying to be set on a copy of a slice from a DataFrame.\n",
      "Try using .loc[row_indexer,col_indexer] = value instead\n",
      "\n",
      "See the caveats in the documentation: https://pandas.pydata.org/pandas-docs/stable/user_guide/indexing.html#returning-a-view-versus-a-copy\n",
      "  df['text'] = df['text'].apply(process)\n"
     ]
    }
   ],
   "source": [
    "# Train and 3-label classifier\n",
    "# GPU acceleration doesn't work on multiclass SVM, so we use less datapoints\n",
    "train_X, train_y, three_tfidf, three_classifier = ml.train_3_class_model(avg_scores_df, 50_000)\n",
    "\n"
   ]
  },
  {
   "cell_type": "code",
   "execution_count": 7,
   "id": "81b953ed",
   "metadata": {},
   "outputs": [
    {
     "name": "stderr",
     "output_type": "stream",
     "text": [
      "/home/chasty2/Documents/group-project-better-late-than-never/text_analysis.py:86: SettingWithCopyWarning: \n",
      "A value is trying to be set on a copy of a slice from a DataFrame.\n",
      "Try using .loc[row_indexer,col_indexer] = value instead\n",
      "\n",
      "See the caveats in the documentation: https://pandas.pydata.org/pandas-docs/stable/user_guide/indexing.html#returning-a-view-versus-a-copy\n",
      "  df['text'] = df['text'].apply(process)\n"
     ]
    },
    {
     "name": "stdout",
     "output_type": "stream",
     "text": [
      "Benchmark accuracy for our model to beat: 0.41831633673265345\n",
      "Model Accuracy: 0.6970605878824235\n"
     ]
    }
   ],
   "source": [
    "# Benchmark 3-way classifier\n",
    "#train_X, train_y, three_tfidf, three_classifier = ml.load_model(\"3_class\")\n",
    "\n",
    "\n",
    "# Evaluate classifier with test data\n",
    "test_X, test_y = ml.create_multiclass_test_data(avg_scores_df, 5_000, three_tfidf)\n",
    "ml.benchmark(test_X, test_y)\n",
    "results = ml.evaluate_classifier(three_classifier, test_X, test_y)\n",
    "print(f'Model Accuracy: {results}')\n",
    "\n"
   ]
  },
  {
   "cell_type": "code",
   "execution_count": null,
   "id": "8af25d2a",
   "metadata": {},
   "outputs": [
    {
     "name": "stdout",
     "output_type": "stream",
     "text": [
      "Accuracy of linear kernel on split 0: 0.7128914843406263\n",
      "Accuracy of linear kernel on split 1: 0.71448\n",
      "Accuracy of linear kernel on split 2: 0.71656\n",
      "Accuracy of linear kernel on split 3: 0.71236\n",
      "Accuracy of rbf kernel on split 0: 0.7170913163473461\n"
     ]
    }
   ],
   "source": [
    "# Cross validate kernel for binary classification\n",
    "X, y, classifier = ml.load_model(\"3_class\")\n",
    "\n",
    "best_kernel = ml.three_way_cross_validation(X, y)\n",
    "\n",
    "print(f'the {best_kernel} kernel gives the highest accuracy')"
   ]
  },
  {
   "cell_type": "code",
   "execution_count": null,
   "id": "8f26c9b3",
   "metadata": {},
   "outputs": [],
   "source": [
    "# Save 3_class model\n",
    "ml.save_model(train_X, train_y, three_tfidf, three_classifier, \"3_class\")"
   ]
  }
 ],
 "metadata": {
  "kernelspec": {
   "display_name": "Python 3 (ipykernel)",
   "language": "python",
   "name": "python3"
  },
  "language_info": {
   "codemirror_mode": {
    "name": "ipython",
    "version": 3
   },
   "file_extension": ".py",
   "mimetype": "text/x-python",
   "name": "python",
   "nbconvert_exporter": "python",
   "pygments_lexer": "ipython3",
   "version": "3.12.10"
  }
 },
 "nbformat": 4,
 "nbformat_minor": 5
}
