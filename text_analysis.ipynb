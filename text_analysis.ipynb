{
 "cells": [
  {
   "cell_type": "code",
   "execution_count": 1,
   "id": "7e1ee211-43e0-41f8-b20f-530bcf9089a5",
   "metadata": {},
   "outputs": [
    {
     "name": "stdout",
     "output_type": "stream",
     "text": [
      "cuML: Installed accelerator for sklearn.\n",
      "cuML: Successfully initialized accelerator.\n"
     ]
    }
   ],
   "source": [
    "import data_cleaning as dc\n",
    "import review_score_analysis as rs\n",
    "import text_analysis as ml"
   ]
  },
  {
   "cell_type": "code",
   "execution_count": 3,
   "id": "759db37f-52ae-43a6-b78e-b2c7f321e230",
   "metadata": {},
   "outputs": [],
   "source": [
    "# Load dataframes\n",
    "chunk_size = 100_000\n",
    "restaurants_df = dc.load(\"data/filtered_restaurants.json\", chunk_size)\n",
    "reviews_df = dc.load(\"data/filtered_reviews.json\", chunk_size)\n",
    "avg_scores_df = rs.calculate_average_review_score(reviews_df)"
   ]
  },
  {
   "cell_type": "code",
   "execution_count": null,
   "id": "5ee99de2-f185-48bb-8d38-d2bff4180f2e",
   "metadata": {},
   "outputs": [],
   "source": [
    "avg_scores_df.info()\n"
   ]
  },
  {
   "cell_type": "code",
   "execution_count": null,
   "id": "a21b1b2e",
   "metadata": {},
   "outputs": [],
   "source": [
    "# Test 2 label classification\n",
    "X, y, classifier = ml.train_model(avg_scores_df, 20000)\n",
    "ml.benchmark(X, y)\n",
    "ml.evaluate_classifier(classifier, X, y)"
   ]
  },
  {
   "cell_type": "code",
   "execution_count": 4,
   "id": "b433a884",
   "metadata": {},
   "outputs": [
    {
     "name": "stderr",
     "output_type": "stream",
     "text": [
      "/home/chasty2/Documents/group-project-better-late-than-never/text_analysis.py:84: SettingWithCopyWarning: \n",
      "A value is trying to be set on a copy of a slice from a DataFrame.\n",
      "Try using .loc[row_indexer,col_indexer] = value instead\n",
      "\n",
      "See the caveats in the documentation: https://pandas.pydata.org/pandas-docs/stable/user_guide/indexing.html#returning-a-view-versus-a-copy\n",
      "  df['text'] = df['text'].apply(process)\n"
     ]
    }
   ],
   "source": [
    "# Train and save large 2-label classifier\n",
    "X, y, classifier = ml.train_binary_model(avg_scores_df, 100_000)\n",
    "ml.save_model(X, y, classifier, \"binary\")"
   ]
  },
  {
   "cell_type": "code",
   "execution_count": null,
   "id": "b2b14675",
   "metadata": {},
   "outputs": [],
   "source": [
    "# Test 3-label classification\n",
    "X, y, classifier = ml.train_3_class_model(avg_scores_df, 10_000)\n",
    "\n",
    "ml.benchmark(X, y)\n",
    "ml.evaluate_classifier(classifier, X, y)"
   ]
  },
  {
   "cell_type": "code",
   "execution_count": null,
   "id": "81b953ed",
   "metadata": {},
   "outputs": [
    {
     "name": "stderr",
     "output_type": "stream",
     "text": [
      "/home/chasty2/Documents/group-project-better-late-than-never/text_analysis.py:84: SettingWithCopyWarning: \n",
      "A value is trying to be set on a copy of a slice from a DataFrame.\n",
      "Try using .loc[row_indexer,col_indexer] = value instead\n",
      "\n",
      "See the caveats in the documentation: https://pandas.pydata.org/pandas-docs/stable/user_guide/indexing.html#returning-a-view-versus-a-copy\n",
      "  df['text'] = df['text'].apply(process)\n"
     ]
    }
   ],
   "source": [
    "# Train and save larger 3-class model\n",
    "X, y, classifier = ml.train_3_class_model(avg_scores_df, 100_000)\n",
    "ml.save_model(X, y, classifier, \"3_class\")"
   ]
  }
 ],
 "metadata": {
  "kernelspec": {
   "display_name": "Python 3 (ipykernel)",
   "language": "python",
   "name": "python3"
  }
 },
 "nbformat": 4,
 "nbformat_minor": 5
}
