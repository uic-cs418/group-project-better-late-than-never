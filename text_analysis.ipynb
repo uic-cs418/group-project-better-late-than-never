{
 "cells": [
  {
   "cell_type": "code",
   "execution_count": 1,
   "id": "7e1ee211-43e0-41f8-b20f-530bcf9089a5",
   "metadata": {},
   "outputs": [
    {
     "name": "stdout",
     "output_type": "stream",
     "text": [
      "cuML: Installed accelerator for sklearn.\n",
      "cuML: Successfully initialized accelerator.\n"
     ]
    }
   ],
   "source": [
    "import data_cleaning as dc\n",
    "import review_score_analysis as rs\n",
    "import text_analysis as ml"
   ]
  },
  {
   "cell_type": "code",
   "execution_count": 2,
   "id": "759db37f-52ae-43a6-b78e-b2c7f321e230",
   "metadata": {},
   "outputs": [],
   "source": [
    "# Load dataframes\n",
    "chunk_size = 100_000\n",
    "restaurants_df = dc.load(\"data/filtered_restaurants.json\", chunk_size)\n",
    "reviews_df = dc.load(\"data/filtered_reviews.json\", chunk_size)\n",
    "avg_scores_df = rs.calculate_average_review_score(reviews_df)"
   ]
  },
  {
   "cell_type": "code",
   "execution_count": 4,
   "id": "5ee99de2-f185-48bb-8d38-d2bff4180f2e",
   "metadata": {},
   "outputs": [
    {
     "name": "stdout",
     "output_type": "stream",
     "text": [
      "<class 'pandas.core.frame.DataFrame'>\n",
      "RangeIndex: 4371248 entries, 0 to 4371247\n",
      "Data columns (total 10 columns):\n",
      " #   Column            Dtype         \n",
      "---  ------            -----         \n",
      " 0   review_id         object        \n",
      " 1   user_id           object        \n",
      " 2   business_id       object        \n",
      " 3   stars             int64         \n",
      " 4   useful            int64         \n",
      " 5   funny             int64         \n",
      " 6   cool              int64         \n",
      " 7   text              object        \n",
      " 8   date              datetime64[ns]\n",
      " 9   avg_review_score  float64       \n",
      "dtypes: datetime64[ns](1), float64(1), int64(4), object(4)\n",
      "memory usage: 333.5+ MB\n"
     ]
    }
   ],
   "source": [
    "avg_scores_df.info()\n"
   ]
  },
  {
   "cell_type": "code",
   "execution_count": null,
   "id": "a21b1b2e",
   "metadata": {},
   "outputs": [
    {
     "name": "stderr",
     "output_type": "stream",
     "text": [
      "/home/chasty2/Documents/group-project-better-late-than-never/text_analysis.py:85: SettingWithCopyWarning: \n",
      "A value is trying to be set on a copy of a slice from a DataFrame.\n",
      "Try using .loc[row_indexer,col_indexer] = value instead\n",
      "\n",
      "See the caveats in the documentation: https://pandas.pydata.org/pandas-docs/stable/user_guide/indexing.html#returning-a-view-versus-a-copy\n",
      "  df['text'] = df['text'].apply(process)\n"
     ]
    },
    {
     "name": "stdout",
     "output_type": "stream",
     "text": [
      "Benchmark accuracy for our model to beat: 0.9477902610486948\n",
      "Model Accuracy: 0.9974050129749351\n"
     ]
    }
   ],
   "source": [
    "# Train large 2 label classifier\n",
    "X, y, classifier = ml.train_binary_model(avg_scores_df, 200_000)\n",
    "ml.benchmark(X, y)\n",
    "results = ml.evaluate_classifier(classifier, X, y)\n",
    "print(f'Model Accuracy: {results}')"
   ]
  },
  {
   "cell_type": "code",
   "execution_count": 4,
   "id": "9c68f531",
   "metadata": {},
   "outputs": [
    {
     "name": "stdout",
     "output_type": "stream",
     "text": [
      "SVC with the linear kernel can be much faster using the specialized solver provided by LinearSVC. Consider switching to LinearSVC if tranining takes too long.\n",
      "Accuracy of linear kernel on split 0: 0.9565808683826323\n",
      "Accuracy of linear kernel on split 1: 0.95506\n",
      "Accuracy of linear kernel on split 2: 0.95446\n",
      "Accuracy of linear kernel on split 3: 0.9555\n",
      "Accuracy of rbf kernel on split 0: 0.9569608607827843\n",
      "Accuracy of rbf kernel on split 1: 0.95546\n",
      "Accuracy of rbf kernel on split 2: 0.95476\n",
      "Accuracy of rbf kernel on split 3: 0.95574\n",
      "Accuracy of poly kernel on split 0: 0.9522609547809043\n",
      "Accuracy of poly kernel on split 1: 0.95034\n",
      "Accuracy of poly kernel on split 2: 0.94942\n",
      "Accuracy of poly kernel on split 3: 0.95074\n",
      "Accuracy of sigmoid kernel on split 0: 0.9558808823823524\n",
      "Accuracy of sigmoid kernel on split 1: 0.95438\n",
      "Accuracy of sigmoid kernel on split 2: 0.9536\n",
      "Accuracy of sigmoid kernel on split 3: 0.95472\n",
      "the rbf kernel gives the highest accuracy\n"
     ]
    }
   ],
   "source": [
    "# Cross validate kernel for binary classification\n",
    "best_kernel = ml.binary_kernel_cross_validation(X, y)\n",
    "\n",
    "print(f'the {best_kernel} kernel gives the highest accuracy')"
   ]
  },
  {
   "cell_type": "code",
   "execution_count": 5,
   "id": "b433a884",
   "metadata": {},
   "outputs": [],
   "source": [
    "# Save large 2-label classifier\n",
    "\n",
    "## Note: cross-validation showed all kernels performing similarly, but \n",
    "## the poly kernel performed best with larger datasets\n",
    "ml.save_model(X, y, classifier, \"binary\")"
   ]
  },
  {
   "cell_type": "code",
   "execution_count": 3,
   "id": "b2b14675",
   "metadata": {},
   "outputs": [
    {
     "name": "stderr",
     "output_type": "stream",
     "text": [
      "/home/chasty2/Documents/group-project-better-late-than-never/text_analysis.py:85: SettingWithCopyWarning: \n",
      "A value is trying to be set on a copy of a slice from a DataFrame.\n",
      "Try using .loc[row_indexer,col_indexer] = value instead\n",
      "\n",
      "See the caveats in the documentation: https://pandas.pydata.org/pandas-docs/stable/user_guide/indexing.html#returning-a-view-versus-a-copy\n",
      "  df['text'] = df['text'].apply(process)\n"
     ]
    }
   ],
   "source": [
    "# Train and save large 3-label classifier\n",
    "# GPU acceleration doesn't work on multiclas SVM, so we use less datapoints\n",
    "X, y, classifier = ml.train_3_class_model(avg_scores_df, 100_000)\n",
    "\n",
    "ml.save_model(X, y, classifier, \"3_class\")"
   ]
  },
  {
   "cell_type": "code",
   "execution_count": 5,
   "id": "81b953ed",
   "metadata": {},
   "outputs": [
    {
     "name": "stdout",
     "output_type": "stream",
     "text": [
      "Benchmark accuracy for our model to beat: 0.5727342726572734\n",
      "Model Accuracy: 0.997040029599704\n"
     ]
    }
   ],
   "source": [
    "# Benchmark 3-way classifier\n",
    "#X, y, classifier = ml.load_model(\"3_class\")\n",
    "\n",
    "ml.benchmark(X, y)\n",
    "results = ml.evaluate_classifier(classifier, X, y)\n",
    "print(f'Model Accuracy: {results}')\n",
    "\n"
   ]
  }
 ],
 "metadata": {
  "kernelspec": {
   "display_name": "Python 3 (ipykernel)",
   "language": "python",
   "name": "python3"
  },
  "language_info": {
   "codemirror_mode": {
    "name": "ipython",
    "version": 3
   },
   "file_extension": ".py",
   "mimetype": "text/x-python",
   "name": "python",
   "nbconvert_exporter": "python",
   "pygments_lexer": "ipython3",
   "version": "3.12.10"
  }
 },
 "nbformat": 4,
 "nbformat_minor": 5
}
