{
 "cells": [
  {
   "cell_type": "code",
   "execution_count": null,
   "id": "7e1ee211-43e0-41f8-b20f-530bcf9089a5",
   "metadata": {},
   "outputs": [],
   "source": [
    "import data_cleaning as dc\n",
    "import review_score_analysis as rs\n",
    "import text_analysis as ml\n",
    "import pickle"
   ]
  },
  {
   "cell_type": "code",
   "execution_count": 2,
   "id": "759db37f-52ae-43a6-b78e-b2c7f321e230",
   "metadata": {},
   "outputs": [],
   "source": [
    "# Load dataframes\n",
    "chunk_size = 100_000\n",
    "restaurants_df = dc.load(\"data/filtered_restaurants.json\", chunk_size)\n",
    "reviews_df = dc.load(\"data/filtered_reviews.json\", chunk_size)\n",
    "avg_scores_df = rs.calculate_average_review_score(reviews_df)"
   ]
  },
  {
   "cell_type": "code",
   "execution_count": null,
   "id": "5ee99de2-f185-48bb-8d38-d2bff4180f2e",
   "metadata": {},
   "outputs": [],
   "source": [
    "avg_scores_df.info()\n"
   ]
  },
  {
   "cell_type": "code",
   "execution_count": 3,
   "id": "a21b1b2e",
   "metadata": {},
   "outputs": [
    {
     "name": "stdout",
     "output_type": "stream",
     "text": [
      "Benchmark accuracy for our model to beat: 0.94802\n",
      "Accuracy of our model: 0.9989\n"
     ]
    }
   ],
   "source": [
    "# Test functions\n",
    "ml.train_evaluate_model(avg_scores_df, 50000)"
   ]
  },
  {
   "cell_type": "code",
   "execution_count": 3,
   "id": "b433a884",
   "metadata": {},
   "outputs": [
    {
     "name": "stderr",
     "output_type": "stream",
     "text": [
      "/home/chasty2/Documents/group-project-better-late-than-never/text_analysis.py:84: SettingWithCopyWarning: \n",
      "A value is trying to be set on a copy of a slice from a DataFrame.\n",
      "Try using .loc[row_indexer,col_indexer] = value instead\n",
      "\n",
      "See the caveats in the documentation: https://pandas.pydata.org/pandas-docs/stable/user_guide/indexing.html#returning-a-view-versus-a-copy\n",
      "  df['text'] = df['text'].apply(process)\n"
     ]
    }
   ],
   "source": [
    "X, y, classifier = ml.train_model(avg_scores_df, 500_000)"
   ]
  },
  {
   "cell_type": "code",
   "execution_count": 6,
   "id": "b2b14675",
   "metadata": {},
   "outputs": [],
   "source": [
    "with open(\"data/2_label_svc.pkl\", \"wb\") as file:\n",
    "    pickle.dump(classifier, file)"
   ]
  }
 ],
 "metadata": {
  "kernelspec": {
   "display_name": "Python 3 (ipykernel)",
   "language": "python",
   "name": "python3"
  },
  "language_info": {
   "codemirror_mode": {
    "name": "ipython",
    "version": 3
   },
   "file_extension": ".py",
   "mimetype": "text/x-python",
   "name": "python",
   "nbconvert_exporter": "python",
   "pygments_lexer": "ipython3",
   "version": "3.12.10"
  }
 },
 "nbformat": 4,
 "nbformat_minor": 5
}
