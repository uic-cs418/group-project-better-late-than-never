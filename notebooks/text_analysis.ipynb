{
 "cells": [
  {
   "cell_type": "code",
   "execution_count": 1,
   "id": "7e1ee211-43e0-41f8-b20f-530bcf9089a5",
   "metadata": {},
   "outputs": [
    {
     "name": "stdout",
     "output_type": "stream",
     "text": [
      "cuML: Installed accelerator for sklearn.\n",
      "cuML: Successfully initialized accelerator.\n"
     ]
    }
   ],
   "source": [
    "import data_cleaning as dc\n",
    "import review_score_analysis as rs\n",
    "import text_analysis as ml"
   ]
  },
  {
   "cell_type": "code",
   "execution_count": 2,
   "id": "759db37f-52ae-43a6-b78e-b2c7f321e230",
   "metadata": {},
   "outputs": [],
   "source": [
    "# Load dataframes\n",
    "chunk_size = 100_000\n",
    "restaurants_df = dc.load(\"data/filtered_restaurants.json\", chunk_size)\n",
    "reviews_df = dc.load(\"data/filtered_reviews.json\", chunk_size)\n",
    "avg_scores_df = rs.calculate_average_review_score(reviews_df)"
   ]
  },
  {
   "cell_type": "code",
   "execution_count": null,
   "id": "5ee99de2-f185-48bb-8d38-d2bff4180f2e",
   "metadata": {},
   "outputs": [
    {
     "data": {
      "text/plain": [
       "stars\n",
       "5    1955603\n",
       "4    1058020\n",
       "3     503164\n",
       "1     484827\n",
       "2     369634\n",
       "Name: count, dtype: int64"
      ]
     },
     "execution_count": 7,
     "metadata": {},
     "output_type": "execute_result"
    }
   ],
   "source": [
    "# Sandbox code\n",
    "avg_scores_df['stars'].value_counts()\n"
   ]
  },
  {
   "cell_type": "code",
   "execution_count": 3,
   "id": "a21b1b2e",
   "metadata": {},
   "outputs": [
    {
     "name": "stdout",
     "output_type": "stream",
     "text": [
      "SVC with the linear kernel can be much faster using the specialized solver provided by LinearSVC. Consider switching to LinearSVC if tranining takes too long.\n"
     ]
    }
   ],
   "source": [
    "# Train and save large 2 label classifier\n",
    "train_X, train_y, binary_tfidf, binary_classifier = ml.train_binary_model(avg_scores_df, 50_000)\n",
    "ml.save_model(train_X, train_y, binary_tfidf, binary_classifier, \"binary\")"
   ]
  },
  {
   "cell_type": "code",
   "execution_count": 5,
   "id": "875430a9",
   "metadata": {},
   "outputs": [
    {
     "name": "stdout",
     "output_type": "stream",
     "text": [
      "Benchmark accuracy for our model to beat: 0.6950609878024395\n",
      "Model Accuracy: 0.9000199960007998\n"
     ]
    }
   ],
   "source": [
    "# Load trained model\n",
    "train_X, train_, binary_tfidf, binary_classifier = ml.load_model(\"binary\")\n",
    "\n",
    "# Evaluate classifier with test data (using data points unused in training)\n",
    "test_X, test_y = ml.create_binary_test_data(reviews_df, 5_000, binary_tfidf)\n",
    "ml.benchmark(test_X, test_y)\n",
    "ml.evaluate_classifier(binary_classifier, test_X, test_y)"
   ]
  },
  {
   "cell_type": "code",
   "execution_count": 5,
   "id": "9c68f531",
   "metadata": {},
   "outputs": [
    {
     "name": "stdout",
     "output_type": "stream",
     "text": [
      "Accuracy of linear kernel on split 0: 0.8976440942362306\n",
      "Accuracy of linear kernel on split 1: 0.89516\n",
      "Accuracy of linear kernel on split 2: 0.89684\n",
      "Accuracy of linear kernel on split 3: 0.89336\n",
      "Accuracy of rbf kernel on split 0: 0.8984840606375745\n",
      "Accuracy of rbf kernel on split 1: 0.89776\n",
      "Accuracy of rbf kernel on split 2: 0.90084\n",
      "Accuracy of rbf kernel on split 3: 0.8974\n",
      "Accuracy of poly kernel on split 0: 0.8250069997200112\n",
      "Accuracy of poly kernel on split 1: 0.81712\n",
      "Accuracy of poly kernel on split 2: 0.82616\n",
      "Accuracy of poly kernel on split 3: 0.82536\n",
      "Accuracy of sigmoid kernel on split 0: 0.8974441022359105\n",
      "Accuracy of sigmoid kernel on split 1: 0.89464\n",
      "Accuracy of sigmoid kernel on split 2: 0.89636\n",
      "Accuracy of sigmoid kernel on split 3: 0.89344\n",
      "the rbf kernel gives the highest accuracy\n"
     ]
    }
   ],
   "source": [
    "# Cross validate kernel for binary classification\n",
    "best_kernel = ml.binary_kernel_cross_validation(train_X, train_y)\n",
    "\n",
    "print(f'the {best_kernel} kernel gives the highest accuracy')"
   ]
  },
  {
   "cell_type": "code",
   "execution_count": 6,
   "id": "b2b14675",
   "metadata": {},
   "outputs": [],
   "source": [
    "# Train and save 3-label classifier\n",
    "# GPU acceleration doesn't work on multiclass SVM, so we use less datapoints\n",
    "train_X, train_y, three_tfidf, three_classifier = ml.train_3_class_model(avg_scores_df, 50_000)\n",
    "ml.save_model(train_X, train_y, three_tfidf, three_classifier, \"3_class\")"
   ]
  },
  {
   "cell_type": "code",
   "execution_count": 7,
   "id": "81b953ed",
   "metadata": {},
   "outputs": [
    {
     "name": "stdout",
     "output_type": "stream",
     "text": [
      "Benchmark accuracy for our model to beat: 0.41831633673265345\n",
      "Model Accuracy: 0.7034593081383723\n"
     ]
    }
   ],
   "source": [
    "# Benchmark 3-way classifier\n",
    "train_X, train_y, three_tfidf, three_classifier = ml.load_model(\"3_class\")\n",
    "\n",
    "# Evaluate classifier with test data\n",
    "test_X, test_y = ml.create_multiclass_test_data(avg_scores_df, 5_000, three_tfidf)\n",
    "ml.benchmark(test_X, test_y)\n",
    "ml.evaluate_classifier(three_classifier, test_X, test_y)"
   ]
  },
  {
   "cell_type": "code",
   "execution_count": null,
   "id": "8af25d2a",
   "metadata": {},
   "outputs": [
    {
     "name": "stdout",
     "output_type": "stream",
     "text": [
      "Model Accuracy: 0.7136229101671866\n",
      "Accuracy of linear kernel on split 0: None\n"
     ]
    }
   ],
   "source": [
    "# Cross validate kernel for binary classification\n",
    "best_kernel = ml.three_way_cross_validation(train_X, train_y)\n",
    "\n",
    "print(f'the {best_kernel} kernel gives the highest accuracy')"
   ]
  }
 ],
 "metadata": {
  "kernelspec": {
   "display_name": "Python 3 (ipykernel)",
   "language": "python",
   "name": "python3"
  },
  "language_info": {
   "codemirror_mode": {
    "name": "ipython",
    "version": 3
   },
   "file_extension": ".py",
   "mimetype": "text/x-python",
   "name": "python",
   "nbconvert_exporter": "python",
   "pygments_lexer": "ipython3",
   "version": "3.12.10"
  }
 },
 "nbformat": 4,
 "nbformat_minor": 5
}
