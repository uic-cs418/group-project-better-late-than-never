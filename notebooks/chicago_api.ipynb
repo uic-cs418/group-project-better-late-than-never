{
 "cells": [
  {
   "cell_type": "markdown",
   "id": "febc8034-7f40-4067-9084-c6297d2fa938",
   "metadata": {},
   "source": [
    "# Chicago Yelp API"
   ]
  },
  {
   "cell_type": "markdown",
   "id": "6fa10f3f-a0a2-4b85-8a7c-4d8f25851acb",
   "metadata": {},
   "source": [
    "### imports\n"
   ]
  },
  {
   "cell_type": "code",
   "execution_count": 1,
   "id": "798bab6c-9a9a-480f-9415-ece1ca587945",
   "metadata": {},
   "outputs": [],
   "source": [
    "import requests\n",
    "import pandas as pd\n",
    "import time\n",
    "import data_cleaning as dc\n",
    "import chicago_api as chi"
   ]
  },
  {
   "cell_type": "markdown",
   "id": "118ae7e4-47cd-4835-b4d3-e82bbbf21e82",
   "metadata": {},
   "source": [
    "### load api key"
   ]
  },
  {
   "cell_type": "code",
   "execution_count": null,
   "id": "a258f277-0afb-4ffa-8981-920a7c427eb5",
   "metadata": {},
   "outputs": [],
   "source": [
    "with open(\"data/api_key_yelp.txt\", \"r\") as file:\n",
    "    api_key = file.read().strip()"
   ]
  },
  {
   "cell_type": "markdown",
   "id": "071cadb8-f8f3-4af5-b11f-2fd6cfc95e7b",
   "metadata": {},
   "source": [
    "### header and params"
   ]
  },
  {
   "cell_type": "code",
   "execution_count": null,
   "id": "ec8c5b47-7867-49c1-9330-e37b0e16706e",
   "metadata": {},
   "outputs": [],
   "source": [
    "headers = {\"Authorization\": f\"Bearer {api_key}\"}\n",
    "url = \"https://api.yelp.com/v3/businesses/search\""
   ]
  },
  {
   "cell_type": "code",
   "execution_count": null,
   "id": "ab6bb9ca-90a9-4270-940b-c3cffc618f72",
   "metadata": {},
   "outputs": [],
   "source": [
    "params = {\"location\": \"Chicago, IL\", \"term\": \"food\", \"limit\": 50}"
   ]
  },
  {
   "cell_type": "markdown",
   "id": "92bdc11d-1987-4ce7-bd22-7c5a0e43ffc4",
   "metadata": {},
   "source": [
    "### send req"
   ]
  },
  {
   "cell_type": "code",
   "execution_count": null,
   "id": "00c51d44",
   "metadata": {},
   "outputs": [],
   "source": [
    "response = requests.get(url, headers=headers, params=params)\n",
    "data = response.json()\n"
   ]
  },
  {
   "cell_type": "code",
   "execution_count": null,
   "id": "dedce14c",
   "metadata": {},
   "outputs": [],
   "source": [
    "neighborhoods = []\n",
    "\n",
    "with open(\"data/chicago_neighborhoods.txt\", \"r\") as file:\n",
    "    for line in file:\n",
    "        item = line.strip()\n",
    "        neighborhoods.append(item)\n",
    "\n"
   ]
  },
  {
   "cell_type": "code",
   "execution_count": null,
   "id": "d0f008bc",
   "metadata": {},
   "outputs": [],
   "source": [
    "for item in neighborhoods[0:5]:\n",
    "    neighborhood = f'{item}, Chicago, IL'\n",
    "    \n",
    "    response = requests.get(url, headers=headers, params=params)\n",
    "    data = response.json()\n",
    "    time.sleep(1)\n",
    "    print(f'{neighborhood} has {data[\"total\"]} hits')\n",
    "\n",
    "\n"
   ]
  },
  {
   "cell_type": "code",
   "execution_count": null,
   "id": "1a3aa0c3",
   "metadata": {},
   "outputs": [],
   "source": [
    "\n",
    "neighborhoods[0:5]\n",
    "\n",
    "    "
   ]
  },
  {
   "cell_type": "code",
   "execution_count": null,
   "id": "702e26d7-a1b1-4e6d-b397-eb8a217a2766",
   "metadata": {},
   "outputs": [],
   "source": [
    "\n",
    "\n",
    "\n",
    "# businesses = []\n",
    "# #for error \"limit+offset must be <= 240.\"\n",
    "# total = 240\n",
    "# offset = 0\n",
    "# while offset < total:\n",
    "#     params[\"offset\"] = offset\n",
    "#     response = requests.get(url, headers=headers, params=params)\n",
    "#     # status ok\n",
    "#     if response.status_code == 200:\n",
    "#         data = response.json()\n",
    "#         businesses.extend(data.get(\"businesses\",[]))\n",
    "#     else:\n",
    "#         print({response.status_code})\n",
    "#         print(response.text)\n",
    "#         break\n",
    "#     offset += params[\"limit\"]\n",
    "#     time.sleep(1)\n",
    "\n",
    "def location_search_params(api_key, location, **kwargs):\n",
    "    \"\"\"\n",
    "    Construct url, headers and url_params. Reference API docs (link above) to use the arguments\n",
    "    \"\"\"\n",
    "    # What is the url endpoint for search?\n",
    "    url = \"https://api.yelp.com/v3/businesses/search\"\n",
    "    # How is Authentication performed?\n",
    "    headers = {\"Authorization\": f\"Bearer {api_key}\"}\n",
    "    # SPACES in url is problematic. How should you handle location containing spaces?\n",
    "    url_params = {\"location\": f'{location}, Chicago, IL'}\n",
    "    # Include keyword arguments in url_params\n",
    "    url_params = url_params | kwargs\n",
    "    \n",
    "    return url, headers, url_params\n",
    "\n",
    "def api_get_request(url, headers, url_params):\n",
    "    \"\"\"\n",
    "    Send a HTTP GET request and return a json response \n",
    "    \n",
    "    Args:\n",
    "        url (string): API endpoint url\n",
    "        headers (dict): A python dictionary containing HTTP headers including Authentication to be sent\n",
    "        url_params (dict): The parameters (required and optional) supported by endpoint\n",
    "        \n",
    "    Returns:\n",
    "        results (json): response as json\n",
    "    \"\"\"\n",
    "    http_method = 'GET'\n",
    "    # See requests.request?\n",
    "    response = requests.get(url, headers=headers, params=url_params)\n",
    "    return response.json()\n",
    "\n",
    "def paginated_restaurants_search_requests(api_key, location, total):\n",
    "    \"\"\"\n",
    "    Returns a list of tuples (url, headers, url_params) for paginated search of up to 240 restaurants\n",
    "    Args:\n",
    "        api_key (string): Your Yelp API Key for Authentication\n",
    "        location (string): Business Location\n",
    "        total (int): Total number of items to be fetched\n",
    "    Returns:\n",
    "        results (list): list of tuple (url, headers, url_params)\n",
    "    \"\"\"\n",
    "    # HINT: Use total, offset and limit for pagination\n",
    "    # You can reuse function location_search_params(...)\n",
    "    paginated_list = []\n",
    "\n",
    "    # Use i to query the next 15 theaters in each request\n",
    "    for i in range(0, total, 40):\n",
    "        url, headers, url_params = location_search_params(api_key, location, offset=i, limit=40, categories=\"restaurants\")\n",
    "        paginated_list.append((url, headers, url_params))\n",
    "\n",
    "    return paginated_list\n",
    "\n",
    "\n",
    "businesses = []\n",
    "\n",
    "for location in neighborhoods[0:50]:\n",
    "    # 1st request, return number of entries\n",
    "    url, headers, url_params = location_search_params(api_key, location, offset=0, limit=40, categories=\"restaurants\")\n",
    "    response = requests.get(url, headers=headers, params=url_params)\n",
    "    time.sleep(0.5)\n",
    "    if response.status_code == 200:\n",
    "        data = response.json()\n",
    "        print(f'{location} has {data[\"total\"]} hits')\n",
    "        total = min(240, data[\"total\"])\n",
    "        # create paginated list of queries\n",
    "        paginated_queries = paginated_restaurants_search_requests(api_key, location, total)\n",
    "        # run queries, append to buinesses\n",
    "        for query in paginated_queries:\n",
    "            response = api_get_request(*query)\n",
    "            businesses.extend(response.get(\"businesses\",[]))\n",
    "            time.sleep(0.4)\n",
    "    \n",
    "    # return results\n",
    "\n",
    "    "
   ]
  },
  {
   "cell_type": "markdown",
   "id": "2f01bf08-aea2-4f17-ad78-005945c2fb2b",
   "metadata": {},
   "source": [
    "### get df"
   ]
  },
  {
   "cell_type": "code",
   "execution_count": null,
   "id": "40c6f895-87c7-46aa-be50-b2593c0b1ea3",
   "metadata": {},
   "outputs": [],
   "source": [
    "df = pd.DataFrame(businesses)"
   ]
  },
  {
   "cell_type": "markdown",
   "id": "4f5cc8b5-eb4d-489d-936d-57ede469d3e5",
   "metadata": {},
   "source": [
    "## I get 200 rows max and 400 status error"
   ]
  },
  {
   "cell_type": "code",
   "execution_count": null,
   "id": "6b633e67-0eba-4c72-bd0d-a3b3e14e4c1b",
   "metadata": {
    "scrolled": true
   },
   "outputs": [],
   "source": [
    "df.shape[0]\n"
   ]
  },
  {
   "cell_type": "code",
   "execution_count": null,
   "id": "f1c103d6-4ecd-4523-84a6-5e05c9a99253",
   "metadata": {},
   "outputs": [],
   "source": [
    "df.head()"
   ]
  },
  {
   "cell_type": "code",
   "execution_count": null,
   "id": "b8c4c7b2",
   "metadata": {},
   "outputs": [],
   "source": [
    "dc.save(df, \"data/chicago_restaurants_incomplete.json\")"
   ]
  },
  {
   "cell_type": "markdown",
   "id": "fadfafe3-563d-487b-8e0a-49edfb19c311",
   "metadata": {},
   "source": [
    "# calling chicago_api.py function"
   ]
  },
  {
   "cell_type": "code",
   "execution_count": null,
   "id": "fa710fe9-9b2b-4309-bef6-8f925460e292",
   "metadata": {},
   "outputs": [],
   "source": [
    "from chicago_api import get_chicago_restaurants_df\n",
    "\n",
    "df = get_chicago_restaurants_df()\n",
    "\n",
    "print(df.shape)\n",
    "print(df.head())\n"
   ]
  },
  {
   "cell_type": "code",
   "execution_count": null,
   "id": "0d216e36-cd16-48d5-87a6-edc8b90876a0",
   "metadata": {},
   "outputs": [],
   "source": [
    "chicago_restaurants = dc.load(\"data/chicago_restaurants_incomplete.json\",100_000)"
   ]
  },
  {
   "cell_type": "code",
   "execution_count": 2,
   "id": "7fdc8423",
   "metadata": {},
   "outputs": [
    {
     "name": "stdout",
     "output_type": "stream",
     "text": [
      "Albany Park has 4900 hits\n"
     ]
    },
    {
     "name": "stderr",
     "output_type": "stream",
     "text": [
      "/home/chasty2/Documents/group-project-better-late-than-never/chicago_api.py:80: FutureWarning: The behavior of DataFrame concatenation with empty or all-NA entries is deprecated. In a future version, this will no longer exclude empty or all-NA columns when determining the result dtypes. To retain the old behavior, exclude the relevant entries before the concat operation.\n",
      "  all_restaurants = pd.concat([all_restaurants, restaurants_df], ignore_index=True)\n"
     ]
    },
    {
     "name": "stdout",
     "output_type": "stream",
     "text": [
      "Riverdale has 970 hits\n",
      "Edgewater has 1100 hits\n",
      "West Ridge has 1100 hits\n"
     ]
    }
   ],
   "source": [
    "test_df = chi.get_chicago_restaurants_df(0, 4)"
   ]
  },
  {
   "cell_type": "code",
   "execution_count": null,
   "id": "690e2329",
   "metadata": {},
   "outputs": [],
   "source": []
  }
 ],
 "metadata": {
  "kernelspec": {
   "display_name": "Python 3 (ipykernel)",
   "language": "python",
   "name": "python3"
  },
  "language_info": {
   "codemirror_mode": {
    "name": "ipython",
    "version": 3
   },
   "file_extension": ".py",
   "mimetype": "text/x-python",
   "name": "python",
   "nbconvert_exporter": "python",
   "pygments_lexer": "ipython3",
   "version": "3.12.10"
  }
 },
 "nbformat": 4,
 "nbformat_minor": 5
}
