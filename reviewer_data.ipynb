{
 "cells": [
  {
   "cell_type": "markdown",
   "id": "febc8034-7f40-4067-9084-c6297d2fa938",
   "metadata": {},
   "source": [
    "# EDA of Reviewer Data"
   ]
  },
  {
   "cell_type": "markdown",
   "id": "6fa10f3f-a0a2-4b85-8a7c-4d8f25851acb",
   "metadata": {},
   "source": [
    "### imports\n"
   ]
  },
  {
   "cell_type": "code",
   "execution_count": 1,
   "id": "798bab6c-9a9a-480f-9415-ece1ca587945",
   "metadata": {},
   "outputs": [],
   "source": [
    "import pandas as pd\n",
    "import numpy as np     \n",
    "import matplotlib.pyplot as plt \n",
    "import seaborn as sns   \n",
    "import json\n",
    "import data_cleaning as dc"
   ]
  },
  {
   "cell_type": "markdown",
   "id": "118ae7e4-47cd-4835-b4d3-e82bbbf21e82",
   "metadata": {},
   "source": [
    "### load data frames"
   ]
  },
  {
   "cell_type": "code",
   "execution_count": 2,
   "id": "a258f277-0afb-4ffa-8981-920a7c427eb5",
   "metadata": {},
   "outputs": [],
   "source": [
    "#data/yelp_academic_dataset_user.json \n",
    "#data/yelp_academic_dataset_review.json"
   ]
  },
  {
   "cell_type": "code",
   "execution_count": 3,
   "id": "ec8c5b47-7867-49c1-9330-e37b0e16706e",
   "metadata": {},
   "outputs": [
    {
     "data": {
      "text/html": [
       "<div>\n",
       "<style scoped>\n",
       "    .dataframe tbody tr th:only-of-type {\n",
       "        vertical-align: middle;\n",
       "    }\n",
       "\n",
       "    .dataframe tbody tr th {\n",
       "        vertical-align: top;\n",
       "    }\n",
       "\n",
       "    .dataframe thead th {\n",
       "        text-align: right;\n",
       "    }\n",
       "</style>\n",
       "<table border=\"1\" class=\"dataframe\">\n",
       "  <thead>\n",
       "    <tr style=\"text-align: right;\">\n",
       "      <th></th>\n",
       "      <th>user_id</th>\n",
       "      <th>name</th>\n",
       "      <th>review_count</th>\n",
       "      <th>yelping_since</th>\n",
       "      <th>useful</th>\n",
       "      <th>funny</th>\n",
       "      <th>cool</th>\n",
       "      <th>elite</th>\n",
       "      <th>friends</th>\n",
       "      <th>fans</th>\n",
       "      <th>...</th>\n",
       "      <th>compliment_more</th>\n",
       "      <th>compliment_profile</th>\n",
       "      <th>compliment_cute</th>\n",
       "      <th>compliment_list</th>\n",
       "      <th>compliment_note</th>\n",
       "      <th>compliment_plain</th>\n",
       "      <th>compliment_cool</th>\n",
       "      <th>compliment_funny</th>\n",
       "      <th>compliment_writer</th>\n",
       "      <th>compliment_photos</th>\n",
       "    </tr>\n",
       "  </thead>\n",
       "  <tbody>\n",
       "    <tr>\n",
       "      <th>0</th>\n",
       "      <td>qVc8ODYU5SZjKXVBgXdI7w</td>\n",
       "      <td>Walker</td>\n",
       "      <td>585</td>\n",
       "      <td>2007-01-25 16:47:26</td>\n",
       "      <td>7217</td>\n",
       "      <td>1259</td>\n",
       "      <td>5994</td>\n",
       "      <td>2007</td>\n",
       "      <td>NSCy54eWehBJyZdG2iE84w, pe42u7DcCH2QmI81NX-8qA...</td>\n",
       "      <td>267</td>\n",
       "      <td>...</td>\n",
       "      <td>65</td>\n",
       "      <td>55</td>\n",
       "      <td>56</td>\n",
       "      <td>18</td>\n",
       "      <td>232</td>\n",
       "      <td>844</td>\n",
       "      <td>467</td>\n",
       "      <td>467</td>\n",
       "      <td>239</td>\n",
       "      <td>180</td>\n",
       "    </tr>\n",
       "    <tr>\n",
       "      <th>1</th>\n",
       "      <td>j14WgRoU_-2ZE1aw1dXrJg</td>\n",
       "      <td>Daniel</td>\n",
       "      <td>4333</td>\n",
       "      <td>2009-01-25 04:35:42</td>\n",
       "      <td>43091</td>\n",
       "      <td>13066</td>\n",
       "      <td>27281</td>\n",
       "      <td>2009,2010,2011,2012,2013,2014,2015,2016,2017,2...</td>\n",
       "      <td>ueRPE0CX75ePGMqOFVj6IQ, 52oH4DrRvzzl8wh5UXyU0A...</td>\n",
       "      <td>3138</td>\n",
       "      <td>...</td>\n",
       "      <td>264</td>\n",
       "      <td>184</td>\n",
       "      <td>157</td>\n",
       "      <td>251</td>\n",
       "      <td>1847</td>\n",
       "      <td>7054</td>\n",
       "      <td>3131</td>\n",
       "      <td>3131</td>\n",
       "      <td>1521</td>\n",
       "      <td>1946</td>\n",
       "    </tr>\n",
       "    <tr>\n",
       "      <th>2</th>\n",
       "      <td>2WnXYQFK0hXEoTxPtV2zvg</td>\n",
       "      <td>Steph</td>\n",
       "      <td>665</td>\n",
       "      <td>2008-07-25 10:41:00</td>\n",
       "      <td>2086</td>\n",
       "      <td>1010</td>\n",
       "      <td>1003</td>\n",
       "      <td>2009,2010,2011,2012,2013</td>\n",
       "      <td>LuO3Bn4f3rlhyHIaNfTlnA, j9B4XdHUhDfTKVecyWQgyA...</td>\n",
       "      <td>52</td>\n",
       "      <td>...</td>\n",
       "      <td>13</td>\n",
       "      <td>10</td>\n",
       "      <td>17</td>\n",
       "      <td>3</td>\n",
       "      <td>66</td>\n",
       "      <td>96</td>\n",
       "      <td>119</td>\n",
       "      <td>119</td>\n",
       "      <td>35</td>\n",
       "      <td>18</td>\n",
       "    </tr>\n",
       "    <tr>\n",
       "      <th>3</th>\n",
       "      <td>SZDeASXq7o05mMNLshsdIA</td>\n",
       "      <td>Gwen</td>\n",
       "      <td>224</td>\n",
       "      <td>2005-11-29 04:38:33</td>\n",
       "      <td>512</td>\n",
       "      <td>330</td>\n",
       "      <td>299</td>\n",
       "      <td>2009,2010,2011</td>\n",
       "      <td>enx1vVPnfdNUdPho6PH_wg, 4wOcvMLtU6a9Lslggq74Vg...</td>\n",
       "      <td>28</td>\n",
       "      <td>...</td>\n",
       "      <td>4</td>\n",
       "      <td>1</td>\n",
       "      <td>6</td>\n",
       "      <td>2</td>\n",
       "      <td>12</td>\n",
       "      <td>16</td>\n",
       "      <td>26</td>\n",
       "      <td>26</td>\n",
       "      <td>10</td>\n",
       "      <td>9</td>\n",
       "    </tr>\n",
       "    <tr>\n",
       "      <th>4</th>\n",
       "      <td>hA5lMy-EnncsH4JoR-hFGQ</td>\n",
       "      <td>Karen</td>\n",
       "      <td>79</td>\n",
       "      <td>2007-01-05 19:40:59</td>\n",
       "      <td>29</td>\n",
       "      <td>15</td>\n",
       "      <td>7</td>\n",
       "      <td></td>\n",
       "      <td>PBK4q9KEEBHhFvSXCUirIw, 3FWPpM7KU1gXeOM_ZbYMbA...</td>\n",
       "      <td>1</td>\n",
       "      <td>...</td>\n",
       "      <td>1</td>\n",
       "      <td>0</td>\n",
       "      <td>0</td>\n",
       "      <td>0</td>\n",
       "      <td>1</td>\n",
       "      <td>1</td>\n",
       "      <td>0</td>\n",
       "      <td>0</td>\n",
       "      <td>0</td>\n",
       "      <td>0</td>\n",
       "    </tr>\n",
       "  </tbody>\n",
       "</table>\n",
       "<p>5 rows × 22 columns</p>\n",
       "</div>"
      ],
      "text/plain": [
       "                  user_id    name  review_count        yelping_since  useful  \\\n",
       "0  qVc8ODYU5SZjKXVBgXdI7w  Walker           585  2007-01-25 16:47:26    7217   \n",
       "1  j14WgRoU_-2ZE1aw1dXrJg  Daniel          4333  2009-01-25 04:35:42   43091   \n",
       "2  2WnXYQFK0hXEoTxPtV2zvg   Steph           665  2008-07-25 10:41:00    2086   \n",
       "3  SZDeASXq7o05mMNLshsdIA    Gwen           224  2005-11-29 04:38:33     512   \n",
       "4  hA5lMy-EnncsH4JoR-hFGQ   Karen            79  2007-01-05 19:40:59      29   \n",
       "\n",
       "   funny   cool                                              elite  \\\n",
       "0   1259   5994                                               2007   \n",
       "1  13066  27281  2009,2010,2011,2012,2013,2014,2015,2016,2017,2...   \n",
       "2   1010   1003                           2009,2010,2011,2012,2013   \n",
       "3    330    299                                     2009,2010,2011   \n",
       "4     15      7                                                      \n",
       "\n",
       "                                             friends  fans  ...  \\\n",
       "0  NSCy54eWehBJyZdG2iE84w, pe42u7DcCH2QmI81NX-8qA...   267  ...   \n",
       "1  ueRPE0CX75ePGMqOFVj6IQ, 52oH4DrRvzzl8wh5UXyU0A...  3138  ...   \n",
       "2  LuO3Bn4f3rlhyHIaNfTlnA, j9B4XdHUhDfTKVecyWQgyA...    52  ...   \n",
       "3  enx1vVPnfdNUdPho6PH_wg, 4wOcvMLtU6a9Lslggq74Vg...    28  ...   \n",
       "4  PBK4q9KEEBHhFvSXCUirIw, 3FWPpM7KU1gXeOM_ZbYMbA...     1  ...   \n",
       "\n",
       "   compliment_more  compliment_profile  compliment_cute  compliment_list  \\\n",
       "0               65                  55               56               18   \n",
       "1              264                 184              157              251   \n",
       "2               13                  10               17                3   \n",
       "3                4                   1                6                2   \n",
       "4                1                   0                0                0   \n",
       "\n",
       "   compliment_note  compliment_plain  compliment_cool  compliment_funny  \\\n",
       "0              232               844              467               467   \n",
       "1             1847              7054             3131              3131   \n",
       "2               66                96              119               119   \n",
       "3               12                16               26                26   \n",
       "4                1                 1                0                 0   \n",
       "\n",
       "   compliment_writer  compliment_photos  \n",
       "0                239                180  \n",
       "1               1521               1946  \n",
       "2                 35                 18  \n",
       "3                 10                  9  \n",
       "4                  0                  0  \n",
       "\n",
       "[5 rows x 22 columns]"
      ]
     },
     "execution_count": 3,
     "metadata": {},
     "output_type": "execute_result"
    }
   ],
   "source": [
    "users_df = dc.load(\"data/yelp_academic_dataset_user.json\", 50000)\n",
    "users_df.head()"
   ]
  },
  {
   "cell_type": "code",
   "execution_count": 5,
   "id": "ab6bb9ca-90a9-4270-940b-c3cffc618f72",
   "metadata": {},
   "outputs": [
    {
     "data": {
      "text/html": [
       "<div>\n",
       "<style scoped>\n",
       "    .dataframe tbody tr th:only-of-type {\n",
       "        vertical-align: middle;\n",
       "    }\n",
       "\n",
       "    .dataframe tbody tr th {\n",
       "        vertical-align: top;\n",
       "    }\n",
       "\n",
       "    .dataframe thead th {\n",
       "        text-align: right;\n",
       "    }\n",
       "</style>\n",
       "<table border=\"1\" class=\"dataframe\">\n",
       "  <thead>\n",
       "    <tr style=\"text-align: right;\">\n",
       "      <th></th>\n",
       "      <th>review_id</th>\n",
       "      <th>user_id</th>\n",
       "      <th>business_id</th>\n",
       "      <th>stars</th>\n",
       "      <th>useful</th>\n",
       "      <th>funny</th>\n",
       "      <th>cool</th>\n",
       "      <th>text</th>\n",
       "      <th>date</th>\n",
       "    </tr>\n",
       "  </thead>\n",
       "  <tbody>\n",
       "    <tr>\n",
       "      <th>0</th>\n",
       "      <td>KU_O5udG6zpxOg-VcAEodg</td>\n",
       "      <td>mh_-eMZ6K5RLWhZyISBhwA</td>\n",
       "      <td>XQfwVwDr-v0ZS3_CbbE5Xw</td>\n",
       "      <td>3</td>\n",
       "      <td>0</td>\n",
       "      <td>0</td>\n",
       "      <td>0</td>\n",
       "      <td>If you decide to eat here, just be aware it is...</td>\n",
       "      <td>2018-07-07 22:09:11</td>\n",
       "    </tr>\n",
       "    <tr>\n",
       "      <th>1</th>\n",
       "      <td>BiTunyQ73aT9WBnpR9DZGw</td>\n",
       "      <td>OyoGAe7OKpv6SyGZT5g77Q</td>\n",
       "      <td>7ATYjTIgM3jUlt4UM3IypQ</td>\n",
       "      <td>5</td>\n",
       "      <td>1</td>\n",
       "      <td>0</td>\n",
       "      <td>1</td>\n",
       "      <td>I've taken a lot of spin classes over the year...</td>\n",
       "      <td>2012-01-03 15:28:18</td>\n",
       "    </tr>\n",
       "    <tr>\n",
       "      <th>2</th>\n",
       "      <td>saUsX_uimxRlCVr67Z4Jig</td>\n",
       "      <td>8g_iMtfSiwikVnbP2etR0A</td>\n",
       "      <td>YjUWPpI6HXG530lwP-fb2A</td>\n",
       "      <td>3</td>\n",
       "      <td>0</td>\n",
       "      <td>0</td>\n",
       "      <td>0</td>\n",
       "      <td>Family diner. Had the buffet. Eclectic assortm...</td>\n",
       "      <td>2014-02-05 20:30:30</td>\n",
       "    </tr>\n",
       "    <tr>\n",
       "      <th>3</th>\n",
       "      <td>AqPFMleE6RsU23_auESxiA</td>\n",
       "      <td>_7bHUi9Uuf5__HHc_Q8guQ</td>\n",
       "      <td>kxX2SOes4o-D3ZQBkiMRfA</td>\n",
       "      <td>5</td>\n",
       "      <td>1</td>\n",
       "      <td>0</td>\n",
       "      <td>1</td>\n",
       "      <td>Wow!  Yummy, different,  delicious.   Our favo...</td>\n",
       "      <td>2015-01-04 00:01:03</td>\n",
       "    </tr>\n",
       "    <tr>\n",
       "      <th>4</th>\n",
       "      <td>Sx8TMOWLNuJBWer-0pcmoA</td>\n",
       "      <td>bcjbaE6dDog4jkNY91ncLQ</td>\n",
       "      <td>e4Vwtrqf-wpJfwesgvdgxQ</td>\n",
       "      <td>4</td>\n",
       "      <td>1</td>\n",
       "      <td>0</td>\n",
       "      <td>1</td>\n",
       "      <td>Cute interior and owner (?) gave us tour of up...</td>\n",
       "      <td>2017-01-14 20:54:15</td>\n",
       "    </tr>\n",
       "  </tbody>\n",
       "</table>\n",
       "</div>"
      ],
      "text/plain": [
       "                review_id                 user_id             business_id  \\\n",
       "0  KU_O5udG6zpxOg-VcAEodg  mh_-eMZ6K5RLWhZyISBhwA  XQfwVwDr-v0ZS3_CbbE5Xw   \n",
       "1  BiTunyQ73aT9WBnpR9DZGw  OyoGAe7OKpv6SyGZT5g77Q  7ATYjTIgM3jUlt4UM3IypQ   \n",
       "2  saUsX_uimxRlCVr67Z4Jig  8g_iMtfSiwikVnbP2etR0A  YjUWPpI6HXG530lwP-fb2A   \n",
       "3  AqPFMleE6RsU23_auESxiA  _7bHUi9Uuf5__HHc_Q8guQ  kxX2SOes4o-D3ZQBkiMRfA   \n",
       "4  Sx8TMOWLNuJBWer-0pcmoA  bcjbaE6dDog4jkNY91ncLQ  e4Vwtrqf-wpJfwesgvdgxQ   \n",
       "\n",
       "   stars  useful  funny  cool  \\\n",
       "0      3       0      0     0   \n",
       "1      5       1      0     1   \n",
       "2      3       0      0     0   \n",
       "3      5       1      0     1   \n",
       "4      4       1      0     1   \n",
       "\n",
       "                                                text                date  \n",
       "0  If you decide to eat here, just be aware it is... 2018-07-07 22:09:11  \n",
       "1  I've taken a lot of spin classes over the year... 2012-01-03 15:28:18  \n",
       "2  Family diner. Had the buffet. Eclectic assortm... 2014-02-05 20:30:30  \n",
       "3  Wow!  Yummy, different,  delicious.   Our favo... 2015-01-04 00:01:03  \n",
       "4  Cute interior and owner (?) gave us tour of up... 2017-01-14 20:54:15  "
      ]
     },
     "execution_count": 5,
     "metadata": {},
     "output_type": "execute_result"
    }
   ],
   "source": [
    "reviews_df = dc.load(\"data/yelp_academic_dataset_review.json\", 50000)\n",
    "reviews_df.head()"
   ]
  },
  {
   "cell_type": "markdown",
   "id": "92bdc11d-1987-4ce7-bd22-7c5a0e43ffc4",
   "metadata": {},
   "source": [
    "# Average Number of Reviews per User (Average varies based on dataset)"
   ]
  },
  {
   "cell_type": "code",
   "execution_count": 7,
   "id": "702e26d7-a1b1-4e6d-b397-eb8a217a2766",
   "metadata": {},
   "outputs": [
    {
     "name": "stdout",
     "output_type": "stream",
     "text": [
      "Average # of reviews/user from user dataset: 23.39\n",
      "Average # of reviews/reviewer from reviews dataset: 3.52\n"
     ]
    }
   ],
   "source": [
    "# the average number of reviews per reviewer from users dataset\n",
    "averageReviews = users_df[\"review_count\"].mean()\n",
    "print(f\"Average # of reviews/user from user dataset: {averageReviews:.2f}\")\n",
    "\n",
    "# the average number of reviews per reviewer from reviews dataset\n",
    "reviews_per_user = reviews_df[\"user_id\"].value_counts()\n",
    "averageReviews2 = reviews_per_user.mean()\n",
    "print(f\"Average # of reviews/reviewer from reviews dataset: {averageReviews2:.2f}\")"
   ]
  },
  {
   "cell_type": "markdown",
   "id": "2f01bf08-aea2-4f17-ad78-005945c2fb2b",
   "metadata": {},
   "source": [
    "# Top Reviewers from user df"
   ]
  },
  {
   "cell_type": "code",
   "execution_count": 20,
   "id": "40c6f895-87c7-46aa-be50-b2593c0b1ea3",
   "metadata": {},
   "outputs": [
    {
     "name": "stdout",
     "output_type": "stream",
     "text": [
      "                       user_id      name  review_count\n",
      "17169   Hi10sGSZNxQH3NLyWSZ1oA       Fox         17473\n",
      "795339  8k3aO-mPeyhbR5HUucA5aA    Victor         16978\n",
      "4723    hWDybu_KvYLSdEFzGrniTw     Bruce         16567\n",
      "606393  RtGqdDBvvBCjcu5dUqwfzA     Shila         12868\n",
      "152     P5bUL3Engv-2z6kKohB6qQ       Kim          9941\n",
      "3977    nmdkHL2JKFx55T3nq5VziA    Nijole          8363\n",
      "17727   bQCHF5rn5lMI9c5kEwCaNA   Vincent          8354\n",
      "7394    8RcEwGrFIgkt9WQ35E6SnQ    George          7738\n",
      "10873   Xwnf20FKuikiHcSpcEbpKQ   Kenneth          6766\n",
      "1229    CxDOIDnH8gp9KXzpBHJYXw  Jennifer          6679\n"
     ]
    }
   ],
   "source": [
    "topReviewers = users_df.nlargest(10, \"review_count\")[[\"user_id\", \"name\", \"review_count\"]]\n",
    "print(topReviewers)"
   ]
  },
  {
   "cell_type": "markdown",
   "id": "8afdfd5e-6b7d-45f7-986d-06182ef89264",
   "metadata": {},
   "source": [
    "# Top Reviewers from merged df"
   ]
  },
  {
   "cell_type": "code",
   "execution_count": 21,
   "id": "626c4b97-9331-4ee9-842e-6f9a62a1ef03",
   "metadata": {},
   "outputs": [
    {
     "name": "stdout",
     "output_type": "stream",
     "text": [
      "                  user_id  review_count      name\n",
      "0  _BcWyKQL16ndpBdggh2kNA          3048     Karen\n",
      "1  Xw7ZjaGfr0WNVt6s_5KZfA          1840  Marielle\n",
      "2  0Igx-a1wAstiBDerGxXk2A          1747       Jen\n",
      "3  -G7Zkl1wIWBBmD0KRy_sCw          1682    Gerald\n",
      "4  ET8n-r7glWYqZhuR6GcdNw          1653  Michelle\n",
      "5  bYENop4BuQepBjM1-BI3fA          1578    Steven\n",
      "6  1HM81n6n4iPIFU5d2Lokhw          1554   Shannon\n",
      "7  fr1Hz2acAb3OaL3l6DyKNg          1447      Boon\n",
      "8  wXdbkFZsfDR7utJvbWElyA          1396       Ken\n",
      "9  Um5bfs5DH6eizgjH3xZsvg          1391    Dianna\n"
     ]
    }
   ],
   "source": [
    "topReviewers2 = reviews_df[\"user_id\"].value_counts().nlargest(10).reset_index()\n",
    "topReviewers2.columns = [\"user_id\", \"review_count\"]\n",
    "topReviewers2 = topReviewers2.merge(users_df[[\"user_id\", \"name\"]], on=\"user_id\", how=\"left\")\n",
    "print(topReviewers2)\n"
   ]
  },
  {
   "cell_type": "markdown",
   "id": "583e54d4-a14a-4c3e-9f79-1bc24b6f2875",
   "metadata": {},
   "source": [
    "# Number of Users Grouped by their Number of Reviews"
   ]
  },
  {
   "cell_type": "code",
   "execution_count": 32,
   "id": "4919f219-6ee2-49d0-af86-8cca2af84a74",
   "metadata": {},
   "outputs": [
    {
     "data": {
      "image/png": "[encoded data removed]",
      "text/plain": [
       "<Figure size 1000x500 with 1 Axes>"
      ]
     },
     "metadata": {},
     "output_type": "display_data"
    }
   ],
   "source": [
    "bins = [0, 2, 5, 10, 20, 50, 100, 500, float(\"inf\")]\n",
    "labels = [\"1-2\", \"3-5\", \"6-10\", \"11-20\", \"21-50\", \"51-100\", \"101-500\", \"500+\"]\n",
    "users_df[\"review_category\"] = pd.cut(users_df[\"review_count\"], bins=bins, labels=labels, right=False, include_lowest=True)\n",
    "review_counts = users_df[\"review_category\"].value_counts().sort_index()\n",
    "plt.figure(figsize=(10, 5))\n",
    "sns.barplot(x=review_counts.index, y=review_counts.values)\n",
    "\n",
    "plt.xlabel(\"Ranges # Ranges\")\n",
    "plt.ylabel(\"# of Users\")\n",
    "plt.title(\"Number of Users Grouped by their Number of Reviews\")\n",
    "plt.xticks(rotation=45)\n",
    "plt.grid(axis=\"y\", linestyle=\"--\")\n",
    "\n",
    "plt.show()"
   ]
  },
  {
   "cell_type": "markdown",
   "id": "b38db7f9-f882-48fa-b0ec-e21e1aaf8b16",
   "metadata": {},
   "source": [
    "# comparing user info both datasets"
   ]
  },
  {
   "cell_type": "code",
   "execution_count": 23,
   "id": "ea15cfe8-9f8c-40a2-bafe-de10496e8163",
   "metadata": {},
   "outputs": [
    {
     "name": "stdout",
     "output_type": "stream",
     "text": [
      "Unique user_ids in users dataset: 1987897\n",
      "Unique user_ids in reviews dataset: 1987929\n"
     ]
    }
   ],
   "source": [
    "# Unique user_ids in users\n",
    "unique_users_in_users = users_df[\"user_id\"].nunique()\n",
    "print(f\"Unique user_ids in users dataset: {unique_users_in_users}\")\n",
    "\n",
    "# Unique user_ids in reviews\n",
    "unique_users_in_reviews = reviews_df[\"user_id\"].nunique()\n",
    "print(f\"Unique user_ids in reviews dataset: {unique_users_in_reviews}\")\n"
   ]
  },
  {
   "cell_type": "code",
   "execution_count": 21,
   "id": "223e5a33-0a18-4afb-a765-8b9bfd6605c2",
   "metadata": {},
   "outputs": [
    {
     "name": "stdout",
     "output_type": "stream",
     "text": [
      "Number of Same User ID's: 1987897\n"
     ]
    }
   ],
   "source": [
    "usersIDs = set(users_df[\"user_id\"])\n",
    "reviewsIDs = set(reviews_df[\"user_id\"])\n",
    "shared = usersIDs.intersection(reviewsIDs)\n",
    "print(f\"Number of Same User ID's: {len(shared)}\")"
   ]
  },
  {
   "cell_type": "markdown",
   "id": "ef56ca10-bcd8-4e2e-9770-24e4042f9aea",
   "metadata": {},
   "source": [
    "# other"
   ]
  },
  {
   "cell_type": "code",
   "execution_count": 39,
   "id": "61a3cd55-c284-4bd6-a220-aa35ff1d5269",
   "metadata": {},
   "outputs": [
    {
     "data": {
      "image/png": "[encoded data removed]",
      "text/plain": [
       "<Figure size 1000x600 with 1 Axes>"
      ]
     },
     "metadata": {},
     "output_type": "display_data"
    }
   ],
   "source": [
    "users_df[\"yelping_since\"] = pd.to_datetime(users_df[\"yelping_since\"])\n",
    "users_df[\"year\"] = users_df[\"yelping_since\"].dt.year\n",
    "\n",
    "plt.figure(figsize=(10,6))\n",
    "sns.histplot(users_df[\"year\"], bins=30)\n",
    "plt.title(\"Since when user on yelp\")\n",
    "plt.xlabel(\"Year Yelped\")\n",
    "plt.ylabel(\"# of Users\")\n",
    "plt.show()"
   ]
  },
  {
   "cell_type": "code",
   "execution_count": null,
   "id": "8166fc2a-c531-49ba-bf29-3713d1cebda3",
   "metadata": {},
   "outputs": [],
   "source": []
  }
 ],
 "metadata": {
  "kernelspec": {
   "display_name": "Python [conda env:base] *",
   "language": "python",
   "name": "conda-base-py"
  },
  "language_info": {
   "codemirror_mode": {
    "name": "ipython",
    "version": 3
   },
   "file_extension": ".py",
   "mimetype": "text/x-python",
   "name": "python",
   "nbconvert_exporter": "python",
   "pygments_lexer": "ipython3",
   "version": "3.12.7"
  }
 },
 "nbformat": 4,
 "nbformat_minor": 5
}
