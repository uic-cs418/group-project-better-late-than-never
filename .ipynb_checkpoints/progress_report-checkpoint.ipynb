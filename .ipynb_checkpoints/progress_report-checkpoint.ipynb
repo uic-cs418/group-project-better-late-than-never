{
 "cells": [
  {
   "cell_type": "code",
   "execution_count": null,
   "id": "33c5cc2b-52d6-40f1-9700-12b322e38c33",
   "metadata": {},
   "outputs": [],
   "source": []
  },
  {
   "cell_type": "code",
   "execution_count": null,
   "id": "200a727f-0f12-4c5a-b7ec-605d3a8e3134",
   "metadata": {},
   "outputs": [],
   "source": [
    "Progress Report:\n",
    "\n",
    "TODO: fill this out"
   ]
  },
  {
   "cell_type": "code",
   "execution_count": null,
   "id": "7cd6bb1f-675a-4266-865f-61cbf224acd1",
   "metadata": {},
   "outputs": [],
   "source": [
    "Changes:\n",
    "\n",
    "TODO: ^"
   ]
  },
  {
   "cell_type": "code",
   "execution_count": null,
   "id": "6e49e789-d3a5-44ca-8666-293dd5c50960",
   "metadata": {},
   "outputs": [],
   "source": [
    "Data Cleaning:\n",
    "\n"
   ]
  },
  {
   "cell_type": "code",
   "execution_count": null,
   "id": "c9e8217a-b342-49f2-a0c6-5250d22d73f3",
   "metadata": {},
   "outputs": [],
   "source": [
    "EDA"
   ]
  },
  {
   "cell_type": "code",
   "execution_count": null,
   "id": "17f525cd-2c6a-420e-98ca-17c96cc43383",
   "metadata": {},
   "outputs": [],
   "source": [
    "Visualization"
   ]
  },
  {
   "cell_type": "code",
   "execution_count": null,
   "id": "625c2fea-cb3b-4bbb-b725-682f7ae6ebf9",
   "metadata": {},
   "outputs": [],
   "source": [
    "ML Task"
   ]
  }
 ],
 "metadata": {
  "kernelspec": {
   "display_name": "Python 3 (ipykernel)",
   "language": "python",
   "name": "python3"
  },
  "language_info": {
   "codemirror_mode": {
    "name": "ipython",
    "version": 3
   },
   "file_extension": ".py",
   "mimetype": "text/x-python",
   "name": "python",
   "nbconvert_exporter": "python",
   "pygments_lexer": "ipython3",
   "version": "3.12.8"
  }
 },
 "nbformat": 4,
 "nbformat_minor": 5
}
