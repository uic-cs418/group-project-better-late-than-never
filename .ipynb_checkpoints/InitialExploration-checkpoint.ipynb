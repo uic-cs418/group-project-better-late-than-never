{
 "cells": [
  {
   "cell_type": "code",
   "execution_count": 1,
   "id": "7810d74a-22e8-470a-8cd8-0aef0b4c7b0b",
   "metadata": {},
   "outputs": [],
   "source": [
    "import pandas as pd\n",
    "import numpy as np\n",
    "import seaborn as sns\n",
    "%matplotlib inline\n",
    "import matplotlib.pyplot as plt\n",
    "import plotly.express as px"
   ]
  },
  {
   "cell_type": "code",
   "execution_count": 3,
   "id": "6106b04c-557a-476f-a43d-a9698cbbf149",
   "metadata": {},
   "outputs": [],
   "source": [
    "unfilteredData=pd.read_json(\"yelp_academic_dataset_business.json\", lines=True)"
   ]
  },
  {
   "cell_type": "code",
   "execution_count": 6,
   "id": "a277c63a-0702-489e-8a2b-9419b5569174",
   "metadata": {},
   "outputs": [],
   "source": [
    "unfilteredUsers=pd.read_json(\"yelp_academic_dataset_user.json\", lines=True)"
   ]
  },
  {
   "cell_type": "code",
   "execution_count": null,
   "id": "e1f8a300-0350-4884-b34e-e5eb3ea989dc",
   "metadata": {},
   "outputs": [],
   "source": [
    "unfilteredReviews=pd.read_json(\"yelp_academic_dataset_review.json\", lines=True)"
   ]
  },
  {
   "cell_type": "code",
   "execution_count": null,
   "id": "f59f3558-5086-4f6a-b3ec-51f36039c476",
   "metadata": {},
   "outputs": [],
   "source": [
    "unfilteredReviews"
   ]
  },
  {
   "cell_type": "code",
   "execution_count": null,
   "id": "2e5577d6-5fb1-4683-85e8-f471f0a18cff",
   "metadata": {},
   "outputs": [],
   "source": [
    "reviews=unfilteredData[\"review_count\"]"
   ]
  },
  {
   "cell_type": "code",
   "execution_count": null,
   "id": "104a1464-33f9-409b-b40c-8fb024fb47a0",
   "metadata": {},
   "outputs": [],
   "source": [
    "reviews.head()"
   ]
  },
  {
   "cell_type": "code",
   "execution_count": null,
   "id": "300432e7-8865-4e3d-8c6d-5bd3bd52230c",
   "metadata": {},
   "outputs": [],
   "source": [
    "print(reviews.cummax)"
   ]
  },
  {
   "cell_type": "code",
   "execution_count": null,
   "id": "fb4795fe-8a82-4b35-b17c-6d8b5e9c2909",
   "metadata": {},
   "outputs": [],
   "source": [
    "print(reviews.aggregate(\"max\"))"
   ]
  },
  {
   "cell_type": "code",
   "execution_count": null,
   "id": "327cff7b-ecce-41c9-af95-066647842d0c",
   "metadata": {},
   "outputs": [],
   "source": [
    "print(reviews.aggregate(\"min\"))"
   ]
  },
  {
   "cell_type": "code",
   "execution_count": null,
   "id": "90907e9c-1fbc-4084-a34e-d633c397ef9f",
   "metadata": {},
   "outputs": [],
   "source": [
    "sns.histplot(reviews)"
   ]
  },
  {
   "cell_type": "code",
   "execution_count": null,
   "id": "2a34c386-71b1-4522-bfee-2bf0997d930d",
   "metadata": {},
   "outputs": [],
   "source": [
    "plt.show()"
   ]
  },
  {
   "cell_type": "code",
   "execution_count": null,
   "id": "66a97359-9c8d-40f2-8a86-e90bacdb6380",
   "metadata": {},
   "outputs": [],
   "source": [
    "uniqueCities=unfilteredData[\"state\"].unique()"
   ]
  },
  {
   "cell_type": "code",
   "execution_count": null,
   "id": "51a853c6-3297-4ad7-a7ed-24836848541d",
   "metadata": {},
   "outputs": [],
   "source": [
    "print(uniqueCities)"
   ]
  },
  {
   "cell_type": "code",
   "execution_count": null,
   "id": "518cf9cf-76c2-476d-92f3-44bc123b7185",
   "metadata": {},
   "outputs": [],
   "source": [
    "chicagoBusinesses=unfilteredData[unfilteredData[\"city\"]=='Chicago']"
   ]
  },
  {
   "cell_type": "code",
   "execution_count": null,
   "id": "66de3900-f7ba-401d-8da9-edbc2d9b90c4",
   "metadata": {},
   "outputs": [],
   "source": [
    "illinoisReviews.head()"
   ]
  },
  {
   "cell_type": "code",
   "execution_count": null,
   "id": "a249f852-4131-4aba-9b07-44460f69e0e1",
   "metadata": {},
   "outputs": [],
   "source": [
    "print(illinoisReviews[\"city\"].unique())"
   ]
  },
  {
   "cell_type": "code",
   "execution_count": null,
   "id": "8a7af747-ea3a-412d-8265-2d2012dd2b35",
   "metadata": {},
   "outputs": [],
   "source": [
    "print(unfilteredReviewsData)"
   ]
  },
  {
   "cell_type": "code",
   "execution_count": null,
   "id": "0947a2c4-ba3c-4810-a6ff-2dbe7902bb6b",
   "metadata": {},
   "outputs": [],
   "source": []
  },
  {
   "cell_type": "code",
   "execution_count": null,
   "id": "75d4acbc-3efd-418f-aee0-a0d04bc5800e",
   "metadata": {},
   "outputs": [],
   "source": []
  },
  {
   "cell_type": "code",
   "execution_count": null,
   "id": "2825a650-4c75-4f0c-bfba-6041c4f7bb8e",
   "metadata": {},
   "outputs": [],
   "source": []
  }
 ],
 "metadata": {
  "kernelspec": {
   "display_name": "Python 3 (ipykernel)",
   "language": "python",
   "name": "python3"
  },
  "language_info": {
   "codemirror_mode": {
    "name": "ipython",
    "version": 3
   },
   "file_extension": ".py",
   "mimetype": "text/x-python",
   "name": "python",
   "nbconvert_exporter": "python",
   "pygments_lexer": "ipython3",
   "version": "3.12.7"
  }
 },
 "nbformat": 4,
 "nbformat_minor": 5
}
